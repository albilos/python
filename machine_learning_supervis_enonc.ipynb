{
  "cells": [
    {
      "cell_type": "markdown",
      "metadata": {
        "id": "SOcpo6Htx5GP"
      },
      "source": [
        "# Machine Learning with Python"
      ]
    },
    {
      "cell_type": "markdown",
      "metadata": {
        "id": "RMxZALgnx5GR"
      },
      "source": [
        "# Exemple : Location de vélos\n",
        "# Diallo Billo"
      ]
    },
    {
      "cell_type": "markdown",
      "metadata": {
        "id": "qpMXuB1Kx5GS"
      },
      "source": [
        "<p align=\"center\">\n",
        "  <img width=\"600\" height=\"200\" src=\"https://img.20mn.fr/E_l1DZgVR-K26DkVcvjpYQ/830x532_velib-paris-illustration.jpg\">\n",
        "</p>"
      ]
    },
    {
      "cell_type": "markdown",
      "metadata": {
        "id": "b-4Ce1ohx5GS"
      },
      "source": [
        "#### **Projet**\n",
        "\n",
        "Les systèmes de vélo en libre-service sont un moyen de louer des vélos où le processus d'obtention de l'adhésion, de location et de restitution des vélos est automatisé grâce à un réseau de kiosques répartis dans toute la ville. Grâce à ces systèmes, les gens peuvent louer un vélo à un endroit donné et le rendre à un autre endroit en fonction de leurs besoins. Actuellement, il existe plus de 500 programmes de vélo en libre-service dans le monde.\n",
        "\n",
        "#### **Données du fichier**\n",
        "\n",
        "* **datetime** : Date et heure en timestamp\n",
        "* **season** : 4 = été, 3 = printemps, 2 = automns, 1 = hiver \n",
        "* **holiday** : Si considéré comme vacance alors 1 sinon 0\n",
        "* **workingday** : Si le jour est ni un week end ni un jour de vacances\n",
        "* **weather** : \n",
        "    * 1: Clair, Peu de nuages, Partiellement nuageux, Partiellement nuageux\n",
        "    * 2: Brouillard + nuages, Brouillard + nuages fragmentés, Brouillard + quelques nuages, Brouillard\n",
        "    * 3: Neige légère, pluie légère + orage + nuages épars, pluie légère + nuages épars\n",
        "    * 4: Forte pluie + palettes de glace + orage + brume, neige + brouillard \n",
        "* **temp** : temperature en degré Celsius\n",
        "* **atemp** : temperature ressentis en degré Celsius\n",
        "* **humidity** : humidité relative\n",
        "* **windspeed** : vitesse du vent\n",
        "* **casual** : nombre d'utilisateurs non abonnés\n",
        "* **registered** : nombre d'utilisateurs  abonnés\n",
        "* **count** : nombre total d'utilisateurs"
      ]
    },
    {
      "cell_type": "markdown",
      "metadata": {
        "id": "f4_V1Q07x5GS"
      },
      "source": [
        "# Vérification des fichiers à disposition"
      ]
    },
    {
      "cell_type": "code",
      "execution_count": 1,
      "metadata": {
        "id": "l5DJ3xJRx5GS"
      },
      "outputs": [],
      "source": [
        "# This Python 3 environment comes with many helpful analytics libraries installed\n",
        "# It is defined by the kaggle/python docker image: https://github.com/kaggle/docker-python\n",
        "# For example, here's several helpful packages to load in \n",
        "\n",
        "import numpy as np # linear algebra\n",
        "import pandas as pd # data processing, CSV file I/O (e.g. pd.read_csv)\n",
        "import warnings\n",
        "\n",
        "warnings.filterwarnings(\"ignore\")\n",
        "# Input data files are available in the \"../input/\" directory.\n",
        "# For example, running this (by clicking run or pressing Shift+Enter) will list all files under the input directory\n",
        "\n",
        "\n",
        "\n",
        "# Any results you write to the current directory are saved as output."
      ]
    },
    {
      "cell_type": "markdown",
      "metadata": {
        "id": "9QACsum8x5GU"
      },
      "source": [
        "# Importation des packages nécessaires"
      ]
    },
    {
      "cell_type": "code",
      "execution_count": 90,
      "metadata": {
        "id": "yJikaJRfx5GU"
      },
      "outputs": [],
      "source": [
        "import numpy as np\n",
        "import pandas as pd\n",
        "import seaborn as sn\n",
        "# from scipy import stats\n",
        "from datetime import datetime\n",
        "import matplotlib.pyplot as plt\n",
        "import warnings\n",
        "\n",
        "warnings.filterwarnings(\"ignore\")"
      ]
    },
    {
      "cell_type": "markdown",
      "metadata": {
        "id": "_haiEhRmx5GU"
      },
      "source": [
        "### Question préliminaire : "
      ]
    },
    {
      "cell_type": "markdown",
      "metadata": {
        "id": "rfMpl1XCx5GV"
      },
      "source": [
        "1. Expliquer rapidement à quoi va servir Pandas?"
      ]
    },
    {
      "cell_type": "markdown",
      "metadata": {
        "id": "X29JfBIlx5GV"
      },
      "source": [
        "Réponse question 1: est un outil codé en python permettant la manipulation et l'analyse des données "
      ]
    },
    {
      "cell_type": "markdown",
      "metadata": {
        "id": "fK9uaqDax5GV"
      },
      "source": [
        "2. Expliquer rapidement à quoi va servir numpy?"
      ]
    },
    {
      "cell_type": "markdown",
      "metadata": {
        "id": "-oKxxQTbx5GV"
      },
      "source": [
        "Réponse question 2: est une bibliothèque pour le langage de programmation de python qui permet la manipulation des matrices ou tableau multidimensionnels."
      ]
    },
    {
      "cell_type": "markdown",
      "metadata": {
        "id": "jUFYLOf5x5GV"
      },
      "source": [
        "3. Expliquer rapidement à quoi va servir matplotlib?"
      ]
    },
    {
      "cell_type": "markdown",
      "metadata": {
        "id": "2llwKGXax5GV"
      },
      "source": [
        "Réponse question 3: une bibliothèque de python qui nous permet de tracer et visualiser des données sous forme graphique"
      ]
    },
    {
      "cell_type": "markdown",
      "metadata": {
        "id": "mtjnITisx5GV"
      },
      "source": [
        "4. Expliquer rapidement à quoi va servir seaborn?"
      ]
    },
    {
      "cell_type": "markdown",
      "metadata": {
        "id": "Yw8LpOcmx5GV"
      },
      "source": [
        "Réponse question 4: est une bibliothèque qui créer des graphique statistiques en python."
      ]
    },
    {
      "cell_type": "markdown",
      "metadata": {
        "id": "3QXfur__x5GV"
      },
      "source": [
        "### Déroulé des questions : "
      ]
    },
    {
      "cell_type": "markdown",
      "metadata": {
        "id": "L7O4Vrwjx5GW"
      },
      "source": [
        "**Partie 1 exploration et visualisation des données**\n",
        "\n",
        "Cette première partie permet de vérifier la qualité de la donnée qui sera utiliser pa la suite dans la partie Modélisation. Elle permet aussi de mettre en place une partie important d'un pipeline de Machine Learning, qui est le feature Engineering. Certaines variables ne sont pas exploitable directement par un modèle de ML. Il est donc nécéssaire de les retravailler afin d'en exploiter l'information pertinente. \n",
        "\n",
        "La variable à prédire et les variables explicatives doivent être maitrisés et il est donc nécessaire d'investiguer sur le typage, les valeurs manquantes ou encore leur distribution. Cette partie possède de nombreux graphiques utilisés en Data Visusalisation afin d'identifier visuellement certains phénomènes.\n",
        "\n",
        "La partie redondance de données ou encore doublons est aussi à traiter dans cette première partie.\n",
        "\n",
        "** Partie 2 modélisation**\n",
        "\n",
        "Cette seconde partie vise à mettre en place des modèles de Machine Learning. Le process ici sera de tester un modèle simple, puis des modèles plus complexes afin d'en retenir un dans chaque catégorie. La 3eme partie visera à chercher les hyper paramètres et finalement d'obtenir notre modèle final."
      ]
    },
    {
      "cell_type": "markdown",
      "metadata": {
        "id": "aPN_pRihx5GW"
      },
      "source": [
        "## Partie 1 : Visualisation et feature engineering"
      ]
    },
    {
      "cell_type": "markdown",
      "metadata": {
        "id": "R3p2gfCQx5GW"
      },
      "source": [
        "# Import et description"
      ]
    },
    {
      "cell_type": "markdown",
      "metadata": {
        "id": "g_IxnOhDx5GW"
      },
      "source": [
        "### Question 1.1\n",
        "\n",
        "Nous allons mettre un modèle de Machine Learning permettant de prédire le nombre de vélos loués par jour. Supervisé ou non supervisé?\n",
        "\n"
      ]
    },
    {
      "cell_type": "markdown",
      "metadata": {
        "id": "ta74V0q4x5GW"
      },
      "source": [
        "Réponse: modèle supervisé"
      ]
    },
    {
      "cell_type": "markdown",
      "metadata": {
        "id": "l2B1XRKzx5GW"
      },
      "source": [
        "### Question 1.2\n",
        "Est on dans une problématique de régression ou de classification?"
      ]
    },
    {
      "cell_type": "markdown",
      "metadata": {
        "id": "8NhNKBhux5GW"
      },
      "source": [
        "Réponse: "
      ]
    },
    {
      "cell_type": "markdown",
      "metadata": {
        "id": "eZQhf-cex5GW"
      },
      "source": [
        "### Question 1.3\n",
        "1. Lire le dataset vlib.csv\n",
        "2. Décrire le dataset avec .info(), .describe() \n",
        "3. Afficher la taille d'un point de vue ligne et colonne de notre dataframe\n",
        "4. Afficher les 5 premières lignes du DataFrame. Puis afficher les 5 dernières lignes du DataFrame\n",
        "5. Afficher le noms des colonnes du dataset"
      ]
    },
    {
      "cell_type": "code",
      "execution_count": 183,
      "metadata": {
        "id": "rfamzktyx5GX"
      },
      "outputs": [],
      "source": [
        "df = pd.read_csv(\"vlib.csv\")"
      ]
    },
    {
      "cell_type": "code",
      "execution_count": 184,
      "metadata": {
        "id": "_TFjq_P9x5GX",
        "outputId": "7d6fc4ff-d828-4fe0-a3f2-89b11ff45abc",
        "colab": {
          "base_uri": "https://localhost:8080/",
          "height": 443
        }
      },
      "outputs": [
        {
          "output_type": "execute_result",
          "data": {
            "text/plain": [
              "              datetime  season  holiday  workingday  weather  temp   atemp  \\\n",
              "0  2011-01-01 00:00:00       1        0           0        1  9.84  14.395   \n",
              "1  2011-01-01 01:00:00       1        0           0        1  9.02  13.635   \n",
              "2  2011-01-01 02:00:00       1        0           0        1  9.02  13.635   \n",
              "3  2011-01-01 03:00:00       1        0           0        1  9.84  14.395   \n",
              "4  2011-01-01 04:00:00       1        0           0        1  9.84  14.395   \n",
              "\n",
              "   humidity  windspeed  casual  registered  count  \n",
              "0        81        0.0       3          13     16  \n",
              "1        80        0.0       8          32     40  \n",
              "2        80        0.0       5          27     32  \n",
              "3        75        0.0       3          10     13  \n",
              "4        75        0.0       0           1      1  "
            ],
            "text/html": [
              "\n",
              "  <div id=\"df-e72ba61b-824a-4b21-a2f7-1b57b5586572\">\n",
              "    <div class=\"colab-df-container\">\n",
              "      <div>\n",
              "<style scoped>\n",
              "    .dataframe tbody tr th:only-of-type {\n",
              "        vertical-align: middle;\n",
              "    }\n",
              "\n",
              "    .dataframe tbody tr th {\n",
              "        vertical-align: top;\n",
              "    }\n",
              "\n",
              "    .dataframe thead th {\n",
              "        text-align: right;\n",
              "    }\n",
              "</style>\n",
              "<table border=\"1\" class=\"dataframe\">\n",
              "  <thead>\n",
              "    <tr style=\"text-align: right;\">\n",
              "      <th></th>\n",
              "      <th>datetime</th>\n",
              "      <th>season</th>\n",
              "      <th>holiday</th>\n",
              "      <th>workingday</th>\n",
              "      <th>weather</th>\n",
              "      <th>temp</th>\n",
              "      <th>atemp</th>\n",
              "      <th>humidity</th>\n",
              "      <th>windspeed</th>\n",
              "      <th>casual</th>\n",
              "      <th>registered</th>\n",
              "      <th>count</th>\n",
              "    </tr>\n",
              "  </thead>\n",
              "  <tbody>\n",
              "    <tr>\n",
              "      <th>0</th>\n",
              "      <td>2011-01-01 00:00:00</td>\n",
              "      <td>1</td>\n",
              "      <td>0</td>\n",
              "      <td>0</td>\n",
              "      <td>1</td>\n",
              "      <td>9.84</td>\n",
              "      <td>14.395</td>\n",
              "      <td>81</td>\n",
              "      <td>0.0</td>\n",
              "      <td>3</td>\n",
              "      <td>13</td>\n",
              "      <td>16</td>\n",
              "    </tr>\n",
              "    <tr>\n",
              "      <th>1</th>\n",
              "      <td>2011-01-01 01:00:00</td>\n",
              "      <td>1</td>\n",
              "      <td>0</td>\n",
              "      <td>0</td>\n",
              "      <td>1</td>\n",
              "      <td>9.02</td>\n",
              "      <td>13.635</td>\n",
              "      <td>80</td>\n",
              "      <td>0.0</td>\n",
              "      <td>8</td>\n",
              "      <td>32</td>\n",
              "      <td>40</td>\n",
              "    </tr>\n",
              "    <tr>\n",
              "      <th>2</th>\n",
              "      <td>2011-01-01 02:00:00</td>\n",
              "      <td>1</td>\n",
              "      <td>0</td>\n",
              "      <td>0</td>\n",
              "      <td>1</td>\n",
              "      <td>9.02</td>\n",
              "      <td>13.635</td>\n",
              "      <td>80</td>\n",
              "      <td>0.0</td>\n",
              "      <td>5</td>\n",
              "      <td>27</td>\n",
              "      <td>32</td>\n",
              "    </tr>\n",
              "    <tr>\n",
              "      <th>3</th>\n",
              "      <td>2011-01-01 03:00:00</td>\n",
              "      <td>1</td>\n",
              "      <td>0</td>\n",
              "      <td>0</td>\n",
              "      <td>1</td>\n",
              "      <td>9.84</td>\n",
              "      <td>14.395</td>\n",
              "      <td>75</td>\n",
              "      <td>0.0</td>\n",
              "      <td>3</td>\n",
              "      <td>10</td>\n",
              "      <td>13</td>\n",
              "    </tr>\n",
              "    <tr>\n",
              "      <th>4</th>\n",
              "      <td>2011-01-01 04:00:00</td>\n",
              "      <td>1</td>\n",
              "      <td>0</td>\n",
              "      <td>0</td>\n",
              "      <td>1</td>\n",
              "      <td>9.84</td>\n",
              "      <td>14.395</td>\n",
              "      <td>75</td>\n",
              "      <td>0.0</td>\n",
              "      <td>0</td>\n",
              "      <td>1</td>\n",
              "      <td>1</td>\n",
              "    </tr>\n",
              "  </tbody>\n",
              "</table>\n",
              "</div>\n",
              "      <button class=\"colab-df-convert\" onclick=\"convertToInteractive('df-e72ba61b-824a-4b21-a2f7-1b57b5586572')\"\n",
              "              title=\"Convert this dataframe to an interactive table.\"\n",
              "              style=\"display:none;\">\n",
              "        \n",
              "  <svg xmlns=\"http://www.w3.org/2000/svg\" height=\"24px\"viewBox=\"0 0 24 24\"\n",
              "       width=\"24px\">\n",
              "    <path d=\"M0 0h24v24H0V0z\" fill=\"none\"/>\n",
              "    <path d=\"M18.56 5.44l.94 2.06.94-2.06 2.06-.94-2.06-.94-.94-2.06-.94 2.06-2.06.94zm-11 1L8.5 8.5l.94-2.06 2.06-.94-2.06-.94L8.5 2.5l-.94 2.06-2.06.94zm10 10l.94 2.06.94-2.06 2.06-.94-2.06-.94-.94-2.06-.94 2.06-2.06.94z\"/><path d=\"M17.41 7.96l-1.37-1.37c-.4-.4-.92-.59-1.43-.59-.52 0-1.04.2-1.43.59L10.3 9.45l-7.72 7.72c-.78.78-.78 2.05 0 2.83L4 21.41c.39.39.9.59 1.41.59.51 0 1.02-.2 1.41-.59l7.78-7.78 2.81-2.81c.8-.78.8-2.07 0-2.86zM5.41 20L4 18.59l7.72-7.72 1.47 1.35L5.41 20z\"/>\n",
              "  </svg>\n",
              "      </button>\n",
              "      \n",
              "  <style>\n",
              "    .colab-df-container {\n",
              "      display:flex;\n",
              "      flex-wrap:wrap;\n",
              "      gap: 12px;\n",
              "    }\n",
              "\n",
              "    .colab-df-convert {\n",
              "      background-color: #E8F0FE;\n",
              "      border: none;\n",
              "      border-radius: 50%;\n",
              "      cursor: pointer;\n",
              "      display: none;\n",
              "      fill: #1967D2;\n",
              "      height: 32px;\n",
              "      padding: 0 0 0 0;\n",
              "      width: 32px;\n",
              "    }\n",
              "\n",
              "    .colab-df-convert:hover {\n",
              "      background-color: #E2EBFA;\n",
              "      box-shadow: 0px 1px 2px rgba(60, 64, 67, 0.3), 0px 1px 3px 1px rgba(60, 64, 67, 0.15);\n",
              "      fill: #174EA6;\n",
              "    }\n",
              "\n",
              "    [theme=dark] .colab-df-convert {\n",
              "      background-color: #3B4455;\n",
              "      fill: #D2E3FC;\n",
              "    }\n",
              "\n",
              "    [theme=dark] .colab-df-convert:hover {\n",
              "      background-color: #434B5C;\n",
              "      box-shadow: 0px 1px 3px 1px rgba(0, 0, 0, 0.15);\n",
              "      filter: drop-shadow(0px 1px 2px rgba(0, 0, 0, 0.3));\n",
              "      fill: #FFFFFF;\n",
              "    }\n",
              "  </style>\n",
              "\n",
              "      <script>\n",
              "        const buttonEl =\n",
              "          document.querySelector('#df-e72ba61b-824a-4b21-a2f7-1b57b5586572 button.colab-df-convert');\n",
              "        buttonEl.style.display =\n",
              "          google.colab.kernel.accessAllowed ? 'block' : 'none';\n",
              "\n",
              "        async function convertToInteractive(key) {\n",
              "          const element = document.querySelector('#df-e72ba61b-824a-4b21-a2f7-1b57b5586572');\n",
              "          const dataTable =\n",
              "            await google.colab.kernel.invokeFunction('convertToInteractive',\n",
              "                                                     [key], {});\n",
              "          if (!dataTable) return;\n",
              "\n",
              "          const docLinkHtml = 'Like what you see? Visit the ' +\n",
              "            '<a target=\"_blank\" href=https://colab.research.google.com/notebooks/data_table.ipynb>data table notebook</a>'\n",
              "            + ' to learn more about interactive tables.';\n",
              "          element.innerHTML = '';\n",
              "          dataTable['output_type'] = 'display_data';\n",
              "          await google.colab.output.renderOutput(dataTable, element);\n",
              "          const docLink = document.createElement('div');\n",
              "          docLink.innerHTML = docLinkHtml;\n",
              "          element.appendChild(docLink);\n",
              "        }\n",
              "      </script>\n",
              "    </div>\n",
              "  </div>\n",
              "  "
            ]
          },
          "metadata": {},
          "execution_count": 184
        }
      ],
      "source": [
        "df.head()"
      ]
    },
    {
      "cell_type": "code",
      "execution_count": 185,
      "metadata": {
        "id": "2aFJGwZLx5GX",
        "outputId": "bbf580e5-450f-4032-fb38-fa8b3ab64805",
        "colab": {
          "base_uri": "https://localhost:8080/",
          "height": 443
        }
      },
      "outputs": [
        {
          "output_type": "execute_result",
          "data": {
            "text/plain": [
              "                  datetime  season  holiday  workingday  weather   temp  \\\n",
              "10881  2012-12-19 19:00:00       4        0           1        1  15.58   \n",
              "10882  2012-12-19 20:00:00       4        0           1        1  14.76   \n",
              "10883  2012-12-19 21:00:00       4        0           1        1  13.94   \n",
              "10884  2012-12-19 22:00:00       4        0           1        1  13.94   \n",
              "10885  2012-12-19 23:00:00       4        0           1        1  13.12   \n",
              "\n",
              "        atemp  humidity  windspeed  casual  registered  count  \n",
              "10881  19.695        50    26.0027       7         329    336  \n",
              "10882  17.425        57    15.0013      10         231    241  \n",
              "10883  15.910        61    15.0013       4         164    168  \n",
              "10884  17.425        61     6.0032      12         117    129  \n",
              "10885  16.665        66     8.9981       4          84     88  "
            ],
            "text/html": [
              "\n",
              "  <div id=\"df-9209d866-7566-4a6d-8cac-d1eb6fff0674\">\n",
              "    <div class=\"colab-df-container\">\n",
              "      <div>\n",
              "<style scoped>\n",
              "    .dataframe tbody tr th:only-of-type {\n",
              "        vertical-align: middle;\n",
              "    }\n",
              "\n",
              "    .dataframe tbody tr th {\n",
              "        vertical-align: top;\n",
              "    }\n",
              "\n",
              "    .dataframe thead th {\n",
              "        text-align: right;\n",
              "    }\n",
              "</style>\n",
              "<table border=\"1\" class=\"dataframe\">\n",
              "  <thead>\n",
              "    <tr style=\"text-align: right;\">\n",
              "      <th></th>\n",
              "      <th>datetime</th>\n",
              "      <th>season</th>\n",
              "      <th>holiday</th>\n",
              "      <th>workingday</th>\n",
              "      <th>weather</th>\n",
              "      <th>temp</th>\n",
              "      <th>atemp</th>\n",
              "      <th>humidity</th>\n",
              "      <th>windspeed</th>\n",
              "      <th>casual</th>\n",
              "      <th>registered</th>\n",
              "      <th>count</th>\n",
              "    </tr>\n",
              "  </thead>\n",
              "  <tbody>\n",
              "    <tr>\n",
              "      <th>10881</th>\n",
              "      <td>2012-12-19 19:00:00</td>\n",
              "      <td>4</td>\n",
              "      <td>0</td>\n",
              "      <td>1</td>\n",
              "      <td>1</td>\n",
              "      <td>15.58</td>\n",
              "      <td>19.695</td>\n",
              "      <td>50</td>\n",
              "      <td>26.0027</td>\n",
              "      <td>7</td>\n",
              "      <td>329</td>\n",
              "      <td>336</td>\n",
              "    </tr>\n",
              "    <tr>\n",
              "      <th>10882</th>\n",
              "      <td>2012-12-19 20:00:00</td>\n",
              "      <td>4</td>\n",
              "      <td>0</td>\n",
              "      <td>1</td>\n",
              "      <td>1</td>\n",
              "      <td>14.76</td>\n",
              "      <td>17.425</td>\n",
              "      <td>57</td>\n",
              "      <td>15.0013</td>\n",
              "      <td>10</td>\n",
              "      <td>231</td>\n",
              "      <td>241</td>\n",
              "    </tr>\n",
              "    <tr>\n",
              "      <th>10883</th>\n",
              "      <td>2012-12-19 21:00:00</td>\n",
              "      <td>4</td>\n",
              "      <td>0</td>\n",
              "      <td>1</td>\n",
              "      <td>1</td>\n",
              "      <td>13.94</td>\n",
              "      <td>15.910</td>\n",
              "      <td>61</td>\n",
              "      <td>15.0013</td>\n",
              "      <td>4</td>\n",
              "      <td>164</td>\n",
              "      <td>168</td>\n",
              "    </tr>\n",
              "    <tr>\n",
              "      <th>10884</th>\n",
              "      <td>2012-12-19 22:00:00</td>\n",
              "      <td>4</td>\n",
              "      <td>0</td>\n",
              "      <td>1</td>\n",
              "      <td>1</td>\n",
              "      <td>13.94</td>\n",
              "      <td>17.425</td>\n",
              "      <td>61</td>\n",
              "      <td>6.0032</td>\n",
              "      <td>12</td>\n",
              "      <td>117</td>\n",
              "      <td>129</td>\n",
              "    </tr>\n",
              "    <tr>\n",
              "      <th>10885</th>\n",
              "      <td>2012-12-19 23:00:00</td>\n",
              "      <td>4</td>\n",
              "      <td>0</td>\n",
              "      <td>1</td>\n",
              "      <td>1</td>\n",
              "      <td>13.12</td>\n",
              "      <td>16.665</td>\n",
              "      <td>66</td>\n",
              "      <td>8.9981</td>\n",
              "      <td>4</td>\n",
              "      <td>84</td>\n",
              "      <td>88</td>\n",
              "    </tr>\n",
              "  </tbody>\n",
              "</table>\n",
              "</div>\n",
              "      <button class=\"colab-df-convert\" onclick=\"convertToInteractive('df-9209d866-7566-4a6d-8cac-d1eb6fff0674')\"\n",
              "              title=\"Convert this dataframe to an interactive table.\"\n",
              "              style=\"display:none;\">\n",
              "        \n",
              "  <svg xmlns=\"http://www.w3.org/2000/svg\" height=\"24px\"viewBox=\"0 0 24 24\"\n",
              "       width=\"24px\">\n",
              "    <path d=\"M0 0h24v24H0V0z\" fill=\"none\"/>\n",
              "    <path d=\"M18.56 5.44l.94 2.06.94-2.06 2.06-.94-2.06-.94-.94-2.06-.94 2.06-2.06.94zm-11 1L8.5 8.5l.94-2.06 2.06-.94-2.06-.94L8.5 2.5l-.94 2.06-2.06.94zm10 10l.94 2.06.94-2.06 2.06-.94-2.06-.94-.94-2.06-.94 2.06-2.06.94z\"/><path d=\"M17.41 7.96l-1.37-1.37c-.4-.4-.92-.59-1.43-.59-.52 0-1.04.2-1.43.59L10.3 9.45l-7.72 7.72c-.78.78-.78 2.05 0 2.83L4 21.41c.39.39.9.59 1.41.59.51 0 1.02-.2 1.41-.59l7.78-7.78 2.81-2.81c.8-.78.8-2.07 0-2.86zM5.41 20L4 18.59l7.72-7.72 1.47 1.35L5.41 20z\"/>\n",
              "  </svg>\n",
              "      </button>\n",
              "      \n",
              "  <style>\n",
              "    .colab-df-container {\n",
              "      display:flex;\n",
              "      flex-wrap:wrap;\n",
              "      gap: 12px;\n",
              "    }\n",
              "\n",
              "    .colab-df-convert {\n",
              "      background-color: #E8F0FE;\n",
              "      border: none;\n",
              "      border-radius: 50%;\n",
              "      cursor: pointer;\n",
              "      display: none;\n",
              "      fill: #1967D2;\n",
              "      height: 32px;\n",
              "      padding: 0 0 0 0;\n",
              "      width: 32px;\n",
              "    }\n",
              "\n",
              "    .colab-df-convert:hover {\n",
              "      background-color: #E2EBFA;\n",
              "      box-shadow: 0px 1px 2px rgba(60, 64, 67, 0.3), 0px 1px 3px 1px rgba(60, 64, 67, 0.15);\n",
              "      fill: #174EA6;\n",
              "    }\n",
              "\n",
              "    [theme=dark] .colab-df-convert {\n",
              "      background-color: #3B4455;\n",
              "      fill: #D2E3FC;\n",
              "    }\n",
              "\n",
              "    [theme=dark] .colab-df-convert:hover {\n",
              "      background-color: #434B5C;\n",
              "      box-shadow: 0px 1px 3px 1px rgba(0, 0, 0, 0.15);\n",
              "      filter: drop-shadow(0px 1px 2px rgba(0, 0, 0, 0.3));\n",
              "      fill: #FFFFFF;\n",
              "    }\n",
              "  </style>\n",
              "\n",
              "      <script>\n",
              "        const buttonEl =\n",
              "          document.querySelector('#df-9209d866-7566-4a6d-8cac-d1eb6fff0674 button.colab-df-convert');\n",
              "        buttonEl.style.display =\n",
              "          google.colab.kernel.accessAllowed ? 'block' : 'none';\n",
              "\n",
              "        async function convertToInteractive(key) {\n",
              "          const element = document.querySelector('#df-9209d866-7566-4a6d-8cac-d1eb6fff0674');\n",
              "          const dataTable =\n",
              "            await google.colab.kernel.invokeFunction('convertToInteractive',\n",
              "                                                     [key], {});\n",
              "          if (!dataTable) return;\n",
              "\n",
              "          const docLinkHtml = 'Like what you see? Visit the ' +\n",
              "            '<a target=\"_blank\" href=https://colab.research.google.com/notebooks/data_table.ipynb>data table notebook</a>'\n",
              "            + ' to learn more about interactive tables.';\n",
              "          element.innerHTML = '';\n",
              "          dataTable['output_type'] = 'display_data';\n",
              "          await google.colab.output.renderOutput(dataTable, element);\n",
              "          const docLink = document.createElement('div');\n",
              "          docLink.innerHTML = docLinkHtml;\n",
              "          element.appendChild(docLink);\n",
              "        }\n",
              "      </script>\n",
              "    </div>\n",
              "  </div>\n",
              "  "
            ]
          },
          "metadata": {},
          "execution_count": 185
        }
      ],
      "source": [
        "df.tail()"
      ]
    },
    {
      "cell_type": "code",
      "execution_count": 186,
      "metadata": {
        "id": "_apH8PEex5GX",
        "outputId": "dcf88222-e572-43e1-8bb3-0edd156117c6",
        "colab": {
          "base_uri": "https://localhost:8080/"
        }
      },
      "outputs": [
        {
          "output_type": "stream",
          "name": "stdout",
          "text": [
            "<class 'pandas.core.frame.DataFrame'>\n",
            "RangeIndex: 10886 entries, 0 to 10885\n",
            "Data columns (total 12 columns):\n",
            " #   Column      Non-Null Count  Dtype  \n",
            "---  ------      --------------  -----  \n",
            " 0   datetime    10886 non-null  object \n",
            " 1   season      10886 non-null  int64  \n",
            " 2   holiday     10886 non-null  int64  \n",
            " 3   workingday  10886 non-null  int64  \n",
            " 4   weather     10886 non-null  int64  \n",
            " 5   temp        10886 non-null  float64\n",
            " 6   atemp       10886 non-null  float64\n",
            " 7   humidity    10886 non-null  int64  \n",
            " 8   windspeed   10886 non-null  float64\n",
            " 9   casual      10886 non-null  int64  \n",
            " 10  registered  10886 non-null  int64  \n",
            " 11  count       10886 non-null  int64  \n",
            "dtypes: float64(3), int64(8), object(1)\n",
            "memory usage: 1020.7+ KB\n"
          ]
        }
      ],
      "source": [
        "df.info()"
      ]
    },
    {
      "cell_type": "code",
      "execution_count": 187,
      "metadata": {
        "id": "iU0WHBPPx5GX",
        "outputId": "9bd8eff1-83fe-4182-c0ba-2a740f471e2d",
        "colab": {
          "base_uri": "https://localhost:8080/"
        }
      },
      "outputs": [
        {
          "output_type": "execute_result",
          "data": {
            "text/plain": [
              "Index(['datetime', 'season', 'holiday', 'workingday', 'weather', 'temp',\n",
              "       'atemp', 'humidity', 'windspeed', 'casual', 'registered', 'count'],\n",
              "      dtype='object')"
            ]
          },
          "metadata": {},
          "execution_count": 187
        }
      ],
      "source": [
        "df.columns"
      ]
    },
    {
      "cell_type": "code",
      "source": [
        "df.shape"
      ],
      "metadata": {
        "id": "Hmtz2Gb56vA1",
        "outputId": "2e98b434-de39-4941-eb5a-ae7e0d036f0f",
        "colab": {
          "base_uri": "https://localhost:8080/"
        }
      },
      "execution_count": 188,
      "outputs": [
        {
          "output_type": "execute_result",
          "data": {
            "text/plain": [
              "(10886, 12)"
            ]
          },
          "metadata": {},
          "execution_count": 188
        }
      ]
    },
    {
      "cell_type": "code",
      "source": [
        "df.describe()"
      ],
      "metadata": {
        "id": "URIthWM15FTO",
        "outputId": "bbfcffc6-3002-4776-c198-e1a0aa8e4fbb",
        "colab": {
          "base_uri": "https://localhost:8080/",
          "height": 364
        }
      },
      "execution_count": 189,
      "outputs": [
        {
          "output_type": "execute_result",
          "data": {
            "text/plain": [
              "             season       holiday    workingday       weather         temp  \\\n",
              "count  10886.000000  10886.000000  10886.000000  10886.000000  10886.00000   \n",
              "mean       2.506614      0.028569      0.680875      1.418427     20.23086   \n",
              "std        1.116174      0.166599      0.466159      0.633839      7.79159   \n",
              "min        1.000000      0.000000      0.000000      1.000000      0.82000   \n",
              "25%        2.000000      0.000000      0.000000      1.000000     13.94000   \n",
              "50%        3.000000      0.000000      1.000000      1.000000     20.50000   \n",
              "75%        4.000000      0.000000      1.000000      2.000000     26.24000   \n",
              "max        4.000000      1.000000      1.000000      4.000000     41.00000   \n",
              "\n",
              "              atemp      humidity     windspeed        casual    registered  \\\n",
              "count  10886.000000  10886.000000  10886.000000  10886.000000  10886.000000   \n",
              "mean      23.655084     61.886460     12.799395     36.021955    155.552177   \n",
              "std        8.474601     19.245033      8.164537     49.960477    151.039033   \n",
              "min        0.760000      0.000000      0.000000      0.000000      0.000000   \n",
              "25%       16.665000     47.000000      7.001500      4.000000     36.000000   \n",
              "50%       24.240000     62.000000     12.998000     17.000000    118.000000   \n",
              "75%       31.060000     77.000000     16.997900     49.000000    222.000000   \n",
              "max       45.455000    100.000000     56.996900    367.000000    886.000000   \n",
              "\n",
              "              count  \n",
              "count  10886.000000  \n",
              "mean     191.574132  \n",
              "std      181.144454  \n",
              "min        1.000000  \n",
              "25%       42.000000  \n",
              "50%      145.000000  \n",
              "75%      284.000000  \n",
              "max      977.000000  "
            ],
            "text/html": [
              "\n",
              "  <div id=\"df-eaa255be-38c3-44c9-abca-a0440e95afb4\">\n",
              "    <div class=\"colab-df-container\">\n",
              "      <div>\n",
              "<style scoped>\n",
              "    .dataframe tbody tr th:only-of-type {\n",
              "        vertical-align: middle;\n",
              "    }\n",
              "\n",
              "    .dataframe tbody tr th {\n",
              "        vertical-align: top;\n",
              "    }\n",
              "\n",
              "    .dataframe thead th {\n",
              "        text-align: right;\n",
              "    }\n",
              "</style>\n",
              "<table border=\"1\" class=\"dataframe\">\n",
              "  <thead>\n",
              "    <tr style=\"text-align: right;\">\n",
              "      <th></th>\n",
              "      <th>season</th>\n",
              "      <th>holiday</th>\n",
              "      <th>workingday</th>\n",
              "      <th>weather</th>\n",
              "      <th>temp</th>\n",
              "      <th>atemp</th>\n",
              "      <th>humidity</th>\n",
              "      <th>windspeed</th>\n",
              "      <th>casual</th>\n",
              "      <th>registered</th>\n",
              "      <th>count</th>\n",
              "    </tr>\n",
              "  </thead>\n",
              "  <tbody>\n",
              "    <tr>\n",
              "      <th>count</th>\n",
              "      <td>10886.000000</td>\n",
              "      <td>10886.000000</td>\n",
              "      <td>10886.000000</td>\n",
              "      <td>10886.000000</td>\n",
              "      <td>10886.00000</td>\n",
              "      <td>10886.000000</td>\n",
              "      <td>10886.000000</td>\n",
              "      <td>10886.000000</td>\n",
              "      <td>10886.000000</td>\n",
              "      <td>10886.000000</td>\n",
              "      <td>10886.000000</td>\n",
              "    </tr>\n",
              "    <tr>\n",
              "      <th>mean</th>\n",
              "      <td>2.506614</td>\n",
              "      <td>0.028569</td>\n",
              "      <td>0.680875</td>\n",
              "      <td>1.418427</td>\n",
              "      <td>20.23086</td>\n",
              "      <td>23.655084</td>\n",
              "      <td>61.886460</td>\n",
              "      <td>12.799395</td>\n",
              "      <td>36.021955</td>\n",
              "      <td>155.552177</td>\n",
              "      <td>191.574132</td>\n",
              "    </tr>\n",
              "    <tr>\n",
              "      <th>std</th>\n",
              "      <td>1.116174</td>\n",
              "      <td>0.166599</td>\n",
              "      <td>0.466159</td>\n",
              "      <td>0.633839</td>\n",
              "      <td>7.79159</td>\n",
              "      <td>8.474601</td>\n",
              "      <td>19.245033</td>\n",
              "      <td>8.164537</td>\n",
              "      <td>49.960477</td>\n",
              "      <td>151.039033</td>\n",
              "      <td>181.144454</td>\n",
              "    </tr>\n",
              "    <tr>\n",
              "      <th>min</th>\n",
              "      <td>1.000000</td>\n",
              "      <td>0.000000</td>\n",
              "      <td>0.000000</td>\n",
              "      <td>1.000000</td>\n",
              "      <td>0.82000</td>\n",
              "      <td>0.760000</td>\n",
              "      <td>0.000000</td>\n",
              "      <td>0.000000</td>\n",
              "      <td>0.000000</td>\n",
              "      <td>0.000000</td>\n",
              "      <td>1.000000</td>\n",
              "    </tr>\n",
              "    <tr>\n",
              "      <th>25%</th>\n",
              "      <td>2.000000</td>\n",
              "      <td>0.000000</td>\n",
              "      <td>0.000000</td>\n",
              "      <td>1.000000</td>\n",
              "      <td>13.94000</td>\n",
              "      <td>16.665000</td>\n",
              "      <td>47.000000</td>\n",
              "      <td>7.001500</td>\n",
              "      <td>4.000000</td>\n",
              "      <td>36.000000</td>\n",
              "      <td>42.000000</td>\n",
              "    </tr>\n",
              "    <tr>\n",
              "      <th>50%</th>\n",
              "      <td>3.000000</td>\n",
              "      <td>0.000000</td>\n",
              "      <td>1.000000</td>\n",
              "      <td>1.000000</td>\n",
              "      <td>20.50000</td>\n",
              "      <td>24.240000</td>\n",
              "      <td>62.000000</td>\n",
              "      <td>12.998000</td>\n",
              "      <td>17.000000</td>\n",
              "      <td>118.000000</td>\n",
              "      <td>145.000000</td>\n",
              "    </tr>\n",
              "    <tr>\n",
              "      <th>75%</th>\n",
              "      <td>4.000000</td>\n",
              "      <td>0.000000</td>\n",
              "      <td>1.000000</td>\n",
              "      <td>2.000000</td>\n",
              "      <td>26.24000</td>\n",
              "      <td>31.060000</td>\n",
              "      <td>77.000000</td>\n",
              "      <td>16.997900</td>\n",
              "      <td>49.000000</td>\n",
              "      <td>222.000000</td>\n",
              "      <td>284.000000</td>\n",
              "    </tr>\n",
              "    <tr>\n",
              "      <th>max</th>\n",
              "      <td>4.000000</td>\n",
              "      <td>1.000000</td>\n",
              "      <td>1.000000</td>\n",
              "      <td>4.000000</td>\n",
              "      <td>41.00000</td>\n",
              "      <td>45.455000</td>\n",
              "      <td>100.000000</td>\n",
              "      <td>56.996900</td>\n",
              "      <td>367.000000</td>\n",
              "      <td>886.000000</td>\n",
              "      <td>977.000000</td>\n",
              "    </tr>\n",
              "  </tbody>\n",
              "</table>\n",
              "</div>\n",
              "      <button class=\"colab-df-convert\" onclick=\"convertToInteractive('df-eaa255be-38c3-44c9-abca-a0440e95afb4')\"\n",
              "              title=\"Convert this dataframe to an interactive table.\"\n",
              "              style=\"display:none;\">\n",
              "        \n",
              "  <svg xmlns=\"http://www.w3.org/2000/svg\" height=\"24px\"viewBox=\"0 0 24 24\"\n",
              "       width=\"24px\">\n",
              "    <path d=\"M0 0h24v24H0V0z\" fill=\"none\"/>\n",
              "    <path d=\"M18.56 5.44l.94 2.06.94-2.06 2.06-.94-2.06-.94-.94-2.06-.94 2.06-2.06.94zm-11 1L8.5 8.5l.94-2.06 2.06-.94-2.06-.94L8.5 2.5l-.94 2.06-2.06.94zm10 10l.94 2.06.94-2.06 2.06-.94-2.06-.94-.94-2.06-.94 2.06-2.06.94z\"/><path d=\"M17.41 7.96l-1.37-1.37c-.4-.4-.92-.59-1.43-.59-.52 0-1.04.2-1.43.59L10.3 9.45l-7.72 7.72c-.78.78-.78 2.05 0 2.83L4 21.41c.39.39.9.59 1.41.59.51 0 1.02-.2 1.41-.59l7.78-7.78 2.81-2.81c.8-.78.8-2.07 0-2.86zM5.41 20L4 18.59l7.72-7.72 1.47 1.35L5.41 20z\"/>\n",
              "  </svg>\n",
              "      </button>\n",
              "      \n",
              "  <style>\n",
              "    .colab-df-container {\n",
              "      display:flex;\n",
              "      flex-wrap:wrap;\n",
              "      gap: 12px;\n",
              "    }\n",
              "\n",
              "    .colab-df-convert {\n",
              "      background-color: #E8F0FE;\n",
              "      border: none;\n",
              "      border-radius: 50%;\n",
              "      cursor: pointer;\n",
              "      display: none;\n",
              "      fill: #1967D2;\n",
              "      height: 32px;\n",
              "      padding: 0 0 0 0;\n",
              "      width: 32px;\n",
              "    }\n",
              "\n",
              "    .colab-df-convert:hover {\n",
              "      background-color: #E2EBFA;\n",
              "      box-shadow: 0px 1px 2px rgba(60, 64, 67, 0.3), 0px 1px 3px 1px rgba(60, 64, 67, 0.15);\n",
              "      fill: #174EA6;\n",
              "    }\n",
              "\n",
              "    [theme=dark] .colab-df-convert {\n",
              "      background-color: #3B4455;\n",
              "      fill: #D2E3FC;\n",
              "    }\n",
              "\n",
              "    [theme=dark] .colab-df-convert:hover {\n",
              "      background-color: #434B5C;\n",
              "      box-shadow: 0px 1px 3px 1px rgba(0, 0, 0, 0.15);\n",
              "      filter: drop-shadow(0px 1px 2px rgba(0, 0, 0, 0.3));\n",
              "      fill: #FFFFFF;\n",
              "    }\n",
              "  </style>\n",
              "\n",
              "      <script>\n",
              "        const buttonEl =\n",
              "          document.querySelector('#df-eaa255be-38c3-44c9-abca-a0440e95afb4 button.colab-df-convert');\n",
              "        buttonEl.style.display =\n",
              "          google.colab.kernel.accessAllowed ? 'block' : 'none';\n",
              "\n",
              "        async function convertToInteractive(key) {\n",
              "          const element = document.querySelector('#df-eaa255be-38c3-44c9-abca-a0440e95afb4');\n",
              "          const dataTable =\n",
              "            await google.colab.kernel.invokeFunction('convertToInteractive',\n",
              "                                                     [key], {});\n",
              "          if (!dataTable) return;\n",
              "\n",
              "          const docLinkHtml = 'Like what you see? Visit the ' +\n",
              "            '<a target=\"_blank\" href=https://colab.research.google.com/notebooks/data_table.ipynb>data table notebook</a>'\n",
              "            + ' to learn more about interactive tables.';\n",
              "          element.innerHTML = '';\n",
              "          dataTable['output_type'] = 'display_data';\n",
              "          await google.colab.output.renderOutput(dataTable, element);\n",
              "          const docLink = document.createElement('div');\n",
              "          docLink.innerHTML = docLinkHtml;\n",
              "          element.appendChild(docLink);\n",
              "        }\n",
              "      </script>\n",
              "    </div>\n",
              "  </div>\n",
              "  "
            ]
          },
          "metadata": {},
          "execution_count": 189
        }
      ]
    },
    {
      "cell_type": "markdown",
      "metadata": {
        "id": "nxbO3Bi4x5GX"
      },
      "source": [
        "### Question 1.4\n",
        "Pour chaque colonne vérifier si il y a des valeurs manquantes. Par exemple avec .isnull() de pandas. Puis vérifier si il y a des doublons. Vous pouvez utiliser .duplicated()"
      ]
    },
    {
      "cell_type": "markdown",
      "metadata": {
        "id": "q1uJuF5Rx5GX"
      },
      "source": [
        "### Question 1.5\n",
        "Vérifier si il y a des valeurs manquantes par colonnes/ Faire une boucle et utilise .isnull()."
      ]
    },
    {
      "cell_type": "code",
      "execution_count": 190,
      "metadata": {
        "id": "zMz_KjXWx5GX",
        "outputId": "b6711662-2ada-4773-b1c6-d16f1dfc7ed7",
        "colab": {
          "base_uri": "https://localhost:8080/"
        }
      },
      "outputs": [
        {
          "output_type": "stream",
          "name": "stdout",
          "text": [
            "datetime  :  0\n",
            "season  :  0\n",
            "holiday  :  0\n",
            "workingday  :  0\n",
            "weather  :  0\n",
            "temp  :  0\n",
            "atemp  :  0\n",
            "humidity  :  0\n",
            "windspeed  :  0\n",
            "casual  :  0\n",
            "registered  :  0\n",
            "count  :  0\n"
          ]
        }
      ],
      "source": [
        "for i in df.columns:\n",
        "    print(i,\" : \",df[i].isnull().sum())"
      ]
    },
    {
      "cell_type": "code",
      "source": [
        "df.duplicated().sum()"
      ],
      "metadata": {
        "id": "MD663KNK51cw",
        "outputId": "de7781dd-8925-419a-bd36-1e5a5a7d6c0f",
        "colab": {
          "base_uri": "https://localhost:8080/"
        }
      },
      "execution_count": 191,
      "outputs": [
        {
          "output_type": "execute_result",
          "data": {
            "text/plain": [
              "0"
            ]
          },
          "metadata": {},
          "execution_count": 191
        }
      ]
    },
    {
      "cell_type": "markdown",
      "metadata": {
        "id": "pLPa--nux5GX"
      },
      "source": [
        "### Question 2 :\n",
        "Etudier les types des données, peux-t-on trouver un schéma de donner plus judicieux ? Y'a t'il des variables avec un typage qui n'est pas optimal?\n",
        "Identifier ces variables afin de pouvoir les isoler par la suite et les retraiter. Créer un liste avec le nom de ces variables."
      ]
    },
    {
      "cell_type": "markdown",
      "metadata": {
        "id": "SMKjjMknx5GX"
      },
      "source": [
        "............"
      ]
    },
    {
      "cell_type": "code",
      "execution_count": 192,
      "metadata": {
        "id": "2BGPvC2zx5GX"
      },
      "outputs": [],
      "source": [
        "list_variables = [\" humidity\",\"season\",\"weather\",\"holiday\",\"workingday\"]"
      ]
    },
    {
      "cell_type": "markdown",
      "metadata": {
        "id": "XanGoCxKx5GY"
      },
      "source": [
        "### Question 3.1 :\n",
        "Etudier la variable datetime, quelles features peut-t-on créer/extraire avec cette variable ? La variable datetime n'est pas exploitable tel quel. Cependant il est possible d'extraire des informations de celle ci. Comme le mois, le jour ou encore l'heure. Il est tout à fait cohérent de penser que ces variables joueront un rôle dans la prédiction du nombre de vélos loués par jour.\n",
        "\n",
        "Extraire date, hour, weekday et month. Pour cela vous utiliserez la fonction .apply(lambda x: ...). L'idée ici est de découper les informations dans le datetime et d'isoler les informations qui nous intéresse afin d'en créer des nouvelle variable.\n",
        "\n",
        "1. Séparer de datetime la partie date et hour. Stocké respectivement dans la colonne \"date\" et \"hour\" du DataFrame. Proposer un algorithme permettant de le faire. Puis implémenter le. exemple: \"2011-01-01 00:00:00\".split()\n",
        "2. De la nouvelle variable \"hour\" appliquer la fonction .apply() afin d'isoler l'heure. Comment isoler l'heure de notre variable \"hour\"?\n",
        "3. De la variable date, nous voulons extraire le mois, le jour et si oui on c'est un weekend. Pour cela nous allons utiliser le package calendar dont voici un exemple de syntaxe:\n",
        "dailyData.date.apply(lambda x : calendar.day_name[datetime.strptime(x,\"%Y-%m-%d\").function()]) - Trouver la fonction() permettant d'identifier le jour de la semaine puis celle pour le mois. Stocker ces nouvelles variables dans \"weekday\" & \"month\"\n",
        "\n",
        "\n",
        "Exemples: \n",
        "- datetime.strptime(\"2011-01-01\",\"%Y-%m-%d\").weekday()\n",
        "- calendar.day_name[datetime.strptime(\"2011-01-01\",\"%Y-%m-%d\").weekday()]"
      ]
    },
    {
      "cell_type": "code",
      "execution_count": 193,
      "metadata": {
        "id": "g3AKS-8hx5GY",
        "outputId": "fa98996e-082f-4aff-d442-17a76ae8f143",
        "colab": {
          "base_uri": "https://localhost:8080/"
        }
      },
      "outputs": [
        {
          "output_type": "execute_result",
          "data": {
            "text/plain": [
              "['2011-01-01', '00:00:00']"
            ]
          },
          "metadata": {},
          "execution_count": 193
        }
      ],
      "source": [
        "\"2011-01-01 00:00:00\".split()"
      ]
    },
    {
      "cell_type": "code",
      "execution_count": 194,
      "metadata": {
        "id": "O1JG_E-sx5GY",
        "outputId": "0d6a2d51-8e47-423e-9091-26911930fbc5",
        "colab": {
          "base_uri": "https://localhost:8080/"
        }
      },
      "outputs": [
        {
          "output_type": "execute_result",
          "data": {
            "text/plain": [
              "0        2011-01-01\n",
              "1        2011-01-01\n",
              "2        2011-01-01\n",
              "3        2011-01-01\n",
              "4        2011-01-01\n",
              "            ...    \n",
              "10881    2012-12-19\n",
              "10882    2012-12-19\n",
              "10883    2012-12-19\n",
              "10884    2012-12-19\n",
              "10885    2012-12-19\n",
              "Name: date, Length: 10886, dtype: object"
            ]
          },
          "metadata": {},
          "execution_count": 194
        }
      ],
      "source": [
        "df[\"date\"] = df.datetime.apply(lambda x : x.split()[0])\n",
        "df[\"date\"]"
      ]
    },
    {
      "cell_type": "code",
      "execution_count": 195,
      "metadata": {
        "id": "t-rj6PL0x5GY",
        "outputId": "103743f4-caf0-4d56-974b-0c7c83213012",
        "colab": {
          "base_uri": "https://localhost:8080/"
        }
      },
      "outputs": [
        {
          "output_type": "execute_result",
          "data": {
            "text/plain": [
              "0        00:00:00\n",
              "1        01:00:00\n",
              "2        02:00:00\n",
              "3        03:00:00\n",
              "4        04:00:00\n",
              "           ...   \n",
              "10881    19:00:00\n",
              "10882    20:00:00\n",
              "10883    21:00:00\n",
              "10884    22:00:00\n",
              "10885    23:00:00\n",
              "Name: hour, Length: 10886, dtype: object"
            ]
          },
          "metadata": {},
          "execution_count": 195
        }
      ],
      "source": [
        "df[\"hour\"] = df.datetime.apply(lambda x : x.split()[1])\n",
        "df[\"hour\"]"
      ]
    },
    {
      "cell_type": "code",
      "execution_count": 196,
      "metadata": {
        "id": "iDYWyIM0x5GY",
        "outputId": "f96c2461-1418-4a2a-f88e-cf0b3d77e10f",
        "colab": {
          "base_uri": "https://localhost:8080/"
        }
      },
      "outputs": [
        {
          "output_type": "execute_result",
          "data": {
            "text/plain": [
              "0        00\n",
              "1        01\n",
              "2        02\n",
              "3        03\n",
              "4        04\n",
              "         ..\n",
              "10881    19\n",
              "10882    20\n",
              "10883    21\n",
              "10884    22\n",
              "10885    23\n",
              "Name: hour, Length: 10886, dtype: object"
            ]
          },
          "metadata": {},
          "execution_count": 196
        }
      ],
      "source": [
        "df[\"hour\"] = df.datetime.apply(lambda x : x.split()[1].split(\":\")[0])\n",
        "df[\"hour\"] "
      ]
    },
    {
      "cell_type": "code",
      "execution_count": 197,
      "metadata": {
        "id": "6q7-LvSAx5GY"
      },
      "outputs": [],
      "source": [
        "import calendar\n",
        "df[\"weekday\"] = df.date.apply(lambda x : calendar.day_name[datetime.strptime(x,\"%Y-%m-%d\").weekday()])\n",
        "\n",
        "df[\"month\"] = df.date.apply(lambda x : calendar.month_name[datetime.strptime(x,\"%Y-%m-%d\").month])"
      ]
    },
    {
      "cell_type": "code",
      "execution_count": 198,
      "metadata": {
        "id": "xbHW6LDBx5GY",
        "outputId": "34815f19-6737-4322-e05e-48103c783855",
        "colab": {
          "base_uri": "https://localhost:8080/",
          "height": 443
        }
      },
      "outputs": [
        {
          "output_type": "execute_result",
          "data": {
            "text/plain": [
              "              datetime  season  holiday  workingday  weather  temp   atemp  \\\n",
              "0  2011-01-01 00:00:00       1        0           0        1  9.84  14.395   \n",
              "1  2011-01-01 01:00:00       1        0           0        1  9.02  13.635   \n",
              "2  2011-01-01 02:00:00       1        0           0        1  9.02  13.635   \n",
              "3  2011-01-01 03:00:00       1        0           0        1  9.84  14.395   \n",
              "4  2011-01-01 04:00:00       1        0           0        1  9.84  14.395   \n",
              "\n",
              "   humidity  windspeed  casual  registered  count        date hour   weekday  \\\n",
              "0        81        0.0       3          13     16  2011-01-01   00  Saturday   \n",
              "1        80        0.0       8          32     40  2011-01-01   01  Saturday   \n",
              "2        80        0.0       5          27     32  2011-01-01   02  Saturday   \n",
              "3        75        0.0       3          10     13  2011-01-01   03  Saturday   \n",
              "4        75        0.0       0           1      1  2011-01-01   04  Saturday   \n",
              "\n",
              "     month  \n",
              "0  January  \n",
              "1  January  \n",
              "2  January  \n",
              "3  January  \n",
              "4  January  "
            ],
            "text/html": [
              "\n",
              "  <div id=\"df-d20edc11-a33d-46da-b746-a611fc609d6b\">\n",
              "    <div class=\"colab-df-container\">\n",
              "      <div>\n",
              "<style scoped>\n",
              "    .dataframe tbody tr th:only-of-type {\n",
              "        vertical-align: middle;\n",
              "    }\n",
              "\n",
              "    .dataframe tbody tr th {\n",
              "        vertical-align: top;\n",
              "    }\n",
              "\n",
              "    .dataframe thead th {\n",
              "        text-align: right;\n",
              "    }\n",
              "</style>\n",
              "<table border=\"1\" class=\"dataframe\">\n",
              "  <thead>\n",
              "    <tr style=\"text-align: right;\">\n",
              "      <th></th>\n",
              "      <th>datetime</th>\n",
              "      <th>season</th>\n",
              "      <th>holiday</th>\n",
              "      <th>workingday</th>\n",
              "      <th>weather</th>\n",
              "      <th>temp</th>\n",
              "      <th>atemp</th>\n",
              "      <th>humidity</th>\n",
              "      <th>windspeed</th>\n",
              "      <th>casual</th>\n",
              "      <th>registered</th>\n",
              "      <th>count</th>\n",
              "      <th>date</th>\n",
              "      <th>hour</th>\n",
              "      <th>weekday</th>\n",
              "      <th>month</th>\n",
              "    </tr>\n",
              "  </thead>\n",
              "  <tbody>\n",
              "    <tr>\n",
              "      <th>0</th>\n",
              "      <td>2011-01-01 00:00:00</td>\n",
              "      <td>1</td>\n",
              "      <td>0</td>\n",
              "      <td>0</td>\n",
              "      <td>1</td>\n",
              "      <td>9.84</td>\n",
              "      <td>14.395</td>\n",
              "      <td>81</td>\n",
              "      <td>0.0</td>\n",
              "      <td>3</td>\n",
              "      <td>13</td>\n",
              "      <td>16</td>\n",
              "      <td>2011-01-01</td>\n",
              "      <td>00</td>\n",
              "      <td>Saturday</td>\n",
              "      <td>January</td>\n",
              "    </tr>\n",
              "    <tr>\n",
              "      <th>1</th>\n",
              "      <td>2011-01-01 01:00:00</td>\n",
              "      <td>1</td>\n",
              "      <td>0</td>\n",
              "      <td>0</td>\n",
              "      <td>1</td>\n",
              "      <td>9.02</td>\n",
              "      <td>13.635</td>\n",
              "      <td>80</td>\n",
              "      <td>0.0</td>\n",
              "      <td>8</td>\n",
              "      <td>32</td>\n",
              "      <td>40</td>\n",
              "      <td>2011-01-01</td>\n",
              "      <td>01</td>\n",
              "      <td>Saturday</td>\n",
              "      <td>January</td>\n",
              "    </tr>\n",
              "    <tr>\n",
              "      <th>2</th>\n",
              "      <td>2011-01-01 02:00:00</td>\n",
              "      <td>1</td>\n",
              "      <td>0</td>\n",
              "      <td>0</td>\n",
              "      <td>1</td>\n",
              "      <td>9.02</td>\n",
              "      <td>13.635</td>\n",
              "      <td>80</td>\n",
              "      <td>0.0</td>\n",
              "      <td>5</td>\n",
              "      <td>27</td>\n",
              "      <td>32</td>\n",
              "      <td>2011-01-01</td>\n",
              "      <td>02</td>\n",
              "      <td>Saturday</td>\n",
              "      <td>January</td>\n",
              "    </tr>\n",
              "    <tr>\n",
              "      <th>3</th>\n",
              "      <td>2011-01-01 03:00:00</td>\n",
              "      <td>1</td>\n",
              "      <td>0</td>\n",
              "      <td>0</td>\n",
              "      <td>1</td>\n",
              "      <td>9.84</td>\n",
              "      <td>14.395</td>\n",
              "      <td>75</td>\n",
              "      <td>0.0</td>\n",
              "      <td>3</td>\n",
              "      <td>10</td>\n",
              "      <td>13</td>\n",
              "      <td>2011-01-01</td>\n",
              "      <td>03</td>\n",
              "      <td>Saturday</td>\n",
              "      <td>January</td>\n",
              "    </tr>\n",
              "    <tr>\n",
              "      <th>4</th>\n",
              "      <td>2011-01-01 04:00:00</td>\n",
              "      <td>1</td>\n",
              "      <td>0</td>\n",
              "      <td>0</td>\n",
              "      <td>1</td>\n",
              "      <td>9.84</td>\n",
              "      <td>14.395</td>\n",
              "      <td>75</td>\n",
              "      <td>0.0</td>\n",
              "      <td>0</td>\n",
              "      <td>1</td>\n",
              "      <td>1</td>\n",
              "      <td>2011-01-01</td>\n",
              "      <td>04</td>\n",
              "      <td>Saturday</td>\n",
              "      <td>January</td>\n",
              "    </tr>\n",
              "  </tbody>\n",
              "</table>\n",
              "</div>\n",
              "      <button class=\"colab-df-convert\" onclick=\"convertToInteractive('df-d20edc11-a33d-46da-b746-a611fc609d6b')\"\n",
              "              title=\"Convert this dataframe to an interactive table.\"\n",
              "              style=\"display:none;\">\n",
              "        \n",
              "  <svg xmlns=\"http://www.w3.org/2000/svg\" height=\"24px\"viewBox=\"0 0 24 24\"\n",
              "       width=\"24px\">\n",
              "    <path d=\"M0 0h24v24H0V0z\" fill=\"none\"/>\n",
              "    <path d=\"M18.56 5.44l.94 2.06.94-2.06 2.06-.94-2.06-.94-.94-2.06-.94 2.06-2.06.94zm-11 1L8.5 8.5l.94-2.06 2.06-.94-2.06-.94L8.5 2.5l-.94 2.06-2.06.94zm10 10l.94 2.06.94-2.06 2.06-.94-2.06-.94-.94-2.06-.94 2.06-2.06.94z\"/><path d=\"M17.41 7.96l-1.37-1.37c-.4-.4-.92-.59-1.43-.59-.52 0-1.04.2-1.43.59L10.3 9.45l-7.72 7.72c-.78.78-.78 2.05 0 2.83L4 21.41c.39.39.9.59 1.41.59.51 0 1.02-.2 1.41-.59l7.78-7.78 2.81-2.81c.8-.78.8-2.07 0-2.86zM5.41 20L4 18.59l7.72-7.72 1.47 1.35L5.41 20z\"/>\n",
              "  </svg>\n",
              "      </button>\n",
              "      \n",
              "  <style>\n",
              "    .colab-df-container {\n",
              "      display:flex;\n",
              "      flex-wrap:wrap;\n",
              "      gap: 12px;\n",
              "    }\n",
              "\n",
              "    .colab-df-convert {\n",
              "      background-color: #E8F0FE;\n",
              "      border: none;\n",
              "      border-radius: 50%;\n",
              "      cursor: pointer;\n",
              "      display: none;\n",
              "      fill: #1967D2;\n",
              "      height: 32px;\n",
              "      padding: 0 0 0 0;\n",
              "      width: 32px;\n",
              "    }\n",
              "\n",
              "    .colab-df-convert:hover {\n",
              "      background-color: #E2EBFA;\n",
              "      box-shadow: 0px 1px 2px rgba(60, 64, 67, 0.3), 0px 1px 3px 1px rgba(60, 64, 67, 0.15);\n",
              "      fill: #174EA6;\n",
              "    }\n",
              "\n",
              "    [theme=dark] .colab-df-convert {\n",
              "      background-color: #3B4455;\n",
              "      fill: #D2E3FC;\n",
              "    }\n",
              "\n",
              "    [theme=dark] .colab-df-convert:hover {\n",
              "      background-color: #434B5C;\n",
              "      box-shadow: 0px 1px 3px 1px rgba(0, 0, 0, 0.15);\n",
              "      filter: drop-shadow(0px 1px 2px rgba(0, 0, 0, 0.3));\n",
              "      fill: #FFFFFF;\n",
              "    }\n",
              "  </style>\n",
              "\n",
              "      <script>\n",
              "        const buttonEl =\n",
              "          document.querySelector('#df-d20edc11-a33d-46da-b746-a611fc609d6b button.colab-df-convert');\n",
              "        buttonEl.style.display =\n",
              "          google.colab.kernel.accessAllowed ? 'block' : 'none';\n",
              "\n",
              "        async function convertToInteractive(key) {\n",
              "          const element = document.querySelector('#df-d20edc11-a33d-46da-b746-a611fc609d6b');\n",
              "          const dataTable =\n",
              "            await google.colab.kernel.invokeFunction('convertToInteractive',\n",
              "                                                     [key], {});\n",
              "          if (!dataTable) return;\n",
              "\n",
              "          const docLinkHtml = 'Like what you see? Visit the ' +\n",
              "            '<a target=\"_blank\" href=https://colab.research.google.com/notebooks/data_table.ipynb>data table notebook</a>'\n",
              "            + ' to learn more about interactive tables.';\n",
              "          element.innerHTML = '';\n",
              "          dataTable['output_type'] = 'display_data';\n",
              "          await google.colab.output.renderOutput(dataTable, element);\n",
              "          const docLink = document.createElement('div');\n",
              "          docLink.innerHTML = docLinkHtml;\n",
              "          element.appendChild(docLink);\n",
              "        }\n",
              "      </script>\n",
              "    </div>\n",
              "  </div>\n",
              "  "
            ]
          },
          "metadata": {},
          "execution_count": 198
        }
      ],
      "source": [
        "df.head()"
      ]
    },
    {
      "cell_type": "markdown",
      "metadata": {
        "id": "2kB1xTssx5GY"
      },
      "source": [
        "### Question 3.2 :\n",
        "Remplacer les catégories des variables \"season\" and \"weather\" par des catégories plus explicite. Voir la partie Données du fichier en début de notebook. Pour cela utiliser la fonction .map(dict) avec le dictionnaire adéquat.\n",
        "\n",
        "1. Créer le dictionnaire\n",
        "2. Appliquer le remplacement avec .map()\n",
        "\n",
        "Exemple:\n",
        "- dictionnaire_saisons = {2: \"Spring\", 3 : \"Summer\", 4 : \"Fall\", 1 :\"Winter\" }"
      ]
    },
    {
      "cell_type": "code",
      "execution_count": 199,
      "metadata": {
        "id": "swvqf_gox5GZ"
      },
      "outputs": [],
      "source": [
        "dictionnaire_saisons = {2: \"automns\", 3 : \"printemps\", 4 : \"été\", 1 :\"hiver\" }\n",
        "df[\"season\"] = df.season.map(dictionnaire_saisons)\n",
        "\n",
        "df[\"weather\"] = df.weather.map({1: \" Clear + Few clouds + Partly cloudy + Partly cloudy\",\\\n",
        "                                        2 : \" Mist + Cloudy, Mist + Broken clouds, Mist + Few clouds, Mist \", \\\n",
        "                                        3 : \" Light Snow, Light Rain + Thunderstorm + Scattered clouds, Light Rain + Scattered clouds\", \\\n",
        "                                        4 :\" Heavy Rain + Ice Pallets + Thunderstorm + Mist, Snow + Fog \" })"
      ]
    },
    {
      "cell_type": "code",
      "execution_count": 200,
      "metadata": {
        "id": "ERhMdwBsx5GZ",
        "outputId": "3b0354a8-7656-4a59-d701-2b43690e0563",
        "colab": {
          "base_uri": "https://localhost:8080/",
          "height": 704
        }
      },
      "outputs": [
        {
          "output_type": "execute_result",
          "data": {
            "text/plain": [
              "              datetime season  holiday  workingday  \\\n",
              "0  2011-01-01 00:00:00  hiver        0           0   \n",
              "1  2011-01-01 01:00:00  hiver        0           0   \n",
              "2  2011-01-01 02:00:00  hiver        0           0   \n",
              "3  2011-01-01 03:00:00  hiver        0           0   \n",
              "4  2011-01-01 04:00:00  hiver        0           0   \n",
              "\n",
              "                                             weather  temp   atemp  humidity  \\\n",
              "0   Clear + Few clouds + Partly cloudy + Partly c...  9.84  14.395        81   \n",
              "1   Clear + Few clouds + Partly cloudy + Partly c...  9.02  13.635        80   \n",
              "2   Clear + Few clouds + Partly cloudy + Partly c...  9.02  13.635        80   \n",
              "3   Clear + Few clouds + Partly cloudy + Partly c...  9.84  14.395        75   \n",
              "4   Clear + Few clouds + Partly cloudy + Partly c...  9.84  14.395        75   \n",
              "\n",
              "   windspeed  casual  registered  count        date hour   weekday    month  \n",
              "0        0.0       3          13     16  2011-01-01   00  Saturday  January  \n",
              "1        0.0       8          32     40  2011-01-01   01  Saturday  January  \n",
              "2        0.0       5          27     32  2011-01-01   02  Saturday  January  \n",
              "3        0.0       3          10     13  2011-01-01   03  Saturday  January  \n",
              "4        0.0       0           1      1  2011-01-01   04  Saturday  January  "
            ],
            "text/html": [
              "\n",
              "  <div id=\"df-9b0505be-6248-4266-a045-e024f9f75256\">\n",
              "    <div class=\"colab-df-container\">\n",
              "      <div>\n",
              "<style scoped>\n",
              "    .dataframe tbody tr th:only-of-type {\n",
              "        vertical-align: middle;\n",
              "    }\n",
              "\n",
              "    .dataframe tbody tr th {\n",
              "        vertical-align: top;\n",
              "    }\n",
              "\n",
              "    .dataframe thead th {\n",
              "        text-align: right;\n",
              "    }\n",
              "</style>\n",
              "<table border=\"1\" class=\"dataframe\">\n",
              "  <thead>\n",
              "    <tr style=\"text-align: right;\">\n",
              "      <th></th>\n",
              "      <th>datetime</th>\n",
              "      <th>season</th>\n",
              "      <th>holiday</th>\n",
              "      <th>workingday</th>\n",
              "      <th>weather</th>\n",
              "      <th>temp</th>\n",
              "      <th>atemp</th>\n",
              "      <th>humidity</th>\n",
              "      <th>windspeed</th>\n",
              "      <th>casual</th>\n",
              "      <th>registered</th>\n",
              "      <th>count</th>\n",
              "      <th>date</th>\n",
              "      <th>hour</th>\n",
              "      <th>weekday</th>\n",
              "      <th>month</th>\n",
              "    </tr>\n",
              "  </thead>\n",
              "  <tbody>\n",
              "    <tr>\n",
              "      <th>0</th>\n",
              "      <td>2011-01-01 00:00:00</td>\n",
              "      <td>hiver</td>\n",
              "      <td>0</td>\n",
              "      <td>0</td>\n",
              "      <td>Clear + Few clouds + Partly cloudy + Partly c...</td>\n",
              "      <td>9.84</td>\n",
              "      <td>14.395</td>\n",
              "      <td>81</td>\n",
              "      <td>0.0</td>\n",
              "      <td>3</td>\n",
              "      <td>13</td>\n",
              "      <td>16</td>\n",
              "      <td>2011-01-01</td>\n",
              "      <td>00</td>\n",
              "      <td>Saturday</td>\n",
              "      <td>January</td>\n",
              "    </tr>\n",
              "    <tr>\n",
              "      <th>1</th>\n",
              "      <td>2011-01-01 01:00:00</td>\n",
              "      <td>hiver</td>\n",
              "      <td>0</td>\n",
              "      <td>0</td>\n",
              "      <td>Clear + Few clouds + Partly cloudy + Partly c...</td>\n",
              "      <td>9.02</td>\n",
              "      <td>13.635</td>\n",
              "      <td>80</td>\n",
              "      <td>0.0</td>\n",
              "      <td>8</td>\n",
              "      <td>32</td>\n",
              "      <td>40</td>\n",
              "      <td>2011-01-01</td>\n",
              "      <td>01</td>\n",
              "      <td>Saturday</td>\n",
              "      <td>January</td>\n",
              "    </tr>\n",
              "    <tr>\n",
              "      <th>2</th>\n",
              "      <td>2011-01-01 02:00:00</td>\n",
              "      <td>hiver</td>\n",
              "      <td>0</td>\n",
              "      <td>0</td>\n",
              "      <td>Clear + Few clouds + Partly cloudy + Partly c...</td>\n",
              "      <td>9.02</td>\n",
              "      <td>13.635</td>\n",
              "      <td>80</td>\n",
              "      <td>0.0</td>\n",
              "      <td>5</td>\n",
              "      <td>27</td>\n",
              "      <td>32</td>\n",
              "      <td>2011-01-01</td>\n",
              "      <td>02</td>\n",
              "      <td>Saturday</td>\n",
              "      <td>January</td>\n",
              "    </tr>\n",
              "    <tr>\n",
              "      <th>3</th>\n",
              "      <td>2011-01-01 03:00:00</td>\n",
              "      <td>hiver</td>\n",
              "      <td>0</td>\n",
              "      <td>0</td>\n",
              "      <td>Clear + Few clouds + Partly cloudy + Partly c...</td>\n",
              "      <td>9.84</td>\n",
              "      <td>14.395</td>\n",
              "      <td>75</td>\n",
              "      <td>0.0</td>\n",
              "      <td>3</td>\n",
              "      <td>10</td>\n",
              "      <td>13</td>\n",
              "      <td>2011-01-01</td>\n",
              "      <td>03</td>\n",
              "      <td>Saturday</td>\n",
              "      <td>January</td>\n",
              "    </tr>\n",
              "    <tr>\n",
              "      <th>4</th>\n",
              "      <td>2011-01-01 04:00:00</td>\n",
              "      <td>hiver</td>\n",
              "      <td>0</td>\n",
              "      <td>0</td>\n",
              "      <td>Clear + Few clouds + Partly cloudy + Partly c...</td>\n",
              "      <td>9.84</td>\n",
              "      <td>14.395</td>\n",
              "      <td>75</td>\n",
              "      <td>0.0</td>\n",
              "      <td>0</td>\n",
              "      <td>1</td>\n",
              "      <td>1</td>\n",
              "      <td>2011-01-01</td>\n",
              "      <td>04</td>\n",
              "      <td>Saturday</td>\n",
              "      <td>January</td>\n",
              "    </tr>\n",
              "  </tbody>\n",
              "</table>\n",
              "</div>\n",
              "      <button class=\"colab-df-convert\" onclick=\"convertToInteractive('df-9b0505be-6248-4266-a045-e024f9f75256')\"\n",
              "              title=\"Convert this dataframe to an interactive table.\"\n",
              "              style=\"display:none;\">\n",
              "        \n",
              "  <svg xmlns=\"http://www.w3.org/2000/svg\" height=\"24px\"viewBox=\"0 0 24 24\"\n",
              "       width=\"24px\">\n",
              "    <path d=\"M0 0h24v24H0V0z\" fill=\"none\"/>\n",
              "    <path d=\"M18.56 5.44l.94 2.06.94-2.06 2.06-.94-2.06-.94-.94-2.06-.94 2.06-2.06.94zm-11 1L8.5 8.5l.94-2.06 2.06-.94-2.06-.94L8.5 2.5l-.94 2.06-2.06.94zm10 10l.94 2.06.94-2.06 2.06-.94-2.06-.94-.94-2.06-.94 2.06-2.06.94z\"/><path d=\"M17.41 7.96l-1.37-1.37c-.4-.4-.92-.59-1.43-.59-.52 0-1.04.2-1.43.59L10.3 9.45l-7.72 7.72c-.78.78-.78 2.05 0 2.83L4 21.41c.39.39.9.59 1.41.59.51 0 1.02-.2 1.41-.59l7.78-7.78 2.81-2.81c.8-.78.8-2.07 0-2.86zM5.41 20L4 18.59l7.72-7.72 1.47 1.35L5.41 20z\"/>\n",
              "  </svg>\n",
              "      </button>\n",
              "      \n",
              "  <style>\n",
              "    .colab-df-container {\n",
              "      display:flex;\n",
              "      flex-wrap:wrap;\n",
              "      gap: 12px;\n",
              "    }\n",
              "\n",
              "    .colab-df-convert {\n",
              "      background-color: #E8F0FE;\n",
              "      border: none;\n",
              "      border-radius: 50%;\n",
              "      cursor: pointer;\n",
              "      display: none;\n",
              "      fill: #1967D2;\n",
              "      height: 32px;\n",
              "      padding: 0 0 0 0;\n",
              "      width: 32px;\n",
              "    }\n",
              "\n",
              "    .colab-df-convert:hover {\n",
              "      background-color: #E2EBFA;\n",
              "      box-shadow: 0px 1px 2px rgba(60, 64, 67, 0.3), 0px 1px 3px 1px rgba(60, 64, 67, 0.15);\n",
              "      fill: #174EA6;\n",
              "    }\n",
              "\n",
              "    [theme=dark] .colab-df-convert {\n",
              "      background-color: #3B4455;\n",
              "      fill: #D2E3FC;\n",
              "    }\n",
              "\n",
              "    [theme=dark] .colab-df-convert:hover {\n",
              "      background-color: #434B5C;\n",
              "      box-shadow: 0px 1px 3px 1px rgba(0, 0, 0, 0.15);\n",
              "      filter: drop-shadow(0px 1px 2px rgba(0, 0, 0, 0.3));\n",
              "      fill: #FFFFFF;\n",
              "    }\n",
              "  </style>\n",
              "\n",
              "      <script>\n",
              "        const buttonEl =\n",
              "          document.querySelector('#df-9b0505be-6248-4266-a045-e024f9f75256 button.colab-df-convert');\n",
              "        buttonEl.style.display =\n",
              "          google.colab.kernel.accessAllowed ? 'block' : 'none';\n",
              "\n",
              "        async function convertToInteractive(key) {\n",
              "          const element = document.querySelector('#df-9b0505be-6248-4266-a045-e024f9f75256');\n",
              "          const dataTable =\n",
              "            await google.colab.kernel.invokeFunction('convertToInteractive',\n",
              "                                                     [key], {});\n",
              "          if (!dataTable) return;\n",
              "\n",
              "          const docLinkHtml = 'Like what you see? Visit the ' +\n",
              "            '<a target=\"_blank\" href=https://colab.research.google.com/notebooks/data_table.ipynb>data table notebook</a>'\n",
              "            + ' to learn more about interactive tables.';\n",
              "          element.innerHTML = '';\n",
              "          dataTable['output_type'] = 'display_data';\n",
              "          await google.colab.output.renderOutput(dataTable, element);\n",
              "          const docLink = document.createElement('div');\n",
              "          docLink.innerHTML = docLinkHtml;\n",
              "          element.appendChild(docLink);\n",
              "        }\n",
              "      </script>\n",
              "    </div>\n",
              "  </div>\n",
              "  "
            ]
          },
          "metadata": {},
          "execution_count": 200
        }
      ],
      "source": [
        "df.head()"
      ]
    },
    {
      "cell_type": "markdown",
      "metadata": {
        "id": "Mx97Hr-8x5GZ"
      },
      "source": [
        "### Question 4 :\n",
        "Transformer les variables qui devraient être catégorielles en variables catégorielles en utilisant pandas. Pour faire cela rapidement il est possible d'utiliser la fonction .astype(). Elle s'applique sur les colonnes du DataFrame.\n",
        "\n",
        "Faire une boucle à partir de la liste des variables identifier comme n'ayant pas le bon typage et les assigner àu typage \"category\". N'oubliez pas de mettre à jour la liste des variables catégorielles avec les nouvelles features crées.\n",
        "\n",
        "Supprimer la variable inutile, celle dont nous avons extrait les informations pertinentes"
      ]
    },
    {
      "cell_type": "code",
      "execution_count": 201,
      "metadata": {
        "id": "srb631-3x5GZ"
      },
      "outputs": [],
      "source": [
        "categoryVariableList = [\"hour\",\"weekday\",\"month\",\"season\",\"weather\",\"holiday\",\"workingday\"]\n",
        "for var in categoryVariableList:\n",
        "    df[var] = df[var].astype(\"category\")"
      ]
    },
    {
      "cell_type": "code",
      "execution_count": 202,
      "metadata": {
        "id": "g2sjs04Rx5GZ"
      },
      "outputs": [],
      "source": [
        "dropFeatures = [\"atemp\"]\n",
        "\n",
        "df  = df.drop(dropFeatures, axis=1) # Suppression d'une colonne"
      ]
    },
    {
      "cell_type": "markdown",
      "metadata": {
        "id": "sf-csMd_x5GZ"
      },
      "source": [
        "# Statistiques"
      ]
    },
    {
      "cell_type": "markdown",
      "metadata": {
        "id": "tTEPz0IYx5GZ"
      },
      "source": [
        "### Question 5.1\n",
        "Les valeurs aberrantes ou outliers, doivent être traitées ou du moins identifier. Il existe de nombreuses méthodes pour le faire: Tests Statistiques, Machine Learning ou statistiques basiques. Ici nous commencerons par utiliser un calcul basique se basant sur la variance et la moyenne.\n",
        "\n",
        "Dans un premier temps nous allons utiliser des boxplot afin de les identifier visuellement. Utiliser Seaborn pour afficher les boxplot de la variable \"count\", puis \"count\" par \"season\", \"count\" par \"weekday\" et \"count\" par \"hour\".\n",
        "\n",
        "https://seaborn.pydata.org/generated/seaborn.boxplot.html"
      ]
    },
    {
      "cell_type": "markdown",
      "metadata": {
        "id": "nnl_2MTmx5Ga"
      },
      "source": [
        "<p align=\"center\">\n",
        "  <img width=\"600\" height=\"200\" src=\"https://miro.medium.com/max/18000/1*2c21SkzJMf3frPXPAR_gZA.png\">\n",
        "</p>\n",
        "\n",
        "<p align=\"center\">\n",
        "  <img width=\"600\" height=\"200\" src=\"https://www.statisticshowto.datasciencecentral.com/wp-content/uploads/2013/09/how-to-find-outliers.jpg\">\n",
        "</p>\n"
      ]
    },
    {
      "cell_type": "code",
      "execution_count": 203,
      "metadata": {
        "id": "EszTgeINx5Ga",
        "outputId": "331af5d8-20f2-4bb1-f915-1c5fe93d3d1a",
        "colab": {
          "base_uri": "https://localhost:8080/",
          "height": 503
        }
      },
      "outputs": [
        {
          "output_type": "execute_result",
          "data": {
            "text/plain": [
              "[Text(0, 0.5, 'Count'), Text(0.5, 1.0, 'Box Plot On Count')]"
            ]
          },
          "metadata": {},
          "execution_count": 203
        },
        {
          "output_type": "display_data",
          "data": {
            "text/plain": [
              "<Figure size 576x576 with 1 Axes>"
            ],
            "image/png": "[encoded data removed]"
          },
          "metadata": {
            "needs_background": "light"
          }
        }
      ],
      "source": [
        "fig, axes = plt.subplots(nrows=1,ncols=1)\n",
        "fig.set_size_inches(8, 8)\n",
        "sn.boxplot(data=df,y=\"count\",orient=\"v\",ax=axes)\n",
        "\n",
        "axes.set(ylabel='Count',title=\"Box Plot On Count\")"
      ]
    },
    {
      "cell_type": "code",
      "execution_count": 204,
      "metadata": {
        "id": "acLmNXC4x5Ga",
        "outputId": "35355acd-a768-4a30-9f05-eb3f55e23a55",
        "colab": {
          "base_uri": "https://localhost:8080/",
          "height": 567
        }
      },
      "outputs": [
        {
          "output_type": "execute_result",
          "data": {
            "text/plain": [
              "[Text(0, 0.5, 'Count'),\n",
              " Text(0.5, 0, 'Season'),\n",
              " Text(0.5, 1.0, 'Box Plot On Count Across Season')]"
            ]
          },
          "metadata": {},
          "execution_count": 204
        },
        {
          "output_type": "display_data",
          "data": {
            "text/plain": [
              "<Figure size 576x576 with 1 Axes>"
            ],
            "image/png": "[encoded data removed]"
          },
          "metadata": {
            "needs_background": "light"
          }
        }
      ],
      "source": [
        "fig, axes = plt.subplots(nrows=1,ncols=1)\n",
        "fig.set_size_inches(8, 8)\n",
        "sn.boxplot(data=df,y=\"count\",x=\"season\",orient=\"v\",ax=axes)\n",
        "axes.set(xlabel='Season', ylabel='Count',title=\"Box Plot On Count Across Season\")"
      ]
    },
    {
      "cell_type": "code",
      "execution_count": 205,
      "metadata": {
        "id": "mNAdlpOlx5Ga",
        "outputId": "49893c4b-2b09-49c8-d442-1456dad1d97b",
        "colab": {
          "base_uri": "https://localhost:8080/",
          "height": 567
        }
      },
      "outputs": [
        {
          "output_type": "execute_result",
          "data": {
            "text/plain": [
              "[Text(0, 0.5, 'Count'),\n",
              " Text(0.5, 0, 'Hour Of The Day'),\n",
              " Text(0.5, 1.0, 'Box Plot On Count Across Hour Of The Day')]"
            ]
          },
          "metadata": {},
          "execution_count": 205
        },
        {
          "output_type": "display_data",
          "data": {
            "text/plain": [
              "<Figure size 576x576 with 1 Axes>"
            ],
            "image/png": "[encoded data removed]"
          },
          "metadata": {
            "needs_background": "light"
          }
        }
      ],
      "source": [
        "fig, axes = plt.subplots(nrows=1,ncols=1)\n",
        "fig.set_size_inches(8, 8)\n",
        "sn.boxplot(data=df,y=\"count\",x=\"hour\",orient=\"v\",ax=axes)\n",
        "axes.set(xlabel='Hour Of The Day', ylabel='Count',title=\"Box Plot On Count Across Hour Of The Day\")"
      ]
    },
    {
      "cell_type": "code",
      "execution_count": 206,
      "metadata": {
        "id": "FhCp5XHkx5Ga",
        "outputId": "0e8cf6fc-9f1c-4ef6-99d9-26b96f3dfee0",
        "colab": {
          "base_uri": "https://localhost:8080/",
          "height": 567
        }
      },
      "outputs": [
        {
          "output_type": "execute_result",
          "data": {
            "text/plain": [
              "[Text(0, 0.5, 'Count'),\n",
              " Text(0.5, 0, 'Working Day'),\n",
              " Text(0.5, 1.0, 'Box Plot On Count Across Working Day')]"
            ]
          },
          "metadata": {},
          "execution_count": 206
        },
        {
          "output_type": "display_data",
          "data": {
            "text/plain": [
              "<Figure size 576x576 with 1 Axes>"
            ],
            "image/png": "[encoded data removed]"
          },
          "metadata": {
            "needs_background": "light"
          }
        }
      ],
      "source": [
        "df[\"workingday\"] = df[\"workingday\"].astype(\"int\")\n",
        "fig, axes = plt.subplots(nrows=1,ncols=1)\n",
        "fig.set_size_inches(8, 8)\n",
        "sn.boxplot(data=df,y=\"workingday\",x=\"count\",orient=\"v\",ax=axes)\n",
        "axes.set(xlabel='Working Day', ylabel='Count',title=\"Box Plot On Count Across Working Day\")"
      ]
    },
    {
      "cell_type": "markdown",
      "metadata": {
        "id": "UEnXMHuSx5Ga"
      },
      "source": [
        "### Question 5.2\n",
        "\n",
        "Pour l'approche basique nous associerons les outliers de \"count\" à des individus qui ne respecte pas la fonction suivante: np.abs(dailyData[\"count\"] - dailyData[\"count\"].mean()) <= (3 * dailyData[\"count\"].std())\n",
        "\n",
        "1. Création d'un nouveau DataFrame appelé df_without_outliers par exemple partant du DataFrame original en filtrant sur les outliers tels qu'ils sont définis ci dessus.\n",
        "2. Combien d'outliers à-t-on filtré ?"
      ]
    },
    {
      "cell_type": "code",
      "execution_count": 207,
      "metadata": {
        "id": "4TmQ_cvex5Gb"
      },
      "outputs": [],
      "source": [
        "df_without_outliers = df[\n",
        "    np.abs(df[\"count\"] - df[\"count\"].mean()) <= (3 * df[\"count\"].std())\n",
        "] "
      ]
    },
    {
      "cell_type": "code",
      "execution_count": 208,
      "metadata": {
        "id": "zPF1l6Fdx5Gb",
        "outputId": "6b675af4-a49a-49e1-ef98-fc2d765ed0ce",
        "colab": {
          "base_uri": "https://localhost:8080/"
        }
      },
      "outputs": [
        {
          "output_type": "execute_result",
          "data": {
            "text/plain": [
              "147"
            ]
          },
          "metadata": {},
          "execution_count": 208
        }
      ],
      "source": [
        "df.shape[0] - df[np.abs(df[\"count\"] - df[\"count\"].mean()) <= (3 * df[\"count\"].std())].shape[0]"
      ]
    },
    {
      "cell_type": "code",
      "execution_count": 209,
      "metadata": {
        "id": "SR3HIj8Jx5Gb",
        "outputId": "142298bf-c9c3-4caa-c33d-941157101683",
        "colab": {
          "base_uri": "https://localhost:8080/"
        }
      },
      "outputs": [
        {
          "output_type": "stream",
          "name": "stdout",
          "text": [
            "Shape Of The Before Ouliers:  (10886, 15)\n",
            "Shape Of The After Ouliers:  (10739, 15)\n"
          ]
        }
      ],
      "source": [
        "print (\"Shape Of The Before Ouliers: \",df.shape)\n",
        "print (\"Shape Of The After Ouliers: \",df_without_outliers.shape)"
      ]
    },
    {
      "cell_type": "markdown",
      "metadata": {
        "id": "aw2L38Dpx5Gb"
      },
      "source": [
        "### Question 6\n",
        "L'étude de la corrélation fait partie aussi de la vérification de la qualité de la donnée. Cela peut permettre à la fois d'identifier un redondance d'information ou encore des variables qui sont induites de notre variables cible, dépendante de celle ci.\n",
        "\n",
        "Etudier les corrélations entre les différentes variables grâce à la fonction, Quelles variables sont très corrélées ? Visualiser ces corrélations grâce à la fonction heatmap de seaborn.\n",
        "\n",
        "1. Identfiier les variables trops corrélés\n",
        "2. Faut il supprimer des variables de notre jeux de données avant de passer à l'étape de Machine Learning? Attention à la fuite de donnée - Data Leakage. Identifier ce qu'est le Data Learkage.\n",
        "3. Afficher le graphique regplot() de seaborn avec les variables \"count\" et \"registered\" "
      ]
    },
    {
      "cell_type": "code",
      "execution_count": 210,
      "metadata": {
        "id": "128vQglQx5Gb",
        "outputId": "8d7c58a2-6d6e-4915-b546-29325718ea81",
        "colab": {
          "base_uri": "https://localhost:8080/",
          "height": 563
        }
      },
      "outputs": [
        {
          "output_type": "execute_result",
          "data": {
            "text/plain": [
              "<matplotlib.axes._subplots.AxesSubplot at 0x7f24b58f9ac0>"
            ]
          },
          "metadata": {},
          "execution_count": 210
        },
        {
          "output_type": "display_data",
          "data": {
            "text/plain": [
              "<Figure size 1440x720 with 2 Axes>"
            ],
            "image/png": "[encoded data removed]"
          },
          "metadata": {
            "needs_background": "light"
          }
        }
      ],
      "source": [
        "corrMatt = df.corr()\n",
        "mask = np.array(corrMatt)\n",
        "mask[np.tril_indices_from(mask)] = False\n",
        "fig,ax= plt.subplots()\n",
        "fig.set_size_inches(20,10)\n",
        "sn.heatmap(corrMatt, mask=mask,vmax=.8, square=True,annot=True)"
      ]
    },
    {
      "cell_type": "code",
      "execution_count": 211,
      "metadata": {
        "id": "x2UdprjFx5Gc",
        "outputId": "8ac21bf9-0c46-4c3d-9eec-d6d9a2ea8cf8",
        "colab": {
          "base_uri": "https://localhost:8080/",
          "height": 308
        }
      },
      "outputs": [
        {
          "output_type": "execute_result",
          "data": {
            "text/plain": [
              "<matplotlib.axes._subplots.AxesSubplot at 0x7f24b56e5700>"
            ]
          },
          "metadata": {},
          "execution_count": 211
        },
        {
          "output_type": "display_data",
          "data": {
            "text/plain": [
              "<Figure size 864x360 with 1 Axes>"
            ],
            "image/png": "[encoded data removed]"
          },
          "metadata": {
            "needs_background": "light"
          }
        }
      ],
      "source": [
        "fig,ax = plt.subplots()\n",
        "fig.set_size_inches(12, 5)\n",
        "sn.regplot(x=\"registered\", y=\"count\", data=df,ax=ax)"
      ]
    },
    {
      "cell_type": "markdown",
      "metadata": {
        "id": "a9Quecayx5Gc"
      },
      "source": [
        "### Question 7\n",
        "Nous avons une variable temporelle dans notre jeu de données. Afin de vérifier la cohérence de la donnée et de vérifier certaines hypothéses, afficher l'évolution du nombre de vélo par jour par heures pour les 4 saisons, les jours de la semaine et pour la variable \"weekday\". pointplot() de seborn.\n",
        "\n",
        "Afficher un diagramme à bar permmettant de mettre en avant le nombre de vélo loué par mois. barplot() de seaborn. \n",
        "\n",
        "1. Aggréger la donnéé count par dimension: Season, mois, weekday. Pour cela vous utiliserez cette syntaxe: featureAggregated = pd.DataFrame(df.groupby(\"feature\")[\"count\"].mean()).reset_index(). Ici la dimension est \"feature\"\n",
        "2. Faire la même chose avec deux dimensions: Hour + season, Hour + mois, hour + weekday. ici feature = [\"col1\", \"col2\"]"
      ]
    },
    {
      "cell_type": "code",
      "execution_count": 212,
      "metadata": {
        "id": "jMZxIFEnx5Gc"
      },
      "outputs": [],
      "source": [
        "sortOrder = [\"January\",\"February\",\"March\",\"April\",\"May\",\"June\",\"July\",\"August\",\"September\",\"October\",\"November\",\"December\"]\n",
        "hueOrder = [\"Sunday\",\"Monday\",\"Tuesday\",\"Wednesday\",\"Thursday\",\"Friday\",\"Saturday\"]\n",
        "monthAggregated = pd.DataFrame(df.groupby(\"month\")[\"count\"].mean()).reset_index()"
      ]
    },
    {
      "cell_type": "code",
      "execution_count": 213,
      "metadata": {
        "id": "_grhDv7ox5Gc",
        "outputId": "eb366e8e-58b0-4e59-f981-61e0525a7dda",
        "colab": {
          "base_uri": "https://localhost:8080/",
          "height": 361
        }
      },
      "outputs": [
        {
          "output_type": "execute_result",
          "data": {
            "text/plain": [
              "[Text(0, 0.5, 'Avearage Count'),\n",
              " Text(0.5, 0, 'Month'),\n",
              " Text(0.5, 1.0, 'Average Count By Month')]"
            ]
          },
          "metadata": {},
          "execution_count": 213
        },
        {
          "output_type": "display_data",
          "data": {
            "text/plain": [
              "<Figure size 864x360 with 1 Axes>"
            ],
            "image/png": "[encoded data removed]"
          },
          "metadata": {
            "needs_background": "light"
          }
        }
      ],
      "source": [
        "fig,ax= plt.subplots()\n",
        "fig.set_size_inches(12,5)\n",
        "\n",
        "sn.barplot(data=monthAggregated,x=\"month\",y=\"count\",ax=ax,order=sortOrder)\n",
        "ax.set(xlabel='Month', ylabel='Avearage Count',title=\"Average Count By Month\")"
      ]
    },
    {
      "cell_type": "code",
      "execution_count": 214,
      "metadata": {
        "id": "B3EV78uZx5Gc"
      },
      "outputs": [],
      "source": [
        "hourAggregated = pd.DataFrame(df.groupby([\"hour\",\"season\"],sort=True)[\"count\"].mean()).reset_index()"
      ]
    },
    {
      "cell_type": "code",
      "execution_count": 215,
      "metadata": {
        "id": "4B-FsNn3x5Gc",
        "outputId": "ebd15d31-b708-43fb-ea83-7ba4cb7cca22",
        "colab": {
          "base_uri": "https://localhost:8080/",
          "height": 379
        }
      },
      "outputs": [
        {
          "output_type": "execute_result",
          "data": {
            "text/plain": [
              "[Text(0, 0.5, 'Users Count'),\n",
              " Text(0.5, 0, 'Hour Of The Day'),\n",
              " Text(0.5, 1.0, 'Average Users Count By Hour Of The Day Across Season'),\n",
              " None]"
            ]
          },
          "metadata": {},
          "execution_count": 215
        },
        {
          "output_type": "display_data",
          "data": {
            "text/plain": [
              "<Figure size 864x360 with 1 Axes>"
            ],
            "image/png": "[encoded data removed]"
          },
          "metadata": {
            "needs_background": "light"
          }
        }
      ],
      "source": [
        "fig,ax= plt.subplots()\n",
        "fig.set_size_inches(12,5)\n",
        "sn.pointplot(x=hourAggregated[\"hour\"], y=hourAggregated[\"count\"],hue=hourAggregated[\"season\"], data=hourAggregated, join=True,ax=ax)\n",
        "ax.set(xlabel='Hour Of The Day', ylabel='Users Count',title=\"Average Users Count By Hour Of The Day Across Season\",label='big')"
      ]
    },
    {
      "cell_type": "code",
      "execution_count": 216,
      "metadata": {
        "id": "o3oXdQAux5Gc"
      },
      "outputs": [],
      "source": [
        "hourAggregated = pd.DataFrame(df.groupby([\"hour\",\"weekday\"],sort=True)[\"count\"].mean()).reset_index()"
      ]
    },
    {
      "cell_type": "code",
      "execution_count": 217,
      "metadata": {
        "id": "aZjUt8fpx5Gd",
        "outputId": "804226ba-01a2-4497-9d1f-36389c542baf",
        "colab": {
          "base_uri": "https://localhost:8080/",
          "height": 379
        }
      },
      "outputs": [
        {
          "output_type": "execute_result",
          "data": {
            "text/plain": [
              "[Text(0, 0.5, 'Users Count'),\n",
              " Text(0.5, 0, 'Hour Of The Day'),\n",
              " Text(0.5, 1.0, 'Average Users Count By Hour Of The Day Across Weekdays'),\n",
              " None]"
            ]
          },
          "metadata": {},
          "execution_count": 217
        },
        {
          "output_type": "display_data",
          "data": {
            "text/plain": [
              "<Figure size 864x360 with 1 Axes>"
            ],
            "image/png": "[encoded data removed]"
          },
          "metadata": {
            "needs_background": "light"
          }
        }
      ],
      "source": [
        "fig,ax= plt.subplots()\n",
        "fig.set_size_inches(12,5)\n",
        "\n",
        "sn.pointplot(x=hourAggregated[\"hour\"], y=hourAggregated[\"count\"],hue=hourAggregated[\"weekday\"],hue_order=hueOrder, data=hourAggregated, join=True,ax=ax)\n",
        "ax.set(xlabel='Hour Of The Day', ylabel='Users Count',title=\"Average Users Count By Hour Of The Day Across Weekdays\",label='big')"
      ]
    },
    {
      "cell_type": "code",
      "execution_count": 218,
      "metadata": {
        "id": "Xdgw2V_ux5Gd",
        "outputId": "226ef627-9e62-44cb-e41f-3d20e73d49cc",
        "colab": {
          "base_uri": "https://localhost:8080/",
          "height": 206
        }
      },
      "outputs": [
        {
          "output_type": "execute_result",
          "data": {
            "text/plain": [
              "  hour    variable      value\n",
              "0   00      casual  10.312088\n",
              "1   00  registered  44.826374\n",
              "2   01      casual   6.513216\n",
              "3   01  registered  27.345815\n",
              "4   02      casual   4.819196"
            ],
            "text/html": [
              "\n",
              "  <div id=\"df-561e8031-a4c1-4356-b242-fb0fa2b17438\">\n",
              "    <div class=\"colab-df-container\">\n",
              "      <div>\n",
              "<style scoped>\n",
              "    .dataframe tbody tr th:only-of-type {\n",
              "        vertical-align: middle;\n",
              "    }\n",
              "\n",
              "    .dataframe tbody tr th {\n",
              "        vertical-align: top;\n",
              "    }\n",
              "\n",
              "    .dataframe thead th {\n",
              "        text-align: right;\n",
              "    }\n",
              "</style>\n",
              "<table border=\"1\" class=\"dataframe\">\n",
              "  <thead>\n",
              "    <tr style=\"text-align: right;\">\n",
              "      <th></th>\n",
              "      <th>hour</th>\n",
              "      <th>variable</th>\n",
              "      <th>value</th>\n",
              "    </tr>\n",
              "  </thead>\n",
              "  <tbody>\n",
              "    <tr>\n",
              "      <th>0</th>\n",
              "      <td>00</td>\n",
              "      <td>casual</td>\n",
              "      <td>10.312088</td>\n",
              "    </tr>\n",
              "    <tr>\n",
              "      <th>1</th>\n",
              "      <td>00</td>\n",
              "      <td>registered</td>\n",
              "      <td>44.826374</td>\n",
              "    </tr>\n",
              "    <tr>\n",
              "      <th>2</th>\n",
              "      <td>01</td>\n",
              "      <td>casual</td>\n",
              "      <td>6.513216</td>\n",
              "    </tr>\n",
              "    <tr>\n",
              "      <th>3</th>\n",
              "      <td>01</td>\n",
              "      <td>registered</td>\n",
              "      <td>27.345815</td>\n",
              "    </tr>\n",
              "    <tr>\n",
              "      <th>4</th>\n",
              "      <td>02</td>\n",
              "      <td>casual</td>\n",
              "      <td>4.819196</td>\n",
              "    </tr>\n",
              "  </tbody>\n",
              "</table>\n",
              "</div>\n",
              "      <button class=\"colab-df-convert\" onclick=\"convertToInteractive('df-561e8031-a4c1-4356-b242-fb0fa2b17438')\"\n",
              "              title=\"Convert this dataframe to an interactive table.\"\n",
              "              style=\"display:none;\">\n",
              "        \n",
              "  <svg xmlns=\"http://www.w3.org/2000/svg\" height=\"24px\"viewBox=\"0 0 24 24\"\n",
              "       width=\"24px\">\n",
              "    <path d=\"M0 0h24v24H0V0z\" fill=\"none\"/>\n",
              "    <path d=\"M18.56 5.44l.94 2.06.94-2.06 2.06-.94-2.06-.94-.94-2.06-.94 2.06-2.06.94zm-11 1L8.5 8.5l.94-2.06 2.06-.94-2.06-.94L8.5 2.5l-.94 2.06-2.06.94zm10 10l.94 2.06.94-2.06 2.06-.94-2.06-.94-.94-2.06-.94 2.06-2.06.94z\"/><path d=\"M17.41 7.96l-1.37-1.37c-.4-.4-.92-.59-1.43-.59-.52 0-1.04.2-1.43.59L10.3 9.45l-7.72 7.72c-.78.78-.78 2.05 0 2.83L4 21.41c.39.39.9.59 1.41.59.51 0 1.02-.2 1.41-.59l7.78-7.78 2.81-2.81c.8-.78.8-2.07 0-2.86zM5.41 20L4 18.59l7.72-7.72 1.47 1.35L5.41 20z\"/>\n",
              "  </svg>\n",
              "      </button>\n",
              "      \n",
              "  <style>\n",
              "    .colab-df-container {\n",
              "      display:flex;\n",
              "      flex-wrap:wrap;\n",
              "      gap: 12px;\n",
              "    }\n",
              "\n",
              "    .colab-df-convert {\n",
              "      background-color: #E8F0FE;\n",
              "      border: none;\n",
              "      border-radius: 50%;\n",
              "      cursor: pointer;\n",
              "      display: none;\n",
              "      fill: #1967D2;\n",
              "      height: 32px;\n",
              "      padding: 0 0 0 0;\n",
              "      width: 32px;\n",
              "    }\n",
              "\n",
              "    .colab-df-convert:hover {\n",
              "      background-color: #E2EBFA;\n",
              "      box-shadow: 0px 1px 2px rgba(60, 64, 67, 0.3), 0px 1px 3px 1px rgba(60, 64, 67, 0.15);\n",
              "      fill: #174EA6;\n",
              "    }\n",
              "\n",
              "    [theme=dark] .colab-df-convert {\n",
              "      background-color: #3B4455;\n",
              "      fill: #D2E3FC;\n",
              "    }\n",
              "\n",
              "    [theme=dark] .colab-df-convert:hover {\n",
              "      background-color: #434B5C;\n",
              "      box-shadow: 0px 1px 3px 1px rgba(0, 0, 0, 0.15);\n",
              "      filter: drop-shadow(0px 1px 2px rgba(0, 0, 0, 0.3));\n",
              "      fill: #FFFFFF;\n",
              "    }\n",
              "  </style>\n",
              "\n",
              "      <script>\n",
              "        const buttonEl =\n",
              "          document.querySelector('#df-561e8031-a4c1-4356-b242-fb0fa2b17438 button.colab-df-convert');\n",
              "        buttonEl.style.display =\n",
              "          google.colab.kernel.accessAllowed ? 'block' : 'none';\n",
              "\n",
              "        async function convertToInteractive(key) {\n",
              "          const element = document.querySelector('#df-561e8031-a4c1-4356-b242-fb0fa2b17438');\n",
              "          const dataTable =\n",
              "            await google.colab.kernel.invokeFunction('convertToInteractive',\n",
              "                                                     [key], {});\n",
              "          if (!dataTable) return;\n",
              "\n",
              "          const docLinkHtml = 'Like what you see? Visit the ' +\n",
              "            '<a target=\"_blank\" href=https://colab.research.google.com/notebooks/data_table.ipynb>data table notebook</a>'\n",
              "            + ' to learn more about interactive tables.';\n",
              "          element.innerHTML = '';\n",
              "          dataTable['output_type'] = 'display_data';\n",
              "          await google.colab.output.renderOutput(dataTable, element);\n",
              "          const docLink = document.createElement('div');\n",
              "          docLink.innerHTML = docLinkHtml;\n",
              "          element.appendChild(docLink);\n",
              "        }\n",
              "      </script>\n",
              "    </div>\n",
              "  </div>\n",
              "  "
            ]
          },
          "metadata": {},
          "execution_count": 218
        }
      ],
      "source": [
        "hourTransformed = pd.melt(df[[\"hour\",\"casual\",\"registered\"]], id_vars=['hour'], value_vars=['casual', 'registered'])\n",
        "hourAggregated = pd.DataFrame(hourTransformed.groupby([\"hour\",\"variable\"],sort=True)[\"value\"].mean()).reset_index()\n",
        "hourAggregated.head()"
      ]
    },
    {
      "cell_type": "code",
      "execution_count": 219,
      "metadata": {
        "id": "YnRi0onyx5Gd",
        "outputId": "46ae39b5-b08a-4cae-b953-841a9ada0fb8",
        "colab": {
          "base_uri": "https://localhost:8080/",
          "height": 379
        }
      },
      "outputs": [
        {
          "output_type": "execute_result",
          "data": {
            "text/plain": [
              "[Text(0, 0.5, 'Users Count'),\n",
              " Text(0.5, 0, 'Hour Of The Day'),\n",
              " Text(0.5, 1.0, 'Average Users Count By Hour Of The Day Across User Type'),\n",
              " None]"
            ]
          },
          "metadata": {},
          "execution_count": 219
        },
        {
          "output_type": "display_data",
          "data": {
            "text/plain": [
              "<Figure size 864x360 with 1 Axes>"
            ],
            "image/png": "[encoded data removed]"
          },
          "metadata": {
            "needs_background": "light"
          }
        }
      ],
      "source": [
        "fig,ax= plt.subplots()\n",
        "fig.set_size_inches(12,5)\n",
        "\n",
        "sn.pointplot(x=hourAggregated[\"hour\"], y=hourAggregated[\"value\"],hue=hourAggregated[\"variable\"],hue_order=[\"casual\",\"registered\"], data=hourAggregated, join=True,ax=ax)\n",
        "ax.set(xlabel='Hour Of The Day', ylabel='Users Count',title=\"Average Users Count By Hour Of The Day Across User Type\",label='big')"
      ]
    },
    {
      "cell_type": "markdown",
      "metadata": {
        "id": "8JYrMSfqx5Gd"
      },
      "source": [
        "Que dire de la variable mois? saison? et Weekday? Semblent-elles pertinentes pour la prédiction de \"count\"?"
      ]
    },
    {
      "cell_type": "markdown",
      "metadata": {
        "id": "Ey8FQ76wx5Gd"
      },
      "source": [
        "## Partie 2 : Modélisation\n",
        "\n",
        "Maintenant que nous avons traité notre fichier et que nous avons notre SmartData, nous allons pouvoir commencer par mettre en place notre pipeline de Machine Learning."
      ]
    },
    {
      "cell_type": "markdown",
      "metadata": {
        "id": "1_StVgN-x5Gd"
      },
      "source": [
        "### Question 1.1\n",
        "Verifier que vous avez supprimé les variable inutiles ou qui se déduisent de la variable cible. Il y en a 3 ou 4 à supprimer."
      ]
    },
    {
      "cell_type": "code",
      "source": [
        "df.columns"
      ],
      "metadata": {
        "id": "4Yb0GnPoR8mK",
        "outputId": "aad8c0bd-9ac5-41ac-d543-6431526846d6",
        "colab": {
          "base_uri": "https://localhost:8080/"
        }
      },
      "execution_count": 220,
      "outputs": [
        {
          "output_type": "execute_result",
          "data": {
            "text/plain": [
              "Index(['datetime', 'season', 'holiday', 'workingday', 'weather', 'temp',\n",
              "       'humidity', 'windspeed', 'casual', 'registered', 'count', 'date',\n",
              "       'hour', 'weekday', 'month'],\n",
              "      dtype='object')"
            ]
          },
          "metadata": {},
          "execution_count": 220
        }
      ]
    },
    {
      "cell_type": "code",
      "execution_count": 221,
      "metadata": {
        "id": "vC5eaMFYx5Gd"
      },
      "outputs": [],
      "source": [
        "dropFeatures = [\"holiday\",\"date\",\"datetime\"]\n",
        "df = df.drop(dropFeatures, axis=1)"
      ]
    },
    {
      "cell_type": "markdown",
      "metadata": {
        "id": "Eu_OYu43x5Ge"
      },
      "source": [
        "### Question 1.2 :\n",
        "Les variables catégorielles doivent être traités pour être utilisable par des modèles linéaires. Pour cela il faut créer une variable par catégorie. \n",
        "1. Utiliser data = pd.get_dummies(data,columns=[\"nom_col]) pour transformer les variables catégorielles que vous avez identifés\n",
        "2. Afficher les noms des colonnes du DataFrame"
      ]
    },
    {
      "cell_type": "code",
      "execution_count": 222,
      "metadata": {
        "id": "0l1z2tVnx5Ge",
        "outputId": "691a63b7-332a-483c-a917-0ed1b485ef22",
        "colab": {
          "base_uri": "https://localhost:8080/"
        }
      },
      "outputs": [
        {
          "output_type": "execute_result",
          "data": {
            "text/plain": [
              "Index(['workingday', 'temp', 'humidity', 'windspeed', 'casual', 'registered',\n",
              "       'count', 'hour_00', 'hour_01', 'hour_02', 'hour_03', 'hour_04',\n",
              "       'hour_05', 'hour_06', 'hour_07', 'hour_08', 'hour_09', 'hour_10',\n",
              "       'hour_11', 'hour_12', 'hour_13', 'hour_14', 'hour_15', 'hour_16',\n",
              "       'hour_17', 'hour_18', 'hour_19', 'hour_20', 'hour_21', 'hour_22',\n",
              "       'hour_23', 'weekday_Friday', 'weekday_Monday', 'weekday_Saturday',\n",
              "       'weekday_Sunday', 'weekday_Thursday', 'weekday_Tuesday',\n",
              "       'weekday_Wednesday', 'month_April', 'month_August', 'month_December',\n",
              "       'month_February', 'month_January', 'month_July', 'month_June',\n",
              "       'month_March', 'month_May', 'month_November', 'month_October',\n",
              "       'month_September', 'season_automns', 'season_hiver', 'season_printemps',\n",
              "       'season_été',\n",
              "       'weather_ Clear + Few clouds + Partly cloudy + Partly cloudy',\n",
              "       'weather_ Heavy Rain + Ice Pallets + Thunderstorm + Mist, Snow + Fog ',\n",
              "       'weather_ Light Snow, Light Rain + Thunderstorm + Scattered clouds, Light Rain + Scattered clouds',\n",
              "       'weather_ Mist + Cloudy, Mist + Broken clouds, Mist + Few clouds, Mist '],\n",
              "      dtype='object')"
            ]
          },
          "metadata": {},
          "execution_count": 222
        }
      ],
      "source": [
        "df = pd.get_dummies(df,columns=[\"hour\"])\n",
        "df = pd.get_dummies(df,columns=[\"weekday\"])\n",
        "df = pd.get_dummies(df,columns=[\"month\"])\n",
        "df = pd.get_dummies(df,columns=[\"season\"])\n",
        "df = pd.get_dummies(df,columns=[\"weather\"])\n",
        "df.columns"
      ]
    },
    {
      "cell_type": "code",
      "execution_count": 223,
      "metadata": {
        "id": "_akk9VJCx5Ge",
        "outputId": "e4a61346-12e3-401b-c248-c9131a5e84ed",
        "colab": {
          "base_uri": "https://localhost:8080/",
          "height": 455
        }
      },
      "outputs": [
        {
          "output_type": "execute_result",
          "data": {
            "text/plain": [
              "   workingday  temp  humidity  windspeed  casual  registered  count  hour_00  \\\n",
              "0           0  9.84        81        0.0       3          13     16        1   \n",
              "1           0  9.02        80        0.0       8          32     40        0   \n",
              "2           0  9.02        80        0.0       5          27     32        0   \n",
              "3           0  9.84        75        0.0       3          10     13        0   \n",
              "4           0  9.84        75        0.0       0           1      1        0   \n",
              "\n",
              "   hour_01  hour_02  ...  month_October  month_September  season_automns  \\\n",
              "0        0        0  ...              0                0               0   \n",
              "1        1        0  ...              0                0               0   \n",
              "2        0        1  ...              0                0               0   \n",
              "3        0        0  ...              0                0               0   \n",
              "4        0        0  ...              0                0               0   \n",
              "\n",
              "   season_hiver  season_printemps  season_été  \\\n",
              "0             1                 0           0   \n",
              "1             1                 0           0   \n",
              "2             1                 0           0   \n",
              "3             1                 0           0   \n",
              "4             1                 0           0   \n",
              "\n",
              "   weather_ Clear + Few clouds + Partly cloudy + Partly cloudy  \\\n",
              "0                                                  1             \n",
              "1                                                  1             \n",
              "2                                                  1             \n",
              "3                                                  1             \n",
              "4                                                  1             \n",
              "\n",
              "   weather_ Heavy Rain + Ice Pallets + Thunderstorm + Mist, Snow + Fog   \\\n",
              "0                                                  0                      \n",
              "1                                                  0                      \n",
              "2                                                  0                      \n",
              "3                                                  0                      \n",
              "4                                                  0                      \n",
              "\n",
              "   weather_ Light Snow, Light Rain + Thunderstorm + Scattered clouds, Light Rain + Scattered clouds  \\\n",
              "0                                                  0                                                  \n",
              "1                                                  0                                                  \n",
              "2                                                  0                                                  \n",
              "3                                                  0                                                  \n",
              "4                                                  0                                                  \n",
              "\n",
              "   weather_ Mist + Cloudy, Mist + Broken clouds, Mist + Few clouds, Mist   \n",
              "0                                                  0                       \n",
              "1                                                  0                       \n",
              "2                                                  0                       \n",
              "3                                                  0                       \n",
              "4                                                  0                       \n",
              "\n",
              "[5 rows x 58 columns]"
            ],
            "text/html": [
              "\n",
              "  <div id=\"df-12cec24a-3591-4607-818d-f5d23540bdd1\">\n",
              "    <div class=\"colab-df-container\">\n",
              "      <div>\n",
              "<style scoped>\n",
              "    .dataframe tbody tr th:only-of-type {\n",
              "        vertical-align: middle;\n",
              "    }\n",
              "\n",
              "    .dataframe tbody tr th {\n",
              "        vertical-align: top;\n",
              "    }\n",
              "\n",
              "    .dataframe thead th {\n",
              "        text-align: right;\n",
              "    }\n",
              "</style>\n",
              "<table border=\"1\" class=\"dataframe\">\n",
              "  <thead>\n",
              "    <tr style=\"text-align: right;\">\n",
              "      <th></th>\n",
              "      <th>workingday</th>\n",
              "      <th>temp</th>\n",
              "      <th>humidity</th>\n",
              "      <th>windspeed</th>\n",
              "      <th>casual</th>\n",
              "      <th>registered</th>\n",
              "      <th>count</th>\n",
              "      <th>hour_00</th>\n",
              "      <th>hour_01</th>\n",
              "      <th>hour_02</th>\n",
              "      <th>...</th>\n",
              "      <th>month_October</th>\n",
              "      <th>month_September</th>\n",
              "      <th>season_automns</th>\n",
              "      <th>season_hiver</th>\n",
              "      <th>season_printemps</th>\n",
              "      <th>season_été</th>\n",
              "      <th>weather_ Clear + Few clouds + Partly cloudy + Partly cloudy</th>\n",
              "      <th>weather_ Heavy Rain + Ice Pallets + Thunderstorm + Mist, Snow + Fog</th>\n",
              "      <th>weather_ Light Snow, Light Rain + Thunderstorm + Scattered clouds, Light Rain + Scattered clouds</th>\n",
              "      <th>weather_ Mist + Cloudy, Mist + Broken clouds, Mist + Few clouds, Mist</th>\n",
              "    </tr>\n",
              "  </thead>\n",
              "  <tbody>\n",
              "    <tr>\n",
              "      <th>0</th>\n",
              "      <td>0</td>\n",
              "      <td>9.84</td>\n",
              "      <td>81</td>\n",
              "      <td>0.0</td>\n",
              "      <td>3</td>\n",
              "      <td>13</td>\n",
              "      <td>16</td>\n",
              "      <td>1</td>\n",
              "      <td>0</td>\n",
              "      <td>0</td>\n",
              "      <td>...</td>\n",
              "      <td>0</td>\n",
              "      <td>0</td>\n",
              "      <td>0</td>\n",
              "      <td>1</td>\n",
              "      <td>0</td>\n",
              "      <td>0</td>\n",
              "      <td>1</td>\n",
              "      <td>0</td>\n",
              "      <td>0</td>\n",
              "      <td>0</td>\n",
              "    </tr>\n",
              "    <tr>\n",
              "      <th>1</th>\n",
              "      <td>0</td>\n",
              "      <td>9.02</td>\n",
              "      <td>80</td>\n",
              "      <td>0.0</td>\n",
              "      <td>8</td>\n",
              "      <td>32</td>\n",
              "      <td>40</td>\n",
              "      <td>0</td>\n",
              "      <td>1</td>\n",
              "      <td>0</td>\n",
              "      <td>...</td>\n",
              "      <td>0</td>\n",
              "      <td>0</td>\n",
              "      <td>0</td>\n",
              "      <td>1</td>\n",
              "      <td>0</td>\n",
              "      <td>0</td>\n",
              "      <td>1</td>\n",
              "      <td>0</td>\n",
              "      <td>0</td>\n",
              "      <td>0</td>\n",
              "    </tr>\n",
              "    <tr>\n",
              "      <th>2</th>\n",
              "      <td>0</td>\n",
              "      <td>9.02</td>\n",
              "      <td>80</td>\n",
              "      <td>0.0</td>\n",
              "      <td>5</td>\n",
              "      <td>27</td>\n",
              "      <td>32</td>\n",
              "      <td>0</td>\n",
              "      <td>0</td>\n",
              "      <td>1</td>\n",
              "      <td>...</td>\n",
              "      <td>0</td>\n",
              "      <td>0</td>\n",
              "      <td>0</td>\n",
              "      <td>1</td>\n",
              "      <td>0</td>\n",
              "      <td>0</td>\n",
              "      <td>1</td>\n",
              "      <td>0</td>\n",
              "      <td>0</td>\n",
              "      <td>0</td>\n",
              "    </tr>\n",
              "    <tr>\n",
              "      <th>3</th>\n",
              "      <td>0</td>\n",
              "      <td>9.84</td>\n",
              "      <td>75</td>\n",
              "      <td>0.0</td>\n",
              "      <td>3</td>\n",
              "      <td>10</td>\n",
              "      <td>13</td>\n",
              "      <td>0</td>\n",
              "      <td>0</td>\n",
              "      <td>0</td>\n",
              "      <td>...</td>\n",
              "      <td>0</td>\n",
              "      <td>0</td>\n",
              "      <td>0</td>\n",
              "      <td>1</td>\n",
              "      <td>0</td>\n",
              "      <td>0</td>\n",
              "      <td>1</td>\n",
              "      <td>0</td>\n",
              "      <td>0</td>\n",
              "      <td>0</td>\n",
              "    </tr>\n",
              "    <tr>\n",
              "      <th>4</th>\n",
              "      <td>0</td>\n",
              "      <td>9.84</td>\n",
              "      <td>75</td>\n",
              "      <td>0.0</td>\n",
              "      <td>0</td>\n",
              "      <td>1</td>\n",
              "      <td>1</td>\n",
              "      <td>0</td>\n",
              "      <td>0</td>\n",
              "      <td>0</td>\n",
              "      <td>...</td>\n",
              "      <td>0</td>\n",
              "      <td>0</td>\n",
              "      <td>0</td>\n",
              "      <td>1</td>\n",
              "      <td>0</td>\n",
              "      <td>0</td>\n",
              "      <td>1</td>\n",
              "      <td>0</td>\n",
              "      <td>0</td>\n",
              "      <td>0</td>\n",
              "    </tr>\n",
              "  </tbody>\n",
              "</table>\n",
              "<p>5 rows × 58 columns</p>\n",
              "</div>\n",
              "      <button class=\"colab-df-convert\" onclick=\"convertToInteractive('df-12cec24a-3591-4607-818d-f5d23540bdd1')\"\n",
              "              title=\"Convert this dataframe to an interactive table.\"\n",
              "              style=\"display:none;\">\n",
              "        \n",
              "  <svg xmlns=\"http://www.w3.org/2000/svg\" height=\"24px\"viewBox=\"0 0 24 24\"\n",
              "       width=\"24px\">\n",
              "    <path d=\"M0 0h24v24H0V0z\" fill=\"none\"/>\n",
              "    <path d=\"M18.56 5.44l.94 2.06.94-2.06 2.06-.94-2.06-.94-.94-2.06-.94 2.06-2.06.94zm-11 1L8.5 8.5l.94-2.06 2.06-.94-2.06-.94L8.5 2.5l-.94 2.06-2.06.94zm10 10l.94 2.06.94-2.06 2.06-.94-2.06-.94-.94-2.06-.94 2.06-2.06.94z\"/><path d=\"M17.41 7.96l-1.37-1.37c-.4-.4-.92-.59-1.43-.59-.52 0-1.04.2-1.43.59L10.3 9.45l-7.72 7.72c-.78.78-.78 2.05 0 2.83L4 21.41c.39.39.9.59 1.41.59.51 0 1.02-.2 1.41-.59l7.78-7.78 2.81-2.81c.8-.78.8-2.07 0-2.86zM5.41 20L4 18.59l7.72-7.72 1.47 1.35L5.41 20z\"/>\n",
              "  </svg>\n",
              "      </button>\n",
              "      \n",
              "  <style>\n",
              "    .colab-df-container {\n",
              "      display:flex;\n",
              "      flex-wrap:wrap;\n",
              "      gap: 12px;\n",
              "    }\n",
              "\n",
              "    .colab-df-convert {\n",
              "      background-color: #E8F0FE;\n",
              "      border: none;\n",
              "      border-radius: 50%;\n",
              "      cursor: pointer;\n",
              "      display: none;\n",
              "      fill: #1967D2;\n",
              "      height: 32px;\n",
              "      padding: 0 0 0 0;\n",
              "      width: 32px;\n",
              "    }\n",
              "\n",
              "    .colab-df-convert:hover {\n",
              "      background-color: #E2EBFA;\n",
              "      box-shadow: 0px 1px 2px rgba(60, 64, 67, 0.3), 0px 1px 3px 1px rgba(60, 64, 67, 0.15);\n",
              "      fill: #174EA6;\n",
              "    }\n",
              "\n",
              "    [theme=dark] .colab-df-convert {\n",
              "      background-color: #3B4455;\n",
              "      fill: #D2E3FC;\n",
              "    }\n",
              "\n",
              "    [theme=dark] .colab-df-convert:hover {\n",
              "      background-color: #434B5C;\n",
              "      box-shadow: 0px 1px 3px 1px rgba(0, 0, 0, 0.15);\n",
              "      filter: drop-shadow(0px 1px 2px rgba(0, 0, 0, 0.3));\n",
              "      fill: #FFFFFF;\n",
              "    }\n",
              "  </style>\n",
              "\n",
              "      <script>\n",
              "        const buttonEl =\n",
              "          document.querySelector('#df-12cec24a-3591-4607-818d-f5d23540bdd1 button.colab-df-convert');\n",
              "        buttonEl.style.display =\n",
              "          google.colab.kernel.accessAllowed ? 'block' : 'none';\n",
              "\n",
              "        async function convertToInteractive(key) {\n",
              "          const element = document.querySelector('#df-12cec24a-3591-4607-818d-f5d23540bdd1');\n",
              "          const dataTable =\n",
              "            await google.colab.kernel.invokeFunction('convertToInteractive',\n",
              "                                                     [key], {});\n",
              "          if (!dataTable) return;\n",
              "\n",
              "          const docLinkHtml = 'Like what you see? Visit the ' +\n",
              "            '<a target=\"_blank\" href=https://colab.research.google.com/notebooks/data_table.ipynb>data table notebook</a>'\n",
              "            + ' to learn more about interactive tables.';\n",
              "          element.innerHTML = '';\n",
              "          dataTable['output_type'] = 'display_data';\n",
              "          await google.colab.output.renderOutput(dataTable, element);\n",
              "          const docLink = document.createElement('div');\n",
              "          docLink.innerHTML = docLinkHtml;\n",
              "          element.appendChild(docLink);\n",
              "        }\n",
              "      </script>\n",
              "    </div>\n",
              "  </div>\n",
              "  "
            ]
          },
          "metadata": {},
          "execution_count": 223
        }
      ],
      "source": [
        "df.head()"
      ]
    },
    {
      "cell_type": "markdown",
      "metadata": {
        "id": "kTur-_Bgx5Ge"
      },
      "source": [
        "### Question 2.1\n",
        "Randomiser les données et séparer le jeu de données. Verifier la taille de vos 2 sous ensembles train / test. Pour cela vous allez utiliser la fonction train_test_split de scikit learn.\n",
        "https://scikit-learn.org/stable/modules/generated/sklearn.model_selection.train_test_split.html. Ajouter une graine avec random_state pour que l'échantillonnage se fait de la même manière à chaque lancement du code.\n",
        "\n",
        "Dans notre exemple nous prendre 80% d'individus pour le train et 20% pour le test.\n",
        "\n",
        "1. Importer sklearn\n",
        "2. importer train_test_split()\n",
        "2. Utiliser train_test_plit()\n",
        "\n",
        "Pour rappel notre variable à prédire est \"count\" et le reste est considéré comme variables prédictives. Il est necessaire d'isoler la variable à prédire dans une nouvelle variable Y et les variables prédictives dans une variable X avant d'utiliser le train_test_split()."
      ]
    },
    {
      "cell_type": "markdown",
      "metadata": {
        "id": "7Y4JYpP9x5Ge"
      },
      "source": [
        "![](https://miro.medium.com/max/2272/1*-8_kogvwmL1H6ooN1A1tsQ.png)"
      ]
    },
    {
      "cell_type": "code",
      "execution_count": 225,
      "metadata": {
        "id": "8271twfjx5Ge"
      },
      "outputs": [],
      "source": [
        "import sklearn\n",
        "from sklearn.model_selection import train_test_split\n",
        "\n",
        "# Variables Descr\n",
        "X = df.drop('count', axis=1)\n",
        "\n",
        "# Variable à prédire\n",
        "Y = df['count']\n",
        "\n",
        "X_train, X_test, Y_train, Y_test = train_test_split(X, Y, test_size = 0.2)"
      ]
    },
    {
      "cell_type": "code",
      "execution_count": 226,
      "metadata": {
        "id": "THrrq7vax5Ge",
        "outputId": "0696f17a-cdfd-4ba9-8122-46b78b950fbd",
        "colab": {
          "base_uri": "https://localhost:8080/"
        }
      },
      "outputs": [
        {
          "output_type": "stream",
          "name": "stdout",
          "text": [
            "(8708, 57) (2178, 57)\n",
            "(8708,) (2178,)\n"
          ]
        }
      ],
      "source": [
        "print(X_train.shape, X_test.shape)\n",
        "print(Y_train.shape, Y_test.shape)"
      ]
    },
    {
      "cell_type": "markdown",
      "metadata": {
        "id": "Wcp3021vx5Ge"
      },
      "source": [
        "### Question 2.2\n",
        "Avant de mettre en palce un modèle, nous devons définir une métrique qui va nous permettre de comparer les différents modèles entre eux afin de définir le plus pertinent mais aussi afin de juger de la qualité prédictive de notre modèle final.\n",
        "\n",
        "Pour cela imprter metrics de sklearn. Nous utiliserons le R2 (r2_score) qui est le coefficient de détermination et calcul la corrélation au carré entre la réalité et la prédiction puis une métrique que nous allons créer. Il est toujours intéréssant d'avoir plusieurs métriques pour comparer nos modèles.\n",
        "\n",
        "1. importer metrics\n",
        "2. Remplir la fonction mae "
      ]
    },
    {
      "cell_type": "markdown",
      "metadata": {
        "id": "yS1IAfGTx5Gf"
      },
      "source": [
        "![](https://slideplayer.fr/slide/3308585/11/images/14/COEFFICIENT+DE+DETERMINATION+-+R%C2%B2.jpg)"
      ]
    },
    {
      "cell_type": "code",
      "execution_count": 227,
      "metadata": {
        "id": "9kHgJnxQx5Gf"
      },
      "outputs": [],
      "source": [
        "# Métrique à créer\n",
        "from sklearn import metrics\n",
        "\n",
        "def rmse(y, y_):\n",
        "    return np.sqrt(np.mean((y-y_)**2))\n",
        "\n",
        "def mae(y, y_):\n",
        "    return np.mean(np.abs(y-y_))"
      ]
    },
    {
      "cell_type": "markdown",
      "metadata": {
        "id": "GBuS4SGFx5Gf"
      },
      "source": [
        "Maintenant que nous avons défini nos 2 métriques, nous allons commencer par utiliser un \"modèle\" très bête! Le modèle appliquant la moyenne ou la médiane à chaque individu dont nous voulons prédire le nombre de vélo qui sera loués.\n",
        "\n",
        "L'hsitorique - l'échantillon d'apprentissage, possède à la fois les variables explicatives et la variable à expliquer. Ainsi l'apprentissage d'un DummyRegressor ce fait de la manière suivante: Calcul de la moyenne ou de la médiane de y_train puis application de cette valeur à l'ensemble des X_test. Ainsi pour calculer la performance de notre modèle nous allons comparer y_test et y_pred, qui correspond à la moyenne ou la médiane de ce que l'on trouve dans l'échantillon d'apprentissage.\n",
        "\n",
        "1. Appliquer Dummyregressor afin d'avoir une baseline - https://scikit-learn.org/stable/modules/generated/sklearn.dummy.DummyRegressor.html. \n",
        "2. Calculer les métriques associées à ce regresseurs."
      ]
    },
    {
      "cell_type": "code",
      "execution_count": 228,
      "metadata": {
        "id": "v88kXSx9x5Gf",
        "outputId": "057e9287-ed06-4f42-9416-735590d19d71",
        "colab": {
          "base_uri": "https://localhost:8080/"
        }
      },
      "outputs": [
        {
          "output_type": "stream",
          "name": "stdout",
          "text": [
            "R2:  -0.0006510857800061665\n",
            "MAE:  145.49826932624362\n"
          ]
        }
      ],
      "source": [
        "from sklearn.dummy import DummyRegressor\n",
        "\n",
        "dummy_regr = DummyRegressor(strategy=\"mean\")\n",
        "\n",
        "dummy_regr.fit(X_train, Y_train)\n",
        "\n",
        "y_pred = dummy_regr.predict(X_test)\n",
        "\n",
        "print(\"R2: \", metrics.r2_score(Y_test, y_pred))\n",
        "print(\"MAE: \", mae(Y_test, y_pred))"
      ]
    },
    {
      "cell_type": "markdown",
      "metadata": {
        "id": "L-ndtZscx5Gf"
      },
      "source": [
        "### Question 3.1\n",
        "1. Tester un premier modèle simple : la régression linéaire. Réaliser un graphe permettant de voir visuellement la qualité de ce modèle. Par exemple scatter de matplotlib permettant de croiser les y_test et les y_pred.\n",
        "2. Afficher les métriques associées à ce nouveau régresseur\n",
        "\n",
        "https://scikit-learn.org/stable/modules/generated/sklearn.linear_model.LinearRegression.html"
      ]
    },
    {
      "cell_type": "markdown",
      "metadata": {
        "id": "IPilmGJHx5Gf"
      },
      "source": [
        "![](https://image.slidesharecdn.com/regresslineairesimpleimp-140113164038-phpapp02/95/regress-lineaire-simple-imp-42-638.jpg?cb=1389631325)"
      ]
    },
    {
      "cell_type": "code",
      "execution_count": 229,
      "metadata": {
        "id": "v5vW-gvJx5Gf",
        "outputId": "6eda4a8b-c563-4778-e72a-6d82ecce3e28",
        "colab": {
          "base_uri": "https://localhost:8080/"
        }
      },
      "outputs": [
        {
          "output_type": "stream",
          "name": "stdout",
          "text": [
            "R2:  1.0\n",
            "MAE:  1.5032827548842295e-13\n"
          ]
        }
      ],
      "source": [
        "from sklearn.linear_model import LinearRegression\n",
        "lModel = LinearRegression()\n",
        "lModel.fit(X=X_train, y=Y_train)\n",
        "\n",
        "y_pred = lModel.predict(X= X_test)\n",
        "\n",
        "print(\"R2: \", metrics.r2_score(Y_test, y_pred))\n",
        "print(\"MAE: \", mae(Y_test, y_pred))"
      ]
    },
    {
      "cell_type": "markdown",
      "metadata": {
        "id": "npz7l71Lx5Gf"
      },
      "source": [
        "### Question 3.2\n",
        "Utiliser - D'autres modèles linéaires - Ridge, Lasso. Réutiliser le code développé ci dessus pour affiché les métriques associés à nos nouveaux régresseurs.\n",
        "\n",
        "https://scikit-learn.org/stable/modules/linear_model.html"
      ]
    },
    {
      "cell_type": "markdown",
      "metadata": {
        "id": "RrtwuQAZx5Gf"
      },
      "source": [
        "![](https://miro.medium.com/max/602/1*QVzTd8Top6ImHR-3U3QdqQ.png)"
      ]
    },
    {
      "cell_type": "markdown",
      "metadata": {
        "id": "Hxs4ha_cx5Gf"
      },
      "source": [
        "### LASSO & RIDGE\n",
        "![](https://miro.medium.com/max/1142/1*T-DWh1s4XG6I_bVH9bj1Dw.png)"
      ]
    },
    {
      "cell_type": "code",
      "execution_count": 230,
      "metadata": {
        "id": "h-d1np9Tx5Gf",
        "outputId": "b9080688-1b28-440c-e1c4-c221484deefa",
        "colab": {
          "base_uri": "https://localhost:8080/"
        }
      },
      "outputs": [
        {
          "output_type": "stream",
          "name": "stdout",
          "text": [
            "R2:  0.9999999999999997\n",
            "MAE:  2.378886626313438e-06\n"
          ]
        }
      ],
      "source": [
        "from sklearn.linear_model import Ridge\n",
        "\n",
        "lModel = Ridge()\n",
        "lModel.fit(X=X_train, y=Y_train)\n",
        "\n",
        "y_pred = lModel.predict(X= X_test)\n",
        "\n",
        "print(\"R2: \", metrics.r2_score(Y_test, y_pred))\n",
        "print(\"MAE: \", mae(Y_test, y_pred))"
      ]
    },
    {
      "cell_type": "code",
      "execution_count": 232,
      "metadata": {
        "id": "aRyIkrLxx5Gg",
        "outputId": "172073ff-17b3-4b66-c76c-381cb7234cf2",
        "colab": {
          "base_uri": "https://localhost:8080/"
        }
      },
      "outputs": [
        {
          "output_type": "stream",
          "name": "stdout",
          "text": [
            "R2:  0.9999999872551744\n",
            "MAE:  0.01387672856979782\n"
          ]
        }
      ],
      "source": [
        "from sklearn.linear_model import Lasso\n",
        "lModel = Lasso()\n",
        "lModel.fit(X=X_train, y=Y_train)\n",
        "\n",
        "y_pred = lModel.predict(X= X_test)\n",
        "\n",
        "print(\"R2: \", metrics.r2_score(Y_test, y_pred))\n",
        "print(\"MAE: \", mae(Y_test, y_pred))"
      ]
    },
    {
      "cell_type": "markdown",
      "metadata": {
        "id": "PG3WFyMRx5Gg"
      },
      "source": [
        "### Question 3.3\n",
        "Utiliser - Des modèles non linéaires tel que les arbres de décision (DecisionTree), RandomForest, ExtrTrees. Réutiliser le code développé ci dessus pour affiché les métriques associés à nos nouveaux régresseurs.\n",
        "\n",
        "- https://scikit-learn.org/stable/modules/tree.html\n",
        "- https://scikit-learn.org/stable/modules/generated/sklearn.ensemble.RandomForestRegressor.html?highlight=random%20forest#sklearn.ensemble.RandomForestRegressor"
      ]
    },
    {
      "cell_type": "markdown",
      "metadata": {
        "id": "tNd1xmIMx5Gg"
      },
      "source": [
        "### Arbre de décision\n",
        "![](https://upload.wikimedia.org/wikipedia/commons/b/b7/Arbre_de_decision.jpg)"
      ]
    },
    {
      "cell_type": "markdown",
      "metadata": {
        "id": "v2wHNDFox5Gg"
      },
      "source": [
        "### Random Forest\n",
        "![](https://i.stack.imgur.com/iY55n.jpg)"
      ]
    },
    {
      "cell_type": "code",
      "execution_count": 233,
      "metadata": {
        "id": "UczGtKJux5Gg",
        "outputId": "8bb6e000-84f3-49bb-d080-84f23347872b",
        "colab": {
          "base_uri": "https://localhost:8080/",
          "height": 243
        }
      },
      "outputs": [
        {
          "output_type": "error",
          "ename": "TypeError",
          "evalue": "ignored",
          "traceback": [
            "\u001b[0;31m---------------------------------------------------------------------------\u001b[0m",
            "\u001b[0;31mTypeError\u001b[0m                                 Traceback (most recent call last)",
            "\u001b[0;32m<ipython-input-233-80b1b60d6410>\u001b[0m in \u001b[0;36m<module>\u001b[0;34m\u001b[0m\n\u001b[1;32m      1\u001b[0m \u001b[0;32mfrom\u001b[0m \u001b[0msklearn\u001b[0m \u001b[0;32mimport\u001b[0m \u001b[0mtree\u001b[0m\u001b[0;34m\u001b[0m\u001b[0;34m\u001b[0m\u001b[0m\n\u001b[1;32m      2\u001b[0m \u001b[0;34m\u001b[0m\u001b[0m\n\u001b[0;32m----> 3\u001b[0;31m \u001b[0mlModel\u001b[0m \u001b[0;34m=\u001b[0m \u001b[0mtree\u001b[0m\u001b[0;34m(\u001b[0m\u001b[0;34m)\u001b[0m\u001b[0;34m\u001b[0m\u001b[0;34m\u001b[0m\u001b[0m\n\u001b[0m\u001b[1;32m      4\u001b[0m \u001b[0mlModel\u001b[0m\u001b[0;34m.\u001b[0m\u001b[0mfit\u001b[0m\u001b[0;34m(\u001b[0m\u001b[0mX\u001b[0m\u001b[0;34m=\u001b[0m\u001b[0mX_train\u001b[0m\u001b[0;34m,\u001b[0m \u001b[0my\u001b[0m\u001b[0;34m=\u001b[0m\u001b[0mY_train\u001b[0m\u001b[0;34m)\u001b[0m\u001b[0;34m\u001b[0m\u001b[0;34m\u001b[0m\u001b[0m\n\u001b[1;32m      5\u001b[0m \u001b[0;34m\u001b[0m\u001b[0m\n",
            "\u001b[0;31mTypeError\u001b[0m: 'module' object is not callable"
          ]
        }
      ],
      "source": [
        "from sklearn import tree\n",
        "\n",
        "lModel = tree()\n",
        "lModel.fit(X=X_train, y=Y_train)\n",
        "\n",
        "y_pred = lModel.predict(X= X_test)\n",
        "\n",
        "print(\"R2: \", metrics.r2_score(Y_test, y_pred))\n",
        "print(\"MAE: \", mae(Y_test, y_pred))"
      ]
    },
    {
      "cell_type": "code",
      "execution_count": 234,
      "metadata": {
        "id": "mVus17fsx5Gg",
        "outputId": "4a3a0aaf-da35-416d-ae7e-d9b0c57539db",
        "colab": {
          "base_uri": "https://localhost:8080/"
        }
      },
      "outputs": [
        {
          "output_type": "stream",
          "name": "stdout",
          "text": [
            "R2:  0.9997245809661542\n",
            "MAE:  1.2212488521579432\n"
          ]
        }
      ],
      "source": [
        "from sklearn.ensemble import RandomForestRegressor\n",
        "\n",
        "lModel = RandomForestRegressor()\n",
        "lModel.fit(X=X_train, y=Y_train)\n",
        "\n",
        "y_pred =lModel .predict(X= X_test)\n",
        "\n",
        "print(\"R2: \", metrics.r2_score(Y_test, y_pred))\n",
        "print(\"MAE: \", mae(Y_test, y_pred))"
      ]
    },
    {
      "cell_type": "code",
      "execution_count": 235,
      "metadata": {
        "id": "HR0rQAdwx5Gg",
        "outputId": "ee7ae6ea-9f73-4b83-9f27-cddc09cd2ad8",
        "colab": {
          "base_uri": "https://localhost:8080/"
        }
      },
      "outputs": [
        {
          "output_type": "stream",
          "name": "stdout",
          "text": [
            "R2:  0.999771461634961\n",
            "MAE:  0.9738292011019288\n"
          ]
        }
      ],
      "source": [
        "from sklearn.ensemble import ExtraTreesRegressor\n",
        "\n",
        "lModel = ExtraTreesRegressor()\n",
        "lModel.fit(X=X_train, y=Y_train)\n",
        "\n",
        "y_pred = lModel.predict(X= X_test)\n",
        "\n",
        "print(\"R2: \", metrics.r2_score(Y_test, y_pred))\n",
        "print(\"MAE: \", mae(Y_test, y_pred))"
      ]
    },
    {
      "cell_type": "markdown",
      "metadata": {
        "id": "b7ttzH7Ix5Gg"
      },
      "source": [
        "### Question 3.4\n",
        "Utiliser - un modèle de Gradient boosting. Réutiliser le code développé ci dessus pour affiché les métriques associés à nos nouveaux régresseurs.\n",
        "\n",
        "https://scikit-learn.org/stable/modules/generated/sklearn.ensemble.GradientBoostingRegressor.html"
      ]
    },
    {
      "cell_type": "markdown",
      "metadata": {
        "id": "ysSO4a2Nx5Gg"
      },
      "source": [
        "### Gradient Boosting\n",
        "![](https://www.researchgate.net/profile/Maria_Peraita-Adrados/publication/326379229/figure/fig5/AS:647978477948928@1531501516288/A-simple-example-of-visualizing-gradient-boosting.png)"
      ]
    },
    {
      "cell_type": "code",
      "execution_count": 236,
      "metadata": {
        "id": "DOJQenPUx5Gg",
        "outputId": "9cbdf4ce-b1ac-4297-acc5-98077c044459",
        "colab": {
          "base_uri": "https://localhost:8080/"
        }
      },
      "outputs": [
        {
          "output_type": "stream",
          "name": "stdout",
          "text": [
            "R2:  0.9991642055980591\n",
            "MAE:  3.392300680019708\n"
          ]
        }
      ],
      "source": [
        "from sklearn.ensemble import GradientBoostingRegressor\n",
        "\n",
        "lModel =GradientBoostingRegressor()\n",
        "lModel.fit(X=X_train, y=Y_train)\n",
        "\n",
        "y_pred = lModel.predict(X= X_test)\n",
        "\n",
        "print(\"R2: \", metrics.r2_score(Y_test, y_pred))\n",
        "print(\"MAE: \", mae(Y_test, y_pred))"
      ]
    },
    {
      "cell_type": "markdown",
      "metadata": {
        "id": "wgAMuwN2x5Gh"
      },
      "source": [
        "L'ensemble des modèles utilisés ont des paramètres. Ici nous les avons testés avec les paramètres par défaut. Cela nous a permit de voir quel type de modèle performé le mieux. Nous allons maintenant sélectionner celui qui est le plus prometteur et tester différents bunch de paramètres afin de trouver les Hyper paramlètres de notre modèle. C'est à dire les paramètres qui permettent à notre modèle d'être encore meilleur."
      ]
    },
    {
      "cell_type": "markdown",
      "metadata": {
        "id": "RyyENpGAx5Gh"
      },
      "source": [
        "### Question 4 : Sélection de modèle\n",
        "Choisir 1 modèle linéaire, 1 modèle de type arbre de décision et un modèle de gradient boosting. Puis effectuer un GridSearchCV avec une cross-validation (avec K=5) pour chacun des modèles choisi.\n",
        "Afficher les meilleurs paramètres pour chacun des modèles ainsi que les résultats sur le sous ensemble train. \n",
        "\n",
        "https://scikit-learn.org/stable/modules/generated/sklearn.model_selection.cross_val_score.html"
      ]
    },
    {
      "cell_type": "markdown",
      "metadata": {
        "id": "k4d0Bfkqx5Gh"
      },
      "source": [
        "** Cross-Validation for Linear Regression, Ridge & Lasso **"
      ]
    },
    {
      "cell_type": "code",
      "execution_count": 237,
      "metadata": {
        "id": "elAXx1W7x5Gh",
        "outputId": "e392e1fd-b87f-47cf-d829-7edea0601fdb",
        "colab": {
          "base_uri": "https://localhost:8080/"
        }
      },
      "outputs": [
        {
          "output_type": "stream",
          "name": "stdout",
          "text": [
            "Cross-validated scores: 0.9997776026391051\n"
          ]
        }
      ],
      "source": [
        "from sklearn.linear_model import LinearRegression, Ridge, Lasso\n",
        "from sklearn.model_selection import cross_val_score, cross_val_predict\n",
        "from sklearn.preprocessing import StandardScaler\n",
        "scaler = StandardScaler()\n",
        "\n",
        "lm = LinearRegression()\n",
        "mae_scorer = metrics.make_scorer(mae, greater_is_better=False)\n",
        "\n",
        "# Train the model with 10-folds\n",
        "# Warning : without `scoring` parameter it returns a R2 score ! \n",
        "scores = cross_val_score(lm, scaler.fit_transform(X_train), Y_train, cv=10)#, scoring=mae_scorer) \n",
        "print(\"Cross-validated scores:\", scores.mean())"
      ]
    },
    {
      "cell_type": "code",
      "execution_count": 238,
      "metadata": {
        "id": "FTkO8kP7x5Gh",
        "outputId": "62070cfe-4f22-4eec-e2f6-c2f827438d16",
        "colab": {
          "base_uri": "https://localhost:8080/"
        }
      },
      "outputs": [
        {
          "output_type": "stream",
          "name": "stdout",
          "text": [
            "Cross-validated scores: 0.9999999689127431\n"
          ]
        }
      ],
      "source": [
        "# RIDGE\n",
        "lm = Ridge()\n",
        "mae_scorer = metrics.make_scorer(mae, greater_is_better=False)\n",
        "\n",
        "# Train the model with 10-folds\n",
        "# Warning : without `scoring` parameter it returns a R2 score ! \n",
        "scores = cross_val_score(lm, scaler.fit_transform(X_train), Y_train, cv=10)#, scoring=mae_scorer) \n",
        "print(\"Cross-validated scores:\", scores.mean())"
      ]
    },
    {
      "cell_type": "code",
      "execution_count": null,
      "metadata": {
        "id": "UE-IoLi0x5Gh"
      },
      "outputs": [],
      "source": [
        "# idem pour LASSO"
      ]
    },
    {
      "cell_type": "markdown",
      "metadata": {
        "id": "qNfdAI2ix5Gh"
      },
      "source": [
        "Que se passe t'il pour la régression linéaire standard?"
      ]
    },
    {
      "cell_type": "markdown",
      "metadata": {
        "id": "aI39UMhNx5Gh"
      },
      "source": [
        "** GridSearch for Ridge Regression **\n",
        "\n",
        "https://scikit-learn.org/stable/modules/generated/sklearn.model_selection.GridSearchCV.html"
      ]
    },
    {
      "cell_type": "code",
      "execution_count": 239,
      "metadata": {
        "id": "uWusaNNAx5Gh",
        "outputId": "bc066ba1-1ab7-47ea-a8e6-3b6e46bd3761",
        "colab": {
          "base_uri": "https://localhost:8080/"
        }
      },
      "outputs": [
        {
          "output_type": "stream",
          "name": "stdout",
          "text": [
            "Best parameters: {'alpha': 25}\n",
            "R2 Value For Ridge Regression:  0.9999999999997876\n",
            "RMSE Value For Ridge Regression:  8.537504009964324e-05\n",
            "MAE Value For Ridge Regression:  5.7563361819842524e-05\n"
          ]
        }
      ],
      "source": [
        "from sklearn.linear_model import Ridge\n",
        "from sklearn.model_selection import GridSearchCV\n",
        "\n",
        "ridge_m_ = Ridge()\n",
        "ridge_params_ = {'alpha':[25, 30,35, 40, 50, 60, 70, 100, 1000]}\n",
        "#rmsle_scorer = metrics.make_scorer(rmse, greater_is_better=False)\n",
        "grid_ridge_m =  GridSearchCV(ridge_m_, \n",
        "                            ridge_params_, \n",
        "                            #scoring = rmsle_scorer,\n",
        "                            cv=5)\n",
        "\n",
        "grid_ridge_m.fit(X_train, Y_train)\n",
        "preds = grid_ridge_m.predict(X=X_test)\n",
        "\n",
        "print (\"Best parameters:\",grid_ridge_m.best_params_)\n",
        "print (\"R2 Value For Ridge Regression: \", metrics.r2_score(Y_test, preds))\n",
        "print (\"RMSE Value For Ridge Regression: \", rmse(Y_test, preds))\n",
        "print (\"MAE Value For Ridge Regression: \", mae(Y_test, preds))"
      ]
    },
    {
      "cell_type": "markdown",
      "metadata": {
        "id": "lkU8cBVux5Gi"
      },
      "source": [
        "Afficher les résultats du GridsearchCV, Quelles sont les informations pertinentes ici pour choisir notre modèle? \n",
        "https://scikit-learn.org/stable/modules/generated/sklearn.model_selection.GridSearchCV.html"
      ]
    },
    {
      "cell_type": "code",
      "execution_count": 240,
      "metadata": {
        "id": "Utrwfgs-x5Gi",
        "outputId": "fbdc3ac7-5e10-43b9-9aea-28d581d8ca30",
        "colab": {
          "base_uri": "https://localhost:8080/",
          "height": 551
        }
      },
      "outputs": [
        {
          "output_type": "execute_result",
          "data": {
            "text/plain": [
              "   mean_fit_time  std_fit_time  mean_score_time  std_score_time param_alpha  \\\n",
              "0       0.017810      0.002759         0.004325        0.001510          25   \n",
              "1       0.015922      0.000132         0.003517        0.000030          30   \n",
              "2       0.019679      0.006401         0.003561        0.000099          35   \n",
              "3       0.016404      0.001373         0.003807        0.000693          40   \n",
              "4       0.016041      0.000624         0.004058        0.001129          50   \n",
              "5       0.015662      0.000203         0.003442        0.000044          60   \n",
              "6       0.015514      0.000156         0.003485        0.000047          70   \n",
              "7       0.015952      0.000758         0.003553        0.000202         100   \n",
              "8       0.015730      0.000480         0.003427        0.000083        1000   \n",
              "\n",
              "            params  split0_test_score  split1_test_score  split2_test_score  \\\n",
              "0    {'alpha': 25}                1.0                1.0                1.0   \n",
              "1    {'alpha': 30}                1.0                1.0                1.0   \n",
              "2    {'alpha': 35}                1.0                1.0                1.0   \n",
              "3    {'alpha': 40}                1.0                1.0                1.0   \n",
              "4    {'alpha': 50}                1.0                1.0                1.0   \n",
              "5    {'alpha': 60}                1.0                1.0                1.0   \n",
              "6    {'alpha': 70}                1.0                1.0                1.0   \n",
              "7   {'alpha': 100}                1.0                1.0                1.0   \n",
              "8  {'alpha': 1000}                1.0                1.0                1.0   \n",
              "\n",
              "   split3_test_score  split4_test_score  mean_test_score  std_test_score  \\\n",
              "0                1.0                1.0              1.0    1.814547e-14   \n",
              "1                1.0                1.0              1.0    2.605833e-14   \n",
              "2                1.0                1.0              1.0    3.530303e-14   \n",
              "3                1.0                1.0              1.0    4.597972e-14   \n",
              "4                1.0                1.0              1.0    7.145798e-14   \n",
              "5                1.0                1.0              1.0    1.024400e-13   \n",
              "6                1.0                1.0              1.0    1.389536e-13   \n",
              "7                1.0                1.0              1.0    2.818567e-13   \n",
              "8                1.0                1.0              1.0    2.936206e-11   \n",
              "\n",
              "   rank_test_score  \n",
              "0                1  \n",
              "1                2  \n",
              "2                3  \n",
              "3                4  \n",
              "4                5  \n",
              "5                6  \n",
              "6                7  \n",
              "7                8  \n",
              "8                9  "
            ],
            "text/html": [
              "\n",
              "  <div id=\"df-87197d10-df05-453d-a4fb-6e81fcab533d\">\n",
              "    <div class=\"colab-df-container\">\n",
              "      <div>\n",
              "<style scoped>\n",
              "    .dataframe tbody tr th:only-of-type {\n",
              "        vertical-align: middle;\n",
              "    }\n",
              "\n",
              "    .dataframe tbody tr th {\n",
              "        vertical-align: top;\n",
              "    }\n",
              "\n",
              "    .dataframe thead th {\n",
              "        text-align: right;\n",
              "    }\n",
              "</style>\n",
              "<table border=\"1\" class=\"dataframe\">\n",
              "  <thead>\n",
              "    <tr style=\"text-align: right;\">\n",
              "      <th></th>\n",
              "      <th>mean_fit_time</th>\n",
              "      <th>std_fit_time</th>\n",
              "      <th>mean_score_time</th>\n",
              "      <th>std_score_time</th>\n",
              "      <th>param_alpha</th>\n",
              "      <th>params</th>\n",
              "      <th>split0_test_score</th>\n",
              "      <th>split1_test_score</th>\n",
              "      <th>split2_test_score</th>\n",
              "      <th>split3_test_score</th>\n",
              "      <th>split4_test_score</th>\n",
              "      <th>mean_test_score</th>\n",
              "      <th>std_test_score</th>\n",
              "      <th>rank_test_score</th>\n",
              "    </tr>\n",
              "  </thead>\n",
              "  <tbody>\n",
              "    <tr>\n",
              "      <th>0</th>\n",
              "      <td>0.017810</td>\n",
              "      <td>0.002759</td>\n",
              "      <td>0.004325</td>\n",
              "      <td>0.001510</td>\n",
              "      <td>25</td>\n",
              "      <td>{'alpha': 25}</td>\n",
              "      <td>1.0</td>\n",
              "      <td>1.0</td>\n",
              "      <td>1.0</td>\n",
              "      <td>1.0</td>\n",
              "      <td>1.0</td>\n",
              "      <td>1.0</td>\n",
              "      <td>1.814547e-14</td>\n",
              "      <td>1</td>\n",
              "    </tr>\n",
              "    <tr>\n",
              "      <th>1</th>\n",
              "      <td>0.015922</td>\n",
              "      <td>0.000132</td>\n",
              "      <td>0.003517</td>\n",
              "      <td>0.000030</td>\n",
              "      <td>30</td>\n",
              "      <td>{'alpha': 30}</td>\n",
              "      <td>1.0</td>\n",
              "      <td>1.0</td>\n",
              "      <td>1.0</td>\n",
              "      <td>1.0</td>\n",
              "      <td>1.0</td>\n",
              "      <td>1.0</td>\n",
              "      <td>2.605833e-14</td>\n",
              "      <td>2</td>\n",
              "    </tr>\n",
              "    <tr>\n",
              "      <th>2</th>\n",
              "      <td>0.019679</td>\n",
              "      <td>0.006401</td>\n",
              "      <td>0.003561</td>\n",
              "      <td>0.000099</td>\n",
              "      <td>35</td>\n",
              "      <td>{'alpha': 35}</td>\n",
              "      <td>1.0</td>\n",
              "      <td>1.0</td>\n",
              "      <td>1.0</td>\n",
              "      <td>1.0</td>\n",
              "      <td>1.0</td>\n",
              "      <td>1.0</td>\n",
              "      <td>3.530303e-14</td>\n",
              "      <td>3</td>\n",
              "    </tr>\n",
              "    <tr>\n",
              "      <th>3</th>\n",
              "      <td>0.016404</td>\n",
              "      <td>0.001373</td>\n",
              "      <td>0.003807</td>\n",
              "      <td>0.000693</td>\n",
              "      <td>40</td>\n",
              "      <td>{'alpha': 40}</td>\n",
              "      <td>1.0</td>\n",
              "      <td>1.0</td>\n",
              "      <td>1.0</td>\n",
              "      <td>1.0</td>\n",
              "      <td>1.0</td>\n",
              "      <td>1.0</td>\n",
              "      <td>4.597972e-14</td>\n",
              "      <td>4</td>\n",
              "    </tr>\n",
              "    <tr>\n",
              "      <th>4</th>\n",
              "      <td>0.016041</td>\n",
              "      <td>0.000624</td>\n",
              "      <td>0.004058</td>\n",
              "      <td>0.001129</td>\n",
              "      <td>50</td>\n",
              "      <td>{'alpha': 50}</td>\n",
              "      <td>1.0</td>\n",
              "      <td>1.0</td>\n",
              "      <td>1.0</td>\n",
              "      <td>1.0</td>\n",
              "      <td>1.0</td>\n",
              "      <td>1.0</td>\n",
              "      <td>7.145798e-14</td>\n",
              "      <td>5</td>\n",
              "    </tr>\n",
              "    <tr>\n",
              "      <th>5</th>\n",
              "      <td>0.015662</td>\n",
              "      <td>0.000203</td>\n",
              "      <td>0.003442</td>\n",
              "      <td>0.000044</td>\n",
              "      <td>60</td>\n",
              "      <td>{'alpha': 60}</td>\n",
              "      <td>1.0</td>\n",
              "      <td>1.0</td>\n",
              "      <td>1.0</td>\n",
              "      <td>1.0</td>\n",
              "      <td>1.0</td>\n",
              "      <td>1.0</td>\n",
              "      <td>1.024400e-13</td>\n",
              "      <td>6</td>\n",
              "    </tr>\n",
              "    <tr>\n",
              "      <th>6</th>\n",
              "      <td>0.015514</td>\n",
              "      <td>0.000156</td>\n",
              "      <td>0.003485</td>\n",
              "      <td>0.000047</td>\n",
              "      <td>70</td>\n",
              "      <td>{'alpha': 70}</td>\n",
              "      <td>1.0</td>\n",
              "      <td>1.0</td>\n",
              "      <td>1.0</td>\n",
              "      <td>1.0</td>\n",
              "      <td>1.0</td>\n",
              "      <td>1.0</td>\n",
              "      <td>1.389536e-13</td>\n",
              "      <td>7</td>\n",
              "    </tr>\n",
              "    <tr>\n",
              "      <th>7</th>\n",
              "      <td>0.015952</td>\n",
              "      <td>0.000758</td>\n",
              "      <td>0.003553</td>\n",
              "      <td>0.000202</td>\n",
              "      <td>100</td>\n",
              "      <td>{'alpha': 100}</td>\n",
              "      <td>1.0</td>\n",
              "      <td>1.0</td>\n",
              "      <td>1.0</td>\n",
              "      <td>1.0</td>\n",
              "      <td>1.0</td>\n",
              "      <td>1.0</td>\n",
              "      <td>2.818567e-13</td>\n",
              "      <td>8</td>\n",
              "    </tr>\n",
              "    <tr>\n",
              "      <th>8</th>\n",
              "      <td>0.015730</td>\n",
              "      <td>0.000480</td>\n",
              "      <td>0.003427</td>\n",
              "      <td>0.000083</td>\n",
              "      <td>1000</td>\n",
              "      <td>{'alpha': 1000}</td>\n",
              "      <td>1.0</td>\n",
              "      <td>1.0</td>\n",
              "      <td>1.0</td>\n",
              "      <td>1.0</td>\n",
              "      <td>1.0</td>\n",
              "      <td>1.0</td>\n",
              "      <td>2.936206e-11</td>\n",
              "      <td>9</td>\n",
              "    </tr>\n",
              "  </tbody>\n",
              "</table>\n",
              "</div>\n",
              "      <button class=\"colab-df-convert\" onclick=\"convertToInteractive('df-87197d10-df05-453d-a4fb-6e81fcab533d')\"\n",
              "              title=\"Convert this dataframe to an interactive table.\"\n",
              "              style=\"display:none;\">\n",
              "        \n",
              "  <svg xmlns=\"http://www.w3.org/2000/svg\" height=\"24px\"viewBox=\"0 0 24 24\"\n",
              "       width=\"24px\">\n",
              "    <path d=\"M0 0h24v24H0V0z\" fill=\"none\"/>\n",
              "    <path d=\"M18.56 5.44l.94 2.06.94-2.06 2.06-.94-2.06-.94-.94-2.06-.94 2.06-2.06.94zm-11 1L8.5 8.5l.94-2.06 2.06-.94-2.06-.94L8.5 2.5l-.94 2.06-2.06.94zm10 10l.94 2.06.94-2.06 2.06-.94-2.06-.94-.94-2.06-.94 2.06-2.06.94z\"/><path d=\"M17.41 7.96l-1.37-1.37c-.4-.4-.92-.59-1.43-.59-.52 0-1.04.2-1.43.59L10.3 9.45l-7.72 7.72c-.78.78-.78 2.05 0 2.83L4 21.41c.39.39.9.59 1.41.59.51 0 1.02-.2 1.41-.59l7.78-7.78 2.81-2.81c.8-.78.8-2.07 0-2.86zM5.41 20L4 18.59l7.72-7.72 1.47 1.35L5.41 20z\"/>\n",
              "  </svg>\n",
              "      </button>\n",
              "      \n",
              "  <style>\n",
              "    .colab-df-container {\n",
              "      display:flex;\n",
              "      flex-wrap:wrap;\n",
              "      gap: 12px;\n",
              "    }\n",
              "\n",
              "    .colab-df-convert {\n",
              "      background-color: #E8F0FE;\n",
              "      border: none;\n",
              "      border-radius: 50%;\n",
              "      cursor: pointer;\n",
              "      display: none;\n",
              "      fill: #1967D2;\n",
              "      height: 32px;\n",
              "      padding: 0 0 0 0;\n",
              "      width: 32px;\n",
              "    }\n",
              "\n",
              "    .colab-df-convert:hover {\n",
              "      background-color: #E2EBFA;\n",
              "      box-shadow: 0px 1px 2px rgba(60, 64, 67, 0.3), 0px 1px 3px 1px rgba(60, 64, 67, 0.15);\n",
              "      fill: #174EA6;\n",
              "    }\n",
              "\n",
              "    [theme=dark] .colab-df-convert {\n",
              "      background-color: #3B4455;\n",
              "      fill: #D2E3FC;\n",
              "    }\n",
              "\n",
              "    [theme=dark] .colab-df-convert:hover {\n",
              "      background-color: #434B5C;\n",
              "      box-shadow: 0px 1px 3px 1px rgba(0, 0, 0, 0.15);\n",
              "      filter: drop-shadow(0px 1px 2px rgba(0, 0, 0, 0.3));\n",
              "      fill: #FFFFFF;\n",
              "    }\n",
              "  </style>\n",
              "\n",
              "      <script>\n",
              "        const buttonEl =\n",
              "          document.querySelector('#df-87197d10-df05-453d-a4fb-6e81fcab533d button.colab-df-convert');\n",
              "        buttonEl.style.display =\n",
              "          google.colab.kernel.accessAllowed ? 'block' : 'none';\n",
              "\n",
              "        async function convertToInteractive(key) {\n",
              "          const element = document.querySelector('#df-87197d10-df05-453d-a4fb-6e81fcab533d');\n",
              "          const dataTable =\n",
              "            await google.colab.kernel.invokeFunction('convertToInteractive',\n",
              "                                                     [key], {});\n",
              "          if (!dataTable) return;\n",
              "\n",
              "          const docLinkHtml = 'Like what you see? Visit the ' +\n",
              "            '<a target=\"_blank\" href=https://colab.research.google.com/notebooks/data_table.ipynb>data table notebook</a>'\n",
              "            + ' to learn more about interactive tables.';\n",
              "          element.innerHTML = '';\n",
              "          dataTable['output_type'] = 'display_data';\n",
              "          await google.colab.output.renderOutput(dataTable, element);\n",
              "          const docLink = document.createElement('div');\n",
              "          docLink.innerHTML = docLinkHtml;\n",
              "          element.appendChild(docLink);\n",
              "        }\n",
              "      </script>\n",
              "    </div>\n",
              "  </div>\n",
              "  "
            ]
          },
          "metadata": {},
          "execution_count": 240
        }
      ],
      "source": [
        "pd.DataFrame(grid_ridge_m.cv_results_)"
      ]
    },
    {
      "cell_type": "markdown",
      "metadata": {
        "id": "yc-uOBFax5Gi"
      },
      "source": [
        "Réponse:"
      ]
    },
    {
      "cell_type": "markdown",
      "metadata": {
        "id": "9g2GE6iEx5Gi"
      },
      "source": [
        "Afficher l'évolution du score selon le paramètre testé pour la regrssion ridge. (alpha)"
      ]
    },
    {
      "cell_type": "code",
      "execution_count": 248,
      "metadata": {
        "id": "mjGpDOIdx5Gi",
        "outputId": "bb3656da-c18d-4d0b-a05c-c259e6d4b7fd",
        "colab": {
          "base_uri": "https://localhost:8080/",
          "height": 592
        }
      },
      "outputs": [
        {
          "output_type": "error",
          "ename": "KeyError",
          "evalue": "ignored",
          "traceback": [
            "\u001b[0;31m---------------------------------------------------------------------------\u001b[0m",
            "\u001b[0;31mKeyError\u001b[0m                                  Traceback (most recent call last)",
            "\u001b[0;32m<ipython-input-248-6c419381c76b>\u001b[0m in \u001b[0;36m<module>\u001b[0;34m\u001b[0m\n\u001b[1;32m      3\u001b[0m \u001b[0mfig\u001b[0m\u001b[0;34m.\u001b[0m\u001b[0mset_size_inches\u001b[0m\u001b[0;34m(\u001b[0m\u001b[0;36m7\u001b[0m\u001b[0;34m,\u001b[0m\u001b[0;36m3\u001b[0m\u001b[0;34m)\u001b[0m\u001b[0;34m\u001b[0m\u001b[0;34m\u001b[0m\u001b[0m\n\u001b[1;32m      4\u001b[0m \u001b[0mdf\u001b[0m \u001b[0;34m=\u001b[0m \u001b[0mpd\u001b[0m\u001b[0;34m.\u001b[0m\u001b[0mDataFrame\u001b[0m\u001b[0;34m(\u001b[0m\u001b[0mgrid_ridge_m\u001b[0m\u001b[0;34m.\u001b[0m\u001b[0mcv_results_\u001b[0m\u001b[0;34m)\u001b[0m\u001b[0;34m[\u001b[0m\u001b[0;34m[\u001b[0m\u001b[0;34m'params'\u001b[0m\u001b[0;34m,\u001b[0m\u001b[0;34m'mean_test_score'\u001b[0m\u001b[0;34m]\u001b[0m\u001b[0;34m]\u001b[0m\u001b[0;34m\u001b[0m\u001b[0;34m\u001b[0m\u001b[0m\n\u001b[0;32m----> 5\u001b[0;31m \u001b[0mdf\u001b[0m\u001b[0;34m[\u001b[0m\u001b[0;34m\"alpha\"\u001b[0m\u001b[0;34m]\u001b[0m \u001b[0;34m=\u001b[0m \u001b[0mdf\u001b[0m\u001b[0;34m[\u001b[0m\u001b[0;34m\"params\"\u001b[0m\u001b[0;34m]\u001b[0m\u001b[0;34m.\u001b[0m\u001b[0mapply\u001b[0m\u001b[0;34m(\u001b[0m\u001b[0;32mlambda\u001b[0m \u001b[0mx\u001b[0m\u001b[0;34m:\u001b[0m\u001b[0mx\u001b[0m\u001b[0;34m[\u001b[0m\u001b[0;36m0\u001b[0m\u001b[0;34m]\u001b[0m\u001b[0;34m)\u001b[0m\u001b[0;34m\u001b[0m\u001b[0;34m\u001b[0m\u001b[0m\n\u001b[0m\u001b[1;32m      6\u001b[0m \u001b[0mdf\u001b[0m\u001b[0;34m[\u001b[0m\u001b[0;34m\"r2\"\u001b[0m\u001b[0;34m]\u001b[0m \u001b[0;34m=\u001b[0m \u001b[0mdf\u001b[0m\u001b[0;34m[\u001b[0m\u001b[0;34m\"mean_test_score\"\u001b[0m\u001b[0;34m]\u001b[0m\u001b[0;34m.\u001b[0m\u001b[0mapply\u001b[0m\u001b[0;34m(\u001b[0m\u001b[0;32mlambda\u001b[0m \u001b[0mx\u001b[0m\u001b[0;34m:\u001b[0m\u001b[0;34m-\u001b[0m\u001b[0mx\u001b[0m\u001b[0;34m)\u001b[0m\u001b[0;34m\u001b[0m\u001b[0;34m\u001b[0m\u001b[0m\n\u001b[1;32m      7\u001b[0m \u001b[0msn\u001b[0m\u001b[0;34m.\u001b[0m\u001b[0mpointplot\u001b[0m\u001b[0;34m(\u001b[0m\u001b[0mdata\u001b[0m\u001b[0;34m=\u001b[0m\u001b[0mdf\u001b[0m\u001b[0;34m,\u001b[0m\u001b[0mx\u001b[0m\u001b[0;34m=\u001b[0m\u001b[0;34m\"alpha\"\u001b[0m\u001b[0;34m,\u001b[0m\u001b[0my\u001b[0m\u001b[0;34m=\u001b[0m\u001b[0;34m\"r2\"\u001b[0m\u001b[0;34m,\u001b[0m\u001b[0max\u001b[0m\u001b[0;34m=\u001b[0m\u001b[0max\u001b[0m\u001b[0;34m)\u001b[0m\u001b[0;34m\u001b[0m\u001b[0;34m\u001b[0m\u001b[0m\n",
            "\u001b[0;32m/usr/local/lib/python3.8/dist-packages/pandas/core/series.py\u001b[0m in \u001b[0;36mapply\u001b[0;34m(self, func, convert_dtype, args, **kwargs)\u001b[0m\n\u001b[1;32m   4355\u001b[0m         \u001b[0mdtype\u001b[0m\u001b[0;34m:\u001b[0m \u001b[0mfloat64\u001b[0m\u001b[0;34m\u001b[0m\u001b[0;34m\u001b[0m\u001b[0m\n\u001b[1;32m   4356\u001b[0m         \"\"\"\n\u001b[0;32m-> 4357\u001b[0;31m         \u001b[0;32mreturn\u001b[0m \u001b[0mSeriesApply\u001b[0m\u001b[0;34m(\u001b[0m\u001b[0mself\u001b[0m\u001b[0;34m,\u001b[0m \u001b[0mfunc\u001b[0m\u001b[0;34m,\u001b[0m \u001b[0mconvert_dtype\u001b[0m\u001b[0;34m,\u001b[0m \u001b[0margs\u001b[0m\u001b[0;34m,\u001b[0m \u001b[0mkwargs\u001b[0m\u001b[0;34m)\u001b[0m\u001b[0;34m.\u001b[0m\u001b[0mapply\u001b[0m\u001b[0;34m(\u001b[0m\u001b[0;34m)\u001b[0m\u001b[0;34m\u001b[0m\u001b[0;34m\u001b[0m\u001b[0m\n\u001b[0m\u001b[1;32m   4358\u001b[0m \u001b[0;34m\u001b[0m\u001b[0m\n\u001b[1;32m   4359\u001b[0m     def _reduce(\n",
            "\u001b[0;32m/usr/local/lib/python3.8/dist-packages/pandas/core/apply.py\u001b[0m in \u001b[0;36mapply\u001b[0;34m(self)\u001b[0m\n\u001b[1;32m   1041\u001b[0m             \u001b[0;32mreturn\u001b[0m \u001b[0mself\u001b[0m\u001b[0;34m.\u001b[0m\u001b[0mapply_str\u001b[0m\u001b[0;34m(\u001b[0m\u001b[0;34m)\u001b[0m\u001b[0;34m\u001b[0m\u001b[0;34m\u001b[0m\u001b[0m\n\u001b[1;32m   1042\u001b[0m \u001b[0;34m\u001b[0m\u001b[0m\n\u001b[0;32m-> 1043\u001b[0;31m         \u001b[0;32mreturn\u001b[0m \u001b[0mself\u001b[0m\u001b[0;34m.\u001b[0m\u001b[0mapply_standard\u001b[0m\u001b[0;34m(\u001b[0m\u001b[0;34m)\u001b[0m\u001b[0;34m\u001b[0m\u001b[0;34m\u001b[0m\u001b[0m\n\u001b[0m\u001b[1;32m   1044\u001b[0m \u001b[0;34m\u001b[0m\u001b[0m\n\u001b[1;32m   1045\u001b[0m     \u001b[0;32mdef\u001b[0m \u001b[0magg\u001b[0m\u001b[0;34m(\u001b[0m\u001b[0mself\u001b[0m\u001b[0;34m)\u001b[0m\u001b[0;34m:\u001b[0m\u001b[0;34m\u001b[0m\u001b[0;34m\u001b[0m\u001b[0m\n",
            "\u001b[0;32m/usr/local/lib/python3.8/dist-packages/pandas/core/apply.py\u001b[0m in \u001b[0;36mapply_standard\u001b[0;34m(self)\u001b[0m\n\u001b[1;32m   1096\u001b[0m                 \u001b[0;31m# List[Union[Callable[..., Any], str]]]]]\"; expected\u001b[0m\u001b[0;34m\u001b[0m\u001b[0;34m\u001b[0m\u001b[0;34m\u001b[0m\u001b[0m\n\u001b[1;32m   1097\u001b[0m                 \u001b[0;31m# \"Callable[[Any], Any]\"\u001b[0m\u001b[0;34m\u001b[0m\u001b[0;34m\u001b[0m\u001b[0;34m\u001b[0m\u001b[0m\n\u001b[0;32m-> 1098\u001b[0;31m                 mapped = lib.map_infer(\n\u001b[0m\u001b[1;32m   1099\u001b[0m                     \u001b[0mvalues\u001b[0m\u001b[0;34m,\u001b[0m\u001b[0;34m\u001b[0m\u001b[0;34m\u001b[0m\u001b[0m\n\u001b[1;32m   1100\u001b[0m                     \u001b[0mf\u001b[0m\u001b[0;34m,\u001b[0m  \u001b[0;31m# type: ignore[arg-type]\u001b[0m\u001b[0;34m\u001b[0m\u001b[0;34m\u001b[0m\u001b[0m\n",
            "\u001b[0;32m/usr/local/lib/python3.8/dist-packages/pandas/_libs/lib.pyx\u001b[0m in \u001b[0;36mpandas._libs.lib.map_infer\u001b[0;34m()\u001b[0m\n",
            "\u001b[0;32m<ipython-input-248-6c419381c76b>\u001b[0m in \u001b[0;36m<lambda>\u001b[0;34m(x)\u001b[0m\n\u001b[1;32m      3\u001b[0m \u001b[0mfig\u001b[0m\u001b[0;34m.\u001b[0m\u001b[0mset_size_inches\u001b[0m\u001b[0;34m(\u001b[0m\u001b[0;36m7\u001b[0m\u001b[0;34m,\u001b[0m\u001b[0;36m3\u001b[0m\u001b[0;34m)\u001b[0m\u001b[0;34m\u001b[0m\u001b[0;34m\u001b[0m\u001b[0m\n\u001b[1;32m      4\u001b[0m \u001b[0mdf\u001b[0m \u001b[0;34m=\u001b[0m \u001b[0mpd\u001b[0m\u001b[0;34m.\u001b[0m\u001b[0mDataFrame\u001b[0m\u001b[0;34m(\u001b[0m\u001b[0mgrid_ridge_m\u001b[0m\u001b[0;34m.\u001b[0m\u001b[0mcv_results_\u001b[0m\u001b[0;34m)\u001b[0m\u001b[0;34m[\u001b[0m\u001b[0;34m[\u001b[0m\u001b[0;34m'params'\u001b[0m\u001b[0;34m,\u001b[0m\u001b[0;34m'mean_test_score'\u001b[0m\u001b[0;34m]\u001b[0m\u001b[0;34m]\u001b[0m\u001b[0;34m\u001b[0m\u001b[0;34m\u001b[0m\u001b[0m\n\u001b[0;32m----> 5\u001b[0;31m \u001b[0mdf\u001b[0m\u001b[0;34m[\u001b[0m\u001b[0;34m\"alpha\"\u001b[0m\u001b[0;34m]\u001b[0m \u001b[0;34m=\u001b[0m \u001b[0mdf\u001b[0m\u001b[0;34m[\u001b[0m\u001b[0;34m\"params\"\u001b[0m\u001b[0;34m]\u001b[0m\u001b[0;34m.\u001b[0m\u001b[0mapply\u001b[0m\u001b[0;34m(\u001b[0m\u001b[0;32mlambda\u001b[0m \u001b[0mx\u001b[0m\u001b[0;34m:\u001b[0m\u001b[0mx\u001b[0m\u001b[0;34m[\u001b[0m\u001b[0;36m0\u001b[0m\u001b[0;34m]\u001b[0m\u001b[0;34m)\u001b[0m\u001b[0;34m\u001b[0m\u001b[0;34m\u001b[0m\u001b[0m\n\u001b[0m\u001b[1;32m      6\u001b[0m \u001b[0mdf\u001b[0m\u001b[0;34m[\u001b[0m\u001b[0;34m\"r2\"\u001b[0m\u001b[0;34m]\u001b[0m \u001b[0;34m=\u001b[0m \u001b[0mdf\u001b[0m\u001b[0;34m[\u001b[0m\u001b[0;34m\"mean_test_score\"\u001b[0m\u001b[0;34m]\u001b[0m\u001b[0;34m.\u001b[0m\u001b[0mapply\u001b[0m\u001b[0;34m(\u001b[0m\u001b[0;32mlambda\u001b[0m \u001b[0mx\u001b[0m\u001b[0;34m:\u001b[0m\u001b[0;34m-\u001b[0m\u001b[0mx\u001b[0m\u001b[0;34m)\u001b[0m\u001b[0;34m\u001b[0m\u001b[0;34m\u001b[0m\u001b[0m\n\u001b[1;32m      7\u001b[0m \u001b[0msn\u001b[0m\u001b[0;34m.\u001b[0m\u001b[0mpointplot\u001b[0m\u001b[0;34m(\u001b[0m\u001b[0mdata\u001b[0m\u001b[0;34m=\u001b[0m\u001b[0mdf\u001b[0m\u001b[0;34m,\u001b[0m\u001b[0mx\u001b[0m\u001b[0;34m=\u001b[0m\u001b[0;34m\"alpha\"\u001b[0m\u001b[0;34m,\u001b[0m\u001b[0my\u001b[0m\u001b[0;34m=\u001b[0m\u001b[0;34m\"r2\"\u001b[0m\u001b[0;34m,\u001b[0m\u001b[0max\u001b[0m\u001b[0;34m=\u001b[0m\u001b[0max\u001b[0m\u001b[0;34m)\u001b[0m\u001b[0;34m\u001b[0m\u001b[0;34m\u001b[0m\u001b[0m\n",
            "\u001b[0;31mKeyError\u001b[0m: 0"
          ]
        },
        {
          "output_type": "display_data",
          "data": {
            "text/plain": [
              "<Figure size 504x216 with 1 Axes>"
            ],
            "image/png": "[encoded data removed]"
          },
          "metadata": {
            "needs_background": "light"
          }
        }
      ],
      "source": [
        "# Plot scores\n",
        "fig,ax= plt.subplots()\n",
        "fig.set_size_inches(7,3)\n",
        "df = pd.DataFrame(grid_ridge_m.cv_results_)[['params','mean_test_score']]\n",
        "df[\"alpha\"] = df[\"params\"].apply(lambda x:x[])\n",
        "df[\"r2\"] = df[\"mean_test_score\"].apply(lambda x:-x)\n",
        "sn.pointplot(data=df,x=\"alpha\",y=\"r2\",ax=ax)"
      ]
    },
    {
      "cell_type": "markdown",
      "metadata": {
        "id": "UbmnY9RZx5Gi"
      },
      "source": [
        "** GridSearch modèle Lasso **"
      ]
    },
    {
      "cell_type": "code",
      "execution_count": 243,
      "metadata": {
        "id": "HyS0qlhkx5Gi",
        "outputId": "84dd03ba-9c27-42b3-e9a4-daf07f714597",
        "colab": {
          "base_uri": "https://localhost:8080/"
        }
      },
      "outputs": [
        {
          "output_type": "stream",
          "name": "stdout",
          "text": [
            "Best parameters: {'alpha': 0.0011111111111111111}\n",
            "R2 Value For Lasso Regression:  0.9999999999999788\n",
            "RMSE Value For Lasso Regression:  2.6984769104949762e-05\n",
            "MAE Value For Lasso Regression:  2.2036064544200097e-05\n"
          ]
        }
      ],
      "source": [
        "from sklearn.linear_model import Lasso\n",
        "\n",
        "lasso_m_ = Lasso()\n",
        "\n",
        "alpha  = 1/np.array([1, 2, 3, 4, 10, 30,100,200,300,400,800,900,1000])\n",
        "lasso_params_ = { 'alpha':alpha}\n",
        "grid_lasso_m = GridSearchCV(lasso_m_,\n",
        "                            lasso_params_,\n",
        "                            #scoring = rmsle_scorer,\n",
        "                            cv=5)\n",
        "\n",
        "grid_lasso_m.fit(X_train, Y_train)\n",
        "preds = grid_lasso_m.predict(X=X_test)\n",
        "\n",
        "print (\"Best parameters:\", grid_lasso_m.best_params_)\n",
        "print (\"R2 Value For Lasso Regression: \", metrics.r2_score(Y_test, preds))\n",
        "print (\"RMSE Value For Lasso Regression: \", rmse(Y_test, preds))\n",
        "print (\"MAE Value For Lasso Regression: \", mae(Y_test, preds))"
      ]
    },
    {
      "cell_type": "markdown",
      "metadata": {
        "id": "p8-ti5l0x5Gi"
      },
      "source": [
        "Afficher l'évolution du score selon le paramètre testé pour la regrssion Lasso. (alpha)"
      ]
    },
    {
      "cell_type": "code",
      "execution_count": null,
      "metadata": {
        "id": "wNXszmCXx5Gi",
        "outputId": "ed1bb60a-9d5d-4943-9a35-e159dd81ec9c"
      },
      "outputs": [
        {
          "ename": "NameError",
          "evalue": "name 'grid_lasso_m' is not defined",
          "output_type": "error",
          "traceback": [
            "\u001b[0;31m---------------------------------------------------------------------------\u001b[0m",
            "\u001b[0;31mNameError\u001b[0m                                 Traceback (most recent call last)",
            "\u001b[0;32m<ipython-input-60-5eb95c025e61>\u001b[0m in \u001b[0;36m<module>\u001b[0;34m\u001b[0m\n\u001b[1;32m      2\u001b[0m \u001b[0mfig\u001b[0m\u001b[0;34m,\u001b[0m\u001b[0max\u001b[0m\u001b[0;34m=\u001b[0m \u001b[0mplt\u001b[0m\u001b[0;34m.\u001b[0m\u001b[0msubplots\u001b[0m\u001b[0;34m(\u001b[0m\u001b[0;34m)\u001b[0m\u001b[0;34m\u001b[0m\u001b[0m\n\u001b[1;32m      3\u001b[0m \u001b[0mfig\u001b[0m\u001b[0;34m.\u001b[0m\u001b[0mset_size_inches\u001b[0m\u001b[0;34m(\u001b[0m\u001b[0;36m7\u001b[0m\u001b[0;34m,\u001b[0m\u001b[0;36m3\u001b[0m\u001b[0;34m)\u001b[0m\u001b[0;34m\u001b[0m\u001b[0m\n\u001b[0;32m----> 4\u001b[0;31m \u001b[0mdf\u001b[0m \u001b[0;34m=\u001b[0m \u001b[0mpd\u001b[0m\u001b[0;34m.\u001b[0m\u001b[0mDataFrame\u001b[0m\u001b[0;34m(\u001b[0m\u001b[0mgrid_lasso_m\u001b[0m\u001b[0;34m.\u001b[0m\u001b[0mcv_results_\u001b[0m\u001b[0;34m)\u001b[0m\u001b[0;34m[\u001b[0m\u001b[0;34m[\u001b[0m\u001b[0;34m'params'\u001b[0m\u001b[0;34m,\u001b[0m\u001b[0;34m'mean_test_score'\u001b[0m\u001b[0;34m]\u001b[0m\u001b[0;34m]\u001b[0m\u001b[0;34m\u001b[0m\u001b[0m\n\u001b[0m\u001b[1;32m      5\u001b[0m \u001b[0mdf\u001b[0m\u001b[0;34m[\u001b[0m\u001b[0;34m\"alpha\"\u001b[0m\u001b[0;34m]\u001b[0m \u001b[0;34m=\u001b[0m \u001b[0mdf\u001b[0m\u001b[0;34m[\u001b[0m\u001b[0;34m\"params\"\u001b[0m\u001b[0;34m]\u001b[0m\u001b[0;34m.\u001b[0m\u001b[0mapply\u001b[0m\u001b[0;34m(\u001b[0m\u001b[0;32mlambda\u001b[0m \u001b[0mx\u001b[0m\u001b[0;34m:\u001b[0m\u001b[0mx\u001b[0m\u001b[0;34m[\u001b[0m\u001b[0;34m\"_____\"\u001b[0m\u001b[0;34m]\u001b[0m\u001b[0;34m)\u001b[0m\u001b[0;34m\u001b[0m\u001b[0m\n\u001b[1;32m      6\u001b[0m \u001b[0mdf\u001b[0m\u001b[0;34m[\u001b[0m\u001b[0;34m\"r2\"\u001b[0m\u001b[0;34m]\u001b[0m \u001b[0;34m=\u001b[0m \u001b[0mdf\u001b[0m\u001b[0;34m[\u001b[0m\u001b[0;34m\"mean_test_score\"\u001b[0m\u001b[0;34m]\u001b[0m\u001b[0;34m.\u001b[0m\u001b[0mapply\u001b[0m\u001b[0;34m(\u001b[0m\u001b[0;32mlambda\u001b[0m \u001b[0mx\u001b[0m\u001b[0;34m:\u001b[0m\u001b[0mx\u001b[0m\u001b[0;34m)\u001b[0m\u001b[0;34m\u001b[0m\u001b[0m\n",
            "\u001b[0;31mNameError\u001b[0m: name 'grid_lasso_m' is not defined"
          ]
        },
        {
          "data": {
            "image/png": "[encoded data removed]",
            "text/plain": [
              "<Figure size 504x216 with 1 Axes>"
            ]
          },
          "metadata": {
            "needs_background": "light"
          },
          "output_type": "display_data"
        }
      ],
      "source": [
        "# Plot scores\n",
        "fig,ax= plt.subplots()\n",
        "fig.set_size_inches(7,3)\n",
        "df = pd.DataFrame(grid_lasso_m.cv_results_)[['params','mean_test_score']]\n",
        "df[\"alpha\"] = df[\"params\"].apply(lambda x:x[])\n",
        "df[\"r2\"] = df[\"mean_test_score\"].apply(lambda x:x)\n",
        "sn.pointplot(data=df,x=\"alpha\",y=\"r2\",ax=ax)"
      ]
    },
    {
      "cell_type": "markdown",
      "metadata": {
        "id": "-PBp4Gakx5Gi"
      },
      "source": [
        "** GridSearch modèle Random Forest **"
      ]
    },
    {
      "cell_type": "code",
      "execution_count": 247,
      "metadata": {
        "id": "DUXal7YJx5Gi",
        "outputId": "1fa41227-a32d-4b15-ef74-4fe332d528c4",
        "colab": {
          "base_uri": "https://localhost:8080/"
        }
      },
      "outputs": [
        {
          "output_type": "stream",
          "name": "stdout",
          "text": [
            "Best parameters: {'max_depth': 17, 'n_estimators': 150}\n",
            "R2 Value For Random Forest:  0.9997071794865421\n",
            "RMSE Value For Random Forest:  3.170432610834336\n",
            "MAE Value For Random Forest:  1.21146135250895\n"
          ]
        }
      ],
      "source": [
        "from sklearn.ensemble import RandomForestRegressor\n",
        "rf_Model =  RandomForestRegressor()\n",
        "\n",
        "rf_params = { 'n_estimators':[150],'max_depth':[2, 3, 5, 7, 9, 12, 15, 17, 20]}\n",
        "grid_rf_m = GridSearchCV(rf_Model, \n",
        "                         rf_params, \n",
        "                         #scoring=rmsle_scorer, \n",
        "                         cv=5)\n",
        "\n",
        "grid_rf_m.fit(X_train, Y_train)\n",
        "preds = grid_rf_m.predict(X=X_test)\n",
        "\n",
        "print (\"Best parameters:\", grid_rf_m.best_params_)\n",
        "print (\"R2 Value For Random Forest: \", metrics.r2_score(Y_test, preds))\n",
        "print (\"RMSE Value For Random Forest: \", rmse(Y_test, preds))\n",
        "print (\"MAE Value For Random Forest: \", mae(Y_test, preds))"
      ]
    },
    {
      "cell_type": "markdown",
      "metadata": {
        "id": "lOUBaiFEx5Gj"
      },
      "source": [
        "Afficher l'évolution du score selon le paramètre max_depth."
      ]
    },
    {
      "cell_type": "code",
      "execution_count": null,
      "metadata": {
        "id": "ybNqS7xvx5Gj",
        "outputId": "2715ebaf-61ae-47d2-e4ce-edac7443a1a3"
      },
      "outputs": [
        {
          "ename": "NameError",
          "evalue": "name 'grid_rf_m' is not defined",
          "output_type": "error",
          "traceback": [
            "\u001b[0;31m---------------------------------------------------------------------------\u001b[0m",
            "\u001b[0;31mNameError\u001b[0m                                 Traceback (most recent call last)",
            "\u001b[0;32m<ipython-input-62-474f0181a301>\u001b[0m in \u001b[0;36m<module>\u001b[0;34m\u001b[0m\n\u001b[1;32m      2\u001b[0m \u001b[0mfig\u001b[0m\u001b[0;34m,\u001b[0m\u001b[0max\u001b[0m\u001b[0;34m=\u001b[0m \u001b[0mplt\u001b[0m\u001b[0;34m.\u001b[0m\u001b[0msubplots\u001b[0m\u001b[0;34m(\u001b[0m\u001b[0;34m)\u001b[0m\u001b[0;34m\u001b[0m\u001b[0m\n\u001b[1;32m      3\u001b[0m \u001b[0mfig\u001b[0m\u001b[0;34m.\u001b[0m\u001b[0mset_size_inches\u001b[0m\u001b[0;34m(\u001b[0m\u001b[0;36m7\u001b[0m\u001b[0;34m,\u001b[0m\u001b[0;36m3\u001b[0m\u001b[0;34m)\u001b[0m\u001b[0;34m\u001b[0m\u001b[0m\n\u001b[0;32m----> 4\u001b[0;31m \u001b[0mdf\u001b[0m \u001b[0;34m=\u001b[0m \u001b[0mpd\u001b[0m\u001b[0;34m.\u001b[0m\u001b[0mDataFrame\u001b[0m\u001b[0;34m(\u001b[0m\u001b[0mgrid_rf_m\u001b[0m\u001b[0;34m.\u001b[0m\u001b[0mcv_results_\u001b[0m\u001b[0;34m)\u001b[0m\u001b[0;34m[\u001b[0m\u001b[0;34m[\u001b[0m\u001b[0;34m'params'\u001b[0m\u001b[0;34m,\u001b[0m\u001b[0;34m'mean_test_score'\u001b[0m\u001b[0;34m]\u001b[0m\u001b[0;34m]\u001b[0m\u001b[0;34m\u001b[0m\u001b[0m\n\u001b[0m\u001b[1;32m      5\u001b[0m \u001b[0mdf\u001b[0m\u001b[0;34m[\u001b[0m\u001b[0;34m\"max_depth\"\u001b[0m\u001b[0;34m]\u001b[0m \u001b[0;34m=\u001b[0m \u001b[0mdf\u001b[0m\u001b[0;34m[\u001b[0m\u001b[0;34m\"params\"\u001b[0m\u001b[0;34m]\u001b[0m\u001b[0;34m.\u001b[0m\u001b[0mapply\u001b[0m\u001b[0;34m(\u001b[0m\u001b[0;32mlambda\u001b[0m \u001b[0mx\u001b[0m\u001b[0;34m:\u001b[0m\u001b[0mx\u001b[0m\u001b[0;34m[\u001b[0m\u001b[0;34m\"____\"\u001b[0m\u001b[0;34m]\u001b[0m\u001b[0;34m)\u001b[0m\u001b[0;34m\u001b[0m\u001b[0m\n\u001b[1;32m      6\u001b[0m \u001b[0mdf\u001b[0m\u001b[0;34m[\u001b[0m\u001b[0;34m\"r2\"\u001b[0m\u001b[0;34m]\u001b[0m \u001b[0;34m=\u001b[0m \u001b[0mdf\u001b[0m\u001b[0;34m[\u001b[0m\u001b[0;34m\"mean_test_score\"\u001b[0m\u001b[0;34m]\u001b[0m\u001b[0;34m.\u001b[0m\u001b[0mapply\u001b[0m\u001b[0;34m(\u001b[0m\u001b[0;32mlambda\u001b[0m \u001b[0mx\u001b[0m\u001b[0;34m:\u001b[0m\u001b[0mx\u001b[0m\u001b[0;34m)\u001b[0m\u001b[0;34m\u001b[0m\u001b[0m\n",
            "\u001b[0;31mNameError\u001b[0m: name 'grid_rf_m' is not defined"
          ]
        },
        {
          "data": {
            "image/png": "[encoded data removed]",
            "text/plain": [
              "<Figure size 504x216 with 1 Axes>"
            ]
          },
          "metadata": {
            "needs_background": "light"
          },
          "output_type": "display_data"
        }
      ],
      "source": [
        "# Plot scores\n",
        "fig,ax= plt.subplots()\n",
        "fig.set_size_inches(7,3)\n",
        "df = pd.DataFrame(grid_rf_m.cv_results_)[['params','mean_test_score']]\n",
        "df[\"max_depth\"] = df[\"params\"].apply(lambda x:x[\"____\"])\n",
        "df[\"r2\"] = df[\"mean_test_score\"].apply(lambda x:x)\n",
        "sn.pointplot(data=df,x=\"max_depth\",y=\"r2\",ax=ax)"
      ]
    },
    {
      "cell_type": "markdown",
      "metadata": {
        "id": "Y14gXgvIx5Gl"
      },
      "source": [
        "** GridSearch modèle Gradient Boosting **"
      ]
    },
    {
      "cell_type": "code",
      "execution_count": 249,
      "metadata": {
        "id": "F43LY3IUx5Gl",
        "outputId": "435fe9ef-5780-45a2-e121-a087a2258975",
        "colab": {
          "base_uri": "https://localhost:8080/"
        }
      },
      "outputs": [
        {
          "output_type": "stream",
          "name": "stdout",
          "text": [
            "Best parameters: {'learning_rate': 0.1, 'n_estimators': 500}\n",
            "R2 Value For Gradient Boosting:  0.9997248214357999\n",
            "RMSE Value For Gradient Boosting:  3.07344239557248\n",
            "MAE Value For Gradient Boosting:  1.912030417192215\n"
          ]
        }
      ],
      "source": [
        "from sklearn.ensemble import GradientBoostingRegressor\n",
        "gbm = GradientBoostingRegressor()\n",
        "\n",
        "gbm_params = { 'n_estimators':[500], 'learning_rate':[0.001 ,0.01, 0.1]}\n",
        "grid_gbm = GridSearchCV(gbm, \n",
        "                        gbm_params, \n",
        "                        #scoring=rmsle_scorer, \n",
        "                        cv=5)\n",
        "\n",
        "grid_gbm.fit(X_train, Y_train)\n",
        "preds = grid_gbm.predict(X=X_test)\n",
        "\n",
        "print (\"Best parameters:\",grid_gbm .best_params_)\n",
        "print (\"R2 Value For Gradient Boosting: \", metrics.r2_score(Y_test, preds))\n",
        "print (\"RMSE Value For Gradient Boosting: \", rmse(Y_test, preds))\n",
        "print (\"MAE Value For Gradient Boosting: \", mae(Y_test, preds))"
      ]
    },
    {
      "cell_type": "markdown",
      "metadata": {
        "id": "twKFgsCzx5Gm"
      },
      "source": [
        "Avec pd.DataFrame(grid_ridge_m.cv_results_) nous pouvons récupérer un tas de métriques selon les paramètres testés. Il est intéressant d'afficher l'impact d'un paramètre sur la métrique afin d'identifier ceux qui mérite d'être creusés plus que d'autres.\n",
        "\n",
        "Afficher l'évolution selon un paramètre sélectionné, faire cela pour les derniers modèles choisi"
      ]
    },
    {
      "cell_type": "code",
      "execution_count": null,
      "metadata": {
        "id": "o88fyUQsx5Gm",
        "outputId": "0da96441-b4fa-4fd6-d487-2e68ec99202d"
      },
      "outputs": [
        {
          "ename": "NameError",
          "evalue": "name 'grid_ridge_m' is not defined",
          "output_type": "error",
          "traceback": [
            "\u001b[0;31m---------------------------------------------------------------------------\u001b[0m",
            "\u001b[0;31mNameError\u001b[0m                                 Traceback (most recent call last)",
            "\u001b[0;32m<ipython-input-64-d7d0075093a7>\u001b[0m in \u001b[0;36m<module>\u001b[0;34m\u001b[0m\n\u001b[1;32m      2\u001b[0m \u001b[0mfig\u001b[0m\u001b[0;34m,\u001b[0m\u001b[0max\u001b[0m\u001b[0;34m=\u001b[0m \u001b[0mplt\u001b[0m\u001b[0;34m.\u001b[0m\u001b[0msubplots\u001b[0m\u001b[0;34m(\u001b[0m\u001b[0;34m)\u001b[0m\u001b[0;34m\u001b[0m\u001b[0m\n\u001b[1;32m      3\u001b[0m \u001b[0mfig\u001b[0m\u001b[0;34m.\u001b[0m\u001b[0mset_size_inches\u001b[0m\u001b[0;34m(\u001b[0m\u001b[0;36m7\u001b[0m\u001b[0;34m,\u001b[0m\u001b[0;36m3\u001b[0m\u001b[0;34m)\u001b[0m\u001b[0;34m\u001b[0m\u001b[0m\n\u001b[0;32m----> 4\u001b[0;31m \u001b[0mdf\u001b[0m \u001b[0;34m=\u001b[0m \u001b[0mpd\u001b[0m\u001b[0;34m.\u001b[0m\u001b[0mDataFrame\u001b[0m\u001b[0;34m(\u001b[0m\u001b[0mgrid_ridge_m\u001b[0m\u001b[0;34m.\u001b[0m\u001b[0mcv_results_\u001b[0m\u001b[0;34m)\u001b[0m\u001b[0;34m[\u001b[0m\u001b[0;34m[\u001b[0m\u001b[0;34m'params'\u001b[0m\u001b[0;34m,\u001b[0m\u001b[0;34m'mean_test_score'\u001b[0m\u001b[0;34m]\u001b[0m\u001b[0;34m]\u001b[0m\u001b[0;34m\u001b[0m\u001b[0m\n\u001b[0m\u001b[1;32m      5\u001b[0m \u001b[0mdf\u001b[0m\u001b[0;34m[\u001b[0m\u001b[0;34m\"alpha\"\u001b[0m\u001b[0;34m]\u001b[0m \u001b[0;34m=\u001b[0m \u001b[0mdf\u001b[0m\u001b[0;34m[\u001b[0m\u001b[0;34m\"params\"\u001b[0m\u001b[0;34m]\u001b[0m\u001b[0;34m.\u001b[0m\u001b[0mapply\u001b[0m\u001b[0;34m(\u001b[0m\u001b[0;32mlambda\u001b[0m \u001b[0mx\u001b[0m\u001b[0;34m:\u001b[0m\u001b[0mx\u001b[0m\u001b[0;34m[\u001b[0m\u001b[0m_________\u001b[0m\u001b[0;34m]\u001b[0m\u001b[0;34m)\u001b[0m\u001b[0;34m\u001b[0m\u001b[0m\n\u001b[1;32m      6\u001b[0m \u001b[0mdf\u001b[0m\u001b[0;34m[\u001b[0m\u001b[0;34m\"rmsle\"\u001b[0m\u001b[0;34m]\u001b[0m \u001b[0;34m=\u001b[0m \u001b[0mdf\u001b[0m\u001b[0;34m[\u001b[0m\u001b[0;34m\"mean_test_score\"\u001b[0m\u001b[0;34m]\u001b[0m\u001b[0;34m.\u001b[0m\u001b[0mapply\u001b[0m\u001b[0;34m(\u001b[0m\u001b[0;32mlambda\u001b[0m \u001b[0mx\u001b[0m\u001b[0;34m:\u001b[0m\u001b[0;34m-\u001b[0m\u001b[0mx\u001b[0m\u001b[0;34m)\u001b[0m\u001b[0;34m\u001b[0m\u001b[0m\n",
            "\u001b[0;31mNameError\u001b[0m: name 'grid_ridge_m' is not defined"
          ]
        },
        {
          "data": {
            "image/png": "[encoded data removed]",
            "text/plain": [
              "<Figure size 504x216 with 1 Axes>"
            ]
          },
          "metadata": {
            "needs_background": "light"
          },
          "output_type": "display_data"
        }
      ],
      "source": [
        "# Plot scores\n",
        "fig,ax= plt.subplots()\n",
        "fig.set_size_inches(7,3)\n",
        "df = pd.DataFrame(grid_ridge_m.cv_results_)[['params','mean_test_score']]\n",
        "df[\"alpha\"] = df[\"params\"].apply(lambda x:x[_________])\n",
        "df[\"rmsle\"] = df[\"mean_test_score\"].apply(lambda x:-x)\n",
        "sn.pointplot(data=df,x=_________,y=_________,ax=ax)"
      ]
    },
    {
      "cell_type": "markdown",
      "metadata": {
        "id": "ya2RYcD7x5Gm"
      },
      "source": [
        "### Question 5 : Conclusion\n",
        "Identifier le meilleur modèle et ré-entrainer le modèle avec ses paramètres optimaux. \n",
        "Afficher les résultats sur le sous ensemble de test. Utiliser cross_val_score, puis reprendre le code ou le train_test_split a été réalisé. Appliquer votre modèle sur X_train, y_train et testé sur X_test."
      ]
    },
    {
      "cell_type": "markdown",
      "metadata": {
        "id": "zkWGBaDKx5Gm"
      },
      "source": [
        "![](https://camo.githubusercontent.com/64139b0aad34b1a5e2e7d853fd4a5a32fca96ad4/68747470733a2f2f63646e2d696d616765732d312e6d656469756d2e636f6d2f6d61782f313630302f312a726762613142494f5579733777516358634c345535412e706e67)\n"
      ]
    },
    {
      "cell_type": "code",
      "execution_count": null,
      "metadata": {
        "id": "xStc3wTWx5Gm",
        "outputId": "e2bdc9f6-9790-4030-a87e-5c36a3a27d0f"
      },
      "outputs": [
        {
          "ename": "NameError",
          "evalue": "name '______' is not defined",
          "output_type": "error",
          "traceback": [
            "\u001b[0;31m---------------------------------------------------------------------------\u001b[0m",
            "\u001b[0;31mNameError\u001b[0m                                 Traceback (most recent call last)",
            "\u001b[0;32m<ipython-input-65-eb6ce7bf020d>\u001b[0m in \u001b[0;36m<module>\u001b[0;34m\u001b[0m\n\u001b[0;32m----> 1\u001b[0;31m \u001b[0mlm\u001b[0m \u001b[0;34m=\u001b[0m \u001b[0m______\u001b[0m\u001b[0;34m(\u001b[0m\u001b[0mmax_depth\u001b[0m\u001b[0;34m=\u001b[0m \u001b[0m______\u001b[0m\u001b[0;34m,\u001b[0m \u001b[0mn_estimators\u001b[0m\u001b[0;34m=\u001b[0m \u001b[0m______\u001b[0m\u001b[0;34m)\u001b[0m\u001b[0;34m\u001b[0m\u001b[0m\n\u001b[0m\u001b[1;32m      2\u001b[0m \u001b[0;34m\u001b[0m\u001b[0m\n\u001b[1;32m      3\u001b[0m \u001b[0;31m# Warning : without `scoring` parameter it returns a R2 score !\u001b[0m\u001b[0;34m\u001b[0m\u001b[0;34m\u001b[0m\u001b[0m\n\u001b[1;32m      4\u001b[0m \u001b[0mscores\u001b[0m \u001b[0;34m=\u001b[0m \u001b[0mcross_val_score\u001b[0m\u001b[0;34m(\u001b[0m\u001b[0mlm\u001b[0m\u001b[0;34m,\u001b[0m \u001b[0mX_train\u001b[0m\u001b[0;34m,\u001b[0m \u001b[0mY_train\u001b[0m\u001b[0;34m,\u001b[0m \u001b[0mcv\u001b[0m\u001b[0;34m=\u001b[0m\u001b[0;36m5\u001b[0m\u001b[0;34m)\u001b[0m\u001b[0;34m\u001b[0m\u001b[0m\n\u001b[1;32m      5\u001b[0m \u001b[0mprint\u001b[0m\u001b[0;34m(\u001b[0m\u001b[0;34m\"Cross-validated scores:\"\u001b[0m\u001b[0;34m,\u001b[0m \u001b[0mscores\u001b[0m\u001b[0;34m.\u001b[0m\u001b[0mmean\u001b[0m\u001b[0;34m(\u001b[0m\u001b[0;34m)\u001b[0m\u001b[0;34m)\u001b[0m\u001b[0;34m\u001b[0m\u001b[0m\n",
            "\u001b[0;31mNameError\u001b[0m: name '______' is not defined"
          ]
        }
      ],
      "source": [
        "lm = ______(max_depth= ______, n_estimators= ______)\n",
        "\n",
        "# Warning : without `scoring` parameter it returns a R2 score ! \n",
        "scores = cross_val_score(lm, X_train, Y_train, cv=5)\n",
        "print(\"Cross-validated scores:\", scores.mean())"
      ]
    },
    {
      "cell_type": "code",
      "execution_count": null,
      "metadata": {
        "id": "uFqFI_KTx5Gm",
        "outputId": "5f7822ad-d2f2-4149-f44d-74ca4bd132ff"
      },
      "outputs": [
        {
          "ename": "NameError",
          "evalue": "name '______' is not defined",
          "output_type": "error",
          "traceback": [
            "\u001b[0;31m---------------------------------------------------------------------------\u001b[0m",
            "\u001b[0;31mNameError\u001b[0m                                 Traceback (most recent call last)",
            "\u001b[0;32m<ipython-input-66-f1bc8092810d>\u001b[0m in \u001b[0;36m<module>\u001b[0;34m\u001b[0m\n\u001b[0;32m----> 1\u001b[0;31m \u001b[0mlm\u001b[0m\u001b[0;34m.\u001b[0m\u001b[0mfit\u001b[0m\u001b[0;34m(\u001b[0m\u001b[0m______\u001b[0m\u001b[0;34m,\u001b[0m \u001b[0m______\u001b[0m\u001b[0;34m)\u001b[0m\u001b[0;34m\u001b[0m\u001b[0m\n\u001b[0m\u001b[1;32m      2\u001b[0m \u001b[0my_pred\u001b[0m \u001b[0;34m=\u001b[0m \u001b[0mlm\u001b[0m\u001b[0;34m.\u001b[0m\u001b[0mpredict\u001b[0m\u001b[0;34m(\u001b[0m\u001b[0mX_test\u001b[0m\u001b[0;34m)\u001b[0m\u001b[0;34m\u001b[0m\u001b[0m\n\u001b[1;32m      3\u001b[0m \u001b[0;34m\u001b[0m\u001b[0m\n\u001b[1;32m      4\u001b[0m \u001b[0mprint\u001b[0m\u001b[0;34m(\u001b[0m\u001b[0;34m\"R2: \"\u001b[0m\u001b[0;34m,\u001b[0m \u001b[0mmetrics\u001b[0m\u001b[0;34m.\u001b[0m\u001b[0mr2_score\u001b[0m\u001b[0;34m(\u001b[0m\u001b[0m______\u001b[0m\u001b[0;34m,\u001b[0m \u001b[0my_pred\u001b[0m\u001b[0;34m)\u001b[0m\u001b[0;34m)\u001b[0m\u001b[0;34m\u001b[0m\u001b[0m\n\u001b[1;32m      5\u001b[0m \u001b[0mprint\u001b[0m\u001b[0;34m(\u001b[0m\u001b[0;34m\"MAE: \"\u001b[0m\u001b[0;34m,\u001b[0m \u001b[0mmae\u001b[0m\u001b[0;34m(\u001b[0m\u001b[0mY_test\u001b[0m\u001b[0;34m,\u001b[0m \u001b[0m______\u001b[0m\u001b[0;34m)\u001b[0m\u001b[0;34m)\u001b[0m\u001b[0;34m\u001b[0m\u001b[0m\n",
            "\u001b[0;31mNameError\u001b[0m: name '______' is not defined"
          ]
        }
      ],
      "source": [
        "lm.fit(______, ______)\n",
        "y_pred = lm.predict(X_test)\n",
        "\n",
        "print(\"R2: \", metrics.r2_score(______, y_pred))\n",
        "print(\"MAE: \", mae(Y_test, ______))"
      ]
    },
    {
      "cell_type": "markdown",
      "metadata": {
        "id": "eNwA4Sj7x5Gm"
      },
      "source": [
        "Pour avoir un modèle plus robuste il faudrait réaliser plusieurs cross validation pour obtenir plusieurs modèles puis terminer par un vote ou une moyenne des différents modèles obtenus."
      ]
    },
    {
      "cell_type": "markdown",
      "metadata": {
        "id": "bt5grHq1x5Gm"
      },
      "source": [
        "# Question Bonus:\n",
        "- Utiliser XGB, LGBM & CatBoost"
      ]
    },
    {
      "cell_type": "code",
      "execution_count": null,
      "metadata": {
        "id": "yKmpMVBtx5Gm",
        "outputId": "89529381-7d22-4e82-8d33-9efa7655c7b3"
      },
      "outputs": [
        {
          "ename": "NameError",
          "evalue": "name '_____' is not defined",
          "output_type": "error",
          "traceback": [
            "\u001b[0;31m---------------------------------------------------------------------------\u001b[0m",
            "\u001b[0;31mNameError\u001b[0m                                 Traceback (most recent call last)",
            "\u001b[0;32m<ipython-input-67-0688eb78426c>\u001b[0m in \u001b[0;36m<module>\u001b[0;34m\u001b[0m\n\u001b[1;32m      3\u001b[0m \u001b[0mcb\u001b[0m \u001b[0;34m=\u001b[0m \u001b[0mCatBoostRegressor\u001b[0m\u001b[0;34m(\u001b[0m\u001b[0mverbose\u001b[0m \u001b[0;34m=\u001b[0m \u001b[0;36m0\u001b[0m\u001b[0;34m,\u001b[0m \u001b[0mcat_features\u001b[0m \u001b[0;34m=\u001b[0m \u001b[0;34m[\u001b[0m\u001b[0;34m'workingday'\u001b[0m\u001b[0;34m,\u001b[0m\u001b[0;34m'hour'\u001b[0m\u001b[0;34m]\u001b[0m\u001b[0;34m)\u001b[0m\u001b[0;34m\u001b[0m\u001b[0m\n\u001b[1;32m      4\u001b[0m \u001b[0;34m\u001b[0m\u001b[0m\n\u001b[0;32m----> 5\u001b[0;31m \u001b[0mcb\u001b[0m\u001b[0;34m.\u001b[0m\u001b[0mfit\u001b[0m\u001b[0;34m(\u001b[0m\u001b[0m_____\u001b[0m\u001b[0;34m,\u001b[0m \u001b[0mY_train\u001b[0m\u001b[0;34m)\u001b[0m\u001b[0;34m\u001b[0m\u001b[0m\n\u001b[0m\u001b[1;32m      6\u001b[0m \u001b[0my_pred\u001b[0m \u001b[0;34m=\u001b[0m \u001b[0mcb\u001b[0m\u001b[0;34m.\u001b[0m\u001b[0mpredict\u001b[0m\u001b[0;34m(\u001b[0m\u001b[0m_____\u001b[0m\u001b[0;34m)\u001b[0m\u001b[0;34m\u001b[0m\u001b[0m\n\u001b[1;32m      7\u001b[0m \u001b[0;34m\u001b[0m\u001b[0m\n",
            "\u001b[0;31mNameError\u001b[0m: name '_____' is not defined"
          ]
        }
      ],
      "source": [
        "from catboost import CatBoostRegressor\n",
        "\n",
        "cb = CatBoostRegressor(verbose = 0, cat_features = ['workingday','hour'])\n",
        "\n",
        "cb.fit(_____, Y_train)\n",
        "y_pred = cb.predict(_____)\n",
        "\n",
        "# Warning : without `scoring` parameter it returns a R2 score ! \n",
        "scores = _____(cb, X_train, Y_train, cv=5)\n",
        "\n",
        "print(\"Cross-validated scores:\", _____)\n",
        "\n",
        "print(\"R2: \", metrics.r2_score(_____, _____))\n",
        "print(\"MAE: \", _____)"
      ]
    },
    {
      "cell_type": "code",
      "execution_count": null,
      "metadata": {
        "id": "NQ4vQR7Vx5Gm",
        "outputId": "869519e7-0e59-4731-f5f2-7ddb65e9cb39"
      },
      "outputs": [
        {
          "ename": "NameError",
          "evalue": "name '_____' is not defined",
          "output_type": "error",
          "traceback": [
            "\u001b[0;31m---------------------------------------------------------------------------\u001b[0m",
            "\u001b[0;31mNameError\u001b[0m                                 Traceback (most recent call last)",
            "\u001b[0;32m<ipython-input-68-9ce527213e9d>\u001b[0m in \u001b[0;36m<module>\u001b[0;34m\u001b[0m\n\u001b[1;32m      1\u001b[0m \u001b[0;32mimport\u001b[0m \u001b[0mlightgbm\u001b[0m \u001b[0;32mas\u001b[0m \u001b[0mlgb\u001b[0m\u001b[0;34m\u001b[0m\u001b[0m\n\u001b[1;32m      2\u001b[0m \u001b[0;34m\u001b[0m\u001b[0m\n\u001b[0;32m----> 3\u001b[0;31m \u001b[0mlgb_train\u001b[0m \u001b[0;34m=\u001b[0m \u001b[0mlgb\u001b[0m\u001b[0;34m.\u001b[0m\u001b[0mDataset\u001b[0m\u001b[0;34m(\u001b[0m\u001b[0m_____\u001b[0m\u001b[0;34m,\u001b[0m \u001b[0mY_train\u001b[0m\u001b[0;34m)\u001b[0m\u001b[0;34m\u001b[0m\u001b[0m\n\u001b[0m\u001b[1;32m      4\u001b[0m \u001b[0mlgb_test\u001b[0m \u001b[0;34m=\u001b[0m \u001b[0mlgb\u001b[0m\u001b[0;34m.\u001b[0m\u001b[0mDataset\u001b[0m\u001b[0;34m(\u001b[0m\u001b[0mX_test\u001b[0m\u001b[0;34m,\u001b[0m \u001b[0m_____\u001b[0m\u001b[0;34m,\u001b[0m \u001b[0mreference\u001b[0m\u001b[0;34m=\u001b[0m\u001b[0mlgb_train\u001b[0m\u001b[0;34m)\u001b[0m\u001b[0;34m\u001b[0m\u001b[0m\n\u001b[1;32m      5\u001b[0m \u001b[0;34m\u001b[0m\u001b[0m\n",
            "\u001b[0;31mNameError\u001b[0m: name '_____' is not defined"
          ]
        }
      ],
      "source": [
        "import lightgbm as lgb\n",
        "\n",
        "lgb_train = lgb.Dataset(_____, Y_train)\n",
        "lgb_test = lgb.Dataset(X_test, _____, reference=lgb_train)\n",
        "\n",
        "params = {\n",
        "    'num_leaves': 5,\n",
        "    'metric': ['l1', 'l2'],\n",
        "    'verbose': -1,\n",
        "    'n_estimators': _____\n",
        "}\n",
        "\n",
        "evals_result = {}  # to record eval results for plotting\n",
        "gbm = lgb.train(params,\n",
        "                lgb_train,\n",
        "                num_boost_round=100,\n",
        "                valid_sets=[lgb_train, lgb_test],\n",
        "                feature_name=['f' + str(i + 1) for i in range(X_train.shape[-1])],\n",
        "                categorical_feature=[21],\n",
        "                evals_result=evals_result,\n",
        "                verbose_eval=0)\n",
        "\n",
        "y_pred = _____\n",
        "\n",
        "print(\"R2: \", _____)\n",
        "print(\"MAE: \", _____)"
      ]
    },
    {
      "cell_type": "code",
      "execution_count": null,
      "metadata": {
        "id": "dhExFXWsx5Gn",
        "outputId": "679e5137-3217-448b-fbaa-f0e2f8eda05a"
      },
      "outputs": [
        {
          "ename": "NameError",
          "evalue": "name 'X_train' is not defined",
          "output_type": "error",
          "traceback": [
            "\u001b[0;31m---------------------------------------------------------------------------\u001b[0m",
            "\u001b[0;31mNameError\u001b[0m                                 Traceback (most recent call last)",
            "\u001b[0;32m<ipython-input-69-5a359c842006>\u001b[0m in \u001b[0;36m<module>\u001b[0;34m\u001b[0m\n\u001b[1;32m      1\u001b[0m \u001b[0;32mimport\u001b[0m \u001b[0mxgboost\u001b[0m \u001b[0;32mas\u001b[0m \u001b[0mxgb\u001b[0m\u001b[0;34m\u001b[0m\u001b[0m\n\u001b[1;32m      2\u001b[0m \u001b[0;34m\u001b[0m\u001b[0m\n\u001b[0;32m----> 3\u001b[0;31m \u001b[0mX_train\u001b[0m\u001b[0;34m[\u001b[0m\u001b[0;34m'hour'\u001b[0m\u001b[0;34m]\u001b[0m \u001b[0;34m=\u001b[0m \u001b[0mX_train\u001b[0m\u001b[0;34m[\u001b[0m\u001b[0;34m'hour'\u001b[0m\u001b[0;34m]\u001b[0m\u001b[0;34m.\u001b[0m\u001b[0mastype\u001b[0m\u001b[0;34m(\u001b[0m\u001b[0;34m'int8'\u001b[0m\u001b[0;34m)\u001b[0m\u001b[0;34m\u001b[0m\u001b[0m\n\u001b[0m\u001b[1;32m      4\u001b[0m \u001b[0mX_train\u001b[0m\u001b[0;34m[\u001b[0m\u001b[0;34m'workingday'\u001b[0m\u001b[0;34m]\u001b[0m \u001b[0;34m=\u001b[0m \u001b[0mX_train\u001b[0m\u001b[0;34m[\u001b[0m\u001b[0;34m'workingday'\u001b[0m\u001b[0;34m]\u001b[0m\u001b[0;34m.\u001b[0m\u001b[0mastype\u001b[0m\u001b[0;34m(\u001b[0m\u001b[0;34m'int8'\u001b[0m\u001b[0;34m)\u001b[0m\u001b[0;34m\u001b[0m\u001b[0m\n\u001b[1;32m      5\u001b[0m \u001b[0;34m\u001b[0m\u001b[0m\n",
            "\u001b[0;31mNameError\u001b[0m: name 'X_train' is not defined"
          ]
        }
      ],
      "source": [
        "import xgboost as xgb\n",
        "\n",
        "X_train['hour'] = X_train['hour'].astype('int8')\n",
        "X_train['workingday'] = X_train['workingday'].astype('int8')\n",
        "\n",
        "X_test['hour'] = X_test['hour'].astype('int8')\n",
        "X_test['workingday'] = X_test['workingday'].astype('int8')\n",
        "\n",
        "#gbmdata_dmatrix = xgb.DMatrix(data=X_train, label=Y_train)\n",
        "\n",
        "xg_reg = xgb.XGBRegressor(objective ='reg:linear', colsample_bytree = 0.9, learning_rate = 0.1, n_estimators = _____)\n",
        "\n",
        "xg_reg._____\n",
        "y_pred = _____\n",
        "\n",
        "print(\"R2: \", _____)\n",
        "print(\"MAE: \", _____)"
      ]
    }
  ],
  "metadata": {
    "kernelspec": {
      "display_name": "Python 3",
      "language": "python",
      "name": "python3"
    },
    "language_info": {
      "codemirror_mode": {
        "name": "ipython",
        "version": 3
      },
      "file_extension": ".py",
      "mimetype": "text/x-python",
      "name": "python",
      "nbconvert_exporter": "python",
      "pygments_lexer": "ipython3",
      "version": "3.8.8"
    },
    "colab": {
      "provenance": []
    }
  },
  "nbformat": 4,
  "nbformat_minor": 0
}