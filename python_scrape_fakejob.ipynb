{
  "nbformat": 4,
  "nbformat_minor": 0,
  "metadata": {
    "colab": {
      "name": "python_scrape_fakejob",
      "provenance": []
    },
    "kernelspec": {
      "name": "python3",
      "display_name": "Python 3"
    },
    "language_info": {
      "name": "python"
    }
  },
  "cells": [
    {
      "cell_type": "code",
      "execution_count": 2,
      "metadata": {
        "id": "N4n89tAUWIs1"
      },
      "outputs": [],
      "source": [
        "import requests\n",
        "import requests\n",
        "from bs4 import BeautifulSoup\n",
        "import pandas as pd"
      ]
    },
    {
      "cell_type": "code",
      "source": [
        "r = requests.get(\"https://realpython.github.io/fake-jobs/\")"
      ],
      "metadata": {
        "id": "xc2LEuzQWXsj"
      },
      "execution_count": 3,
      "outputs": []
    },
    {
      "cell_type": "code",
      "source": [
        "soup = BeautifulSoup(r.text, 'html.parser')"
      ],
      "metadata": {
        "id": "-uVP9U9lWg-p"
      },
      "execution_count": 4,
      "outputs": []
    },
    {
      "cell_type": "code",
      "source": [
        "resultat = soup.find_all(\"div\", attrs={\"class\":\"card-content\"})"
      ],
      "metadata": {
        "id": "TsQX-_RuWljl"
      },
      "execution_count": 5,
      "outputs": []
    },
    {
      "cell_type": "code",
      "source": [
        "# Premier poste\n",
        "resultat[0].find(\"h2\").contents[0].strip()"
      ],
      "metadata": {
        "colab": {
          "base_uri": "https://localhost:8080/",
          "height": 35
        },
        "id": "KFX86v1EWsMj",
        "outputId": "705bbaad-5d43-49d5-bc6a-8df821078b67"
      },
      "execution_count": 6,
      "outputs": [
        {
          "output_type": "execute_result",
          "data": {
            "text/plain": [
              "'Senior Python Developer'"
            ],
            "application/vnd.google.colaboratory.intrinsic+json": {
              "type": "string"
            }
          },
          "metadata": {},
          "execution_count": 6
        }
      ]
    },
    {
      "cell_type": "code",
      "source": [
        "# Première entreprise\n",
        "resultat[0].find(\"h3\").contents[0].strip()"
      ],
      "metadata": {
        "colab": {
          "base_uri": "https://localhost:8080/",
          "height": 35
        },
        "id": "h7EinzfoW0S6",
        "outputId": "c10632fd-819f-4395-9403-76c528169d90"
      },
      "execution_count": 7,
      "outputs": [
        {
          "output_type": "execute_result",
          "data": {
            "text/plain": [
              "'Payne, Roberts and Davis'"
            ],
            "application/vnd.google.colaboratory.intrinsic+json": {
              "type": "string"
            }
          },
          "metadata": {},
          "execution_count": 7
        }
      ]
    },
    {
      "cell_type": "code",
      "source": [
        "# Premier lieu\n",
        "resultat[0].find(\"p\", {\"class\":\"location\"}).contents[0].strip()"
      ],
      "metadata": {
        "colab": {
          "base_uri": "https://localhost:8080/",
          "height": 35
        },
        "id": "pKQYVxgbXEgi",
        "outputId": "9e3ce6c7-bd52-4b54-d955-d78bd399bb25"
      },
      "execution_count": 8,
      "outputs": [
        {
          "output_type": "execute_result",
          "data": {
            "text/plain": [
              "'Stewartbury, AA'"
            ],
            "application/vnd.google.colaboratory.intrinsic+json": {
              "type": "string"
            }
          },
          "metadata": {},
          "execution_count": 8
        }
      ]
    },
    {
      "cell_type": "code",
      "source": [
        "# Toutes les informations\n",
        "liste = []\n",
        "\n",
        "for i in range(0,len(resultat)):\n",
        "    try:\n",
        "        poste = resultat[i].find(\"h2\").contents[0].strip()\n",
        "        entreprise = resultat[i].find(\"h3\").contents[0].strip()\n",
        "        lieu = resultat[i].find(\"p\", {\"class\":\"location\"}).contents[0].strip()\n",
        "        liste.append((poste, entreprise, lieu))\n",
        "    except:\n",
        "        continue"
      ],
      "metadata": {
        "id": "9G1xWjVJXFom"
      },
      "execution_count": 9,
      "outputs": []
    },
    {
      "cell_type": "code",
      "source": [
        "liste"
      ],
      "metadata": {
        "colab": {
          "base_uri": "https://localhost:8080/"
        },
        "id": "rt1woUA6Y4Ud",
        "outputId": "cec74e89-5b87-4f5a-b6f1-017699963744"
      },
      "execution_count": 12,
      "outputs": [
        {
          "output_type": "execute_result",
          "data": {
            "text/plain": [
              "[('Senior Python Developer', 'Payne, Roberts and Davis', 'Stewartbury, AA'),\n",
              " ('Energy engineer', 'Vasquez-Davidson', 'Christopherville, AA'),\n",
              " ('Legal executive', 'Jackson, Chambers and Levy', 'Port Ericaburgh, AA'),\n",
              " ('Fitness centre manager', 'Savage-Bradley', 'East Seanview, AP'),\n",
              " ('Product manager', 'Ramirez Inc', 'North Jamieview, AP'),\n",
              " ('Medical technical officer', 'Rogers-Yates', 'Davidville, AP'),\n",
              " ('Physiological scientist', 'Kramer-Klein', 'South Christopher, AE'),\n",
              " ('Textile designer', 'Meyers-Johnson', 'Port Jonathan, AE'),\n",
              " ('Television floor manager', 'Hughes-Williams', 'Osbornetown, AE'),\n",
              " ('Waste management officer', 'Jones, Williams and Villa', 'Scotttown, AP'),\n",
              " ('Software Engineer (Python)', 'Garcia PLC', 'Ericberg, AE'),\n",
              " ('Interpreter', 'Gregory and Sons', 'Ramireztown, AE'),\n",
              " ('Architect', 'Clark, Garcia and Sosa', 'Figueroaview, AA'),\n",
              " ('Meteorologist', 'Bush PLC', 'Kelseystad, AA'),\n",
              " ('Audiological scientist', 'Salazar-Meyers', 'Williamsburgh, AE'),\n",
              " ('English as a second language teacher',\n",
              "  'Parker, Murphy and Brooks',\n",
              "  'Mitchellburgh, AE'),\n",
              " ('Surgeon', 'Cruz-Brown', 'West Jessicabury, AA'),\n",
              " ('Equities trader', 'Macdonald-Ferguson', 'Maloneshire, AE'),\n",
              " ('Newspaper journalist', 'Williams, Peterson and Rojas', 'Johnsonton, AA'),\n",
              " ('Materials engineer', 'Smith and Sons', 'South Davidtown, AP'),\n",
              " ('Python Programmer (Entry-Level)',\n",
              "  'Moss, Duncan and Allen',\n",
              "  'Port Sara, AE'),\n",
              " ('Product/process development scientist', 'Gomez-Carroll', 'Marktown, AA'),\n",
              " ('Scientist, research (maths)',\n",
              "  'Manning, Welch and Herring',\n",
              "  'Laurenland, AE'),\n",
              " ('Ecologist', 'Lee, Gutierrez and Brown', 'Lauraton, AP'),\n",
              " ('Materials engineer', 'Davis, Serrano and Cook', 'South Tammyberg, AP'),\n",
              " ('Historic buildings inspector/conservation officer',\n",
              "  'Smith LLC',\n",
              "  'North Brandonville, AP'),\n",
              " ('Data scientist', 'Thomas Group', 'Port Robertfurt, AA'),\n",
              " ('Psychiatrist', 'Silva-King', 'Burnettbury, AE'),\n",
              " ('Structural engineer', 'Pierce-Long', 'Herbertside, AA'),\n",
              " ('Immigration officer', 'Walker-Simpson', 'Christopherport, AP'),\n",
              " ('Python Programmer (Entry-Level)', 'Cooper and Sons', 'West Victor, AE'),\n",
              " ('Neurosurgeon', 'Donovan, Gonzalez and Figueroa', 'Port Aaron, AP'),\n",
              " ('Broadcast engineer', 'Morgan, Butler and Bennett', 'Loribury, AA'),\n",
              " ('Make', 'Snyder-Lee', 'Angelastad, AP'),\n",
              " ('Nurse, adult', 'Harris PLC', 'Larrytown, AE'),\n",
              " ('Air broker', 'Washington PLC', 'West Colin, AP'),\n",
              " ('Editor, film/video', 'Brown, Price and Campbell', 'West Stephanie, AP'),\n",
              " ('Production assistant, radio', 'Mcgee PLC', 'Laurentown, AP'),\n",
              " ('Engineer, communications', 'Dixon Inc', 'Wrightberg, AP'),\n",
              " ('Sales executive', 'Thompson, Sheppard and Ward', 'Alberttown, AE'),\n",
              " ('Software Developer (Python)', 'Adams-Brewer', 'Brockburgh, AE'),\n",
              " ('Futures trader', 'Schneider-Brady', 'North Jason, AE'),\n",
              " ('Tour manager', 'Gonzales-Frank', 'Arnoldhaven, AE'),\n",
              " ('Cytogeneticist', 'Smith-Wong', 'Lake Destiny, AP'),\n",
              " ('Designer, multimedia', 'Pierce-Herrera', 'South Timothyburgh, AP'),\n",
              " ('Trade union research officer',\n",
              "  'Aguilar, Rivera and Quinn',\n",
              "  'New Jimmyton, AE'),\n",
              " ('Chemist, analytical', 'Lowe, Barnes and Thomas', 'New Lucasbury, AP'),\n",
              " ('Programmer, multimedia', 'Lewis, Gonzalez and Vasquez', 'Port Cory, AE'),\n",
              " ('Engineer, broadcasting (operations)', 'Taylor PLC', 'Gileston, AA'),\n",
              " ('Teacher, primary school', 'Oliver, Jones and Ramirez', 'Cindyshire, AA'),\n",
              " ('Python Developer', 'Rivera and Sons', 'East Michaelfort, AA'),\n",
              " ('Manufacturing systems engineer', 'Garcia PLC', 'Joybury, AE'),\n",
              " ('Producer, television/film/video',\n",
              "  'Johnson, Wells and Kramer',\n",
              "  'Emmatown, AE'),\n",
              " ('Scientist, forensic', 'Gonzalez LLC', 'Colehaven, AP'),\n",
              " ('Bonds trader', 'Morgan, White and Macdonald', 'Port Coryton, AE'),\n",
              " ('Editorial assistant', 'Robinson-Fitzpatrick', 'Amyborough, AA'),\n",
              " ('Photographer', 'Waters, Wilson and Hoover', 'Reynoldsville, AA'),\n",
              " ('Retail banker', 'Hill LLC', 'Port Billy, AP'),\n",
              " ('Jewellery designer', 'Li-Gregory', 'Adamburgh, AA'),\n",
              " ('Ophthalmologist', 'Fisher, Ryan and Coleman', 'Wilsonmouth, AA'),\n",
              " ('Back-End Web Developer (Python, Django)',\n",
              "  'Stewart-Alexander',\n",
              "  'South Kimberly, AA'),\n",
              " ('Licensed conveyancer', 'Abbott and Sons', 'Benjaminland, AP'),\n",
              " ('Futures trader', 'Bryant, Santana and Davenport', 'Zacharyport, AA'),\n",
              " ('Counselling psychologist', 'Smith PLC', 'Port Devonville, AE'),\n",
              " ('Insurance underwriter', 'Patterson-Singh', 'East Thomas, AE'),\n",
              " ('Engineer, automotive', 'Martinez-Berry', 'New Jeffrey, AP'),\n",
              " ('Producer, radio', 'May, Taylor and Fisher', 'Davidside, AA'),\n",
              " ('Dispensing optician', 'Bailey, Owen and Thompson', 'Jamesville, AA'),\n",
              " ('Designer, fashion/clothing', 'Vasquez Ltd', 'New Kelly, AP'),\n",
              " ('Chartered loss adjuster', 'Leblanc LLC', 'Lake Antonio, AA'),\n",
              " ('Back-End Web Developer (Python, Django)',\n",
              "  'Jackson, Ali and Mckee',\n",
              "  'New Elizabethside, AA'),\n",
              " ('Forest/woodland manager',\n",
              "  'Blankenship, Knight and Powell',\n",
              "  'Millsbury, AE'),\n",
              " ('Clinical cytogeneticist', 'Patton, Haynes and Jones', 'Lloydton, AP'),\n",
              " ('Print production planner', 'Wood Inc', 'Port Jeremy, AA'),\n",
              " ('Systems developer', 'Collins Group', 'New Elizabethtown, AA'),\n",
              " ('Graphic designer', 'Flores-Nelson', 'Charlesstad, AE'),\n",
              " ('Writer', 'Mitchell, Jones and Olson', 'Josephbury, AE'),\n",
              " ('Field seismologist', 'Howard Group', 'Seanfurt, AA'),\n",
              " ('Chief Strategy Officer', 'Kramer-Edwards', 'Williambury, AA'),\n",
              " ('Air cabin crew', 'Berry-Houston', 'South Jorgeside, AP'),\n",
              " ('Python Programmer (Entry-Level)', 'Mathews Inc', 'Robertborough, AP'),\n",
              " ('Warden/ranger', 'Riley-Johnson', 'South Saratown, AP'),\n",
              " ('Sports therapist', 'Spencer and Sons', 'Hullview, AA'),\n",
              " ('Arts development officer', 'Camacho-Sanchez', 'Philipland, AP'),\n",
              " ('Printmaker', 'Oliver and Sons', 'North Patty, AE'),\n",
              " ('Health and safety adviser', 'Eaton PLC', 'North Stephen, AE'),\n",
              " ('Manufacturing systems engineer', 'Stanley-Frederick', 'Stevensland, AP'),\n",
              " ('Programmer, applications', 'Bradley LLC', 'Reyesstad, AE'),\n",
              " ('Medical physicist', 'Parker, Goodwin and Zavala', 'Bellberg, AP'),\n",
              " ('Media planner', 'Kim-Miles', 'North Johnland, AE'),\n",
              " ('Software Developer (Python)', 'Moreno-Rodriguez', 'Martinezburgh, AE'),\n",
              " ('Surveyor, land/geomatics', 'Brown-Ortiz', 'Joshuatown, AE'),\n",
              " ('Legal executive', 'Hartman PLC', 'West Ericstad, AA'),\n",
              " ('Librarian, academic', 'Brooks Inc', 'Tuckertown, AE'),\n",
              " ('Barrister', 'Washington-Castillo', 'Perezton, AE'),\n",
              " ('Museum/gallery exhibitions officer',\n",
              "  'Nguyen, Yoder and Petty',\n",
              "  'Lake Abigail, AE'),\n",
              " ('Radiographer, diagnostic', 'Holder LLC', 'Jacobshire, AP'),\n",
              " ('Database administrator', 'Yates-Ferguson', 'Port Susan, AE'),\n",
              " ('Furniture designer', 'Ortega-Lawrence', 'North Tiffany, AA'),\n",
              " ('Ship broker', 'Fuentes, Walls and Castro', 'Michelleville, AP')]"
            ]
          },
          "metadata": {},
          "execution_count": 12
        }
      ]
    },
    {
      "cell_type": "code",
      "source": [
        "df = pd.DataFrame(liste)\n",
        "df.to_csv(\"scraping_fake_jobs.csv\", index=False)"
      ],
      "metadata": {
        "id": "laZW7VAzXeqk"
      },
      "execution_count": 11,
      "outputs": []
    }
  ]
}