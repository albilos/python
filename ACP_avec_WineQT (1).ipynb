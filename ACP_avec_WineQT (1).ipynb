{
  "cells": [
    {
      "cell_type": "markdown",
      "id": "ef27ee53",
      "metadata": {
        "id": "ef27ee53"
      },
      "source": [
        "# Application d'une analyse par composante principal ACP"
      ]
    },
    {
      "cell_type": "code",
      "execution_count": 4,
      "id": "11e9b7db",
      "metadata": {
        "scrolled": true,
        "id": "11e9b7db"
      },
      "outputs": [],
      "source": [
        "import numpy as np\n",
        "import pandas as pd\n",
        "import matplotlib.pyplot as plt\n",
        "#chargement des données \n",
        "df=pd.read_csv(\"WineQT.csv\")"
      ]
    },
    {
      "cell_type": "code",
      "execution_count": 5,
      "id": "7ff28970",
      "metadata": {
        "id": "7ff28970",
        "outputId": "d491f7dd-41d7-4b4c-d81b-6f2f8f66d93f",
        "colab": {
          "base_uri": "https://localhost:8080/",
          "height": 502
        }
      },
      "outputs": [
        {
          "output_type": "execute_result",
          "data": {
            "text/plain": [
              "      fixed acidity  volatile acidity  citric acid  residual sugar  chlorides  \\\n",
              "0               7.4             0.700         0.00             1.9      0.076   \n",
              "1               7.8             0.880         0.00             2.6      0.098   \n",
              "2               7.8             0.760         0.04             2.3      0.092   \n",
              "3              11.2             0.280         0.56             1.9      0.075   \n",
              "4               7.4             0.700         0.00             1.9      0.076   \n",
              "...             ...               ...          ...             ...        ...   \n",
              "1138            6.3             0.510         0.13             2.3      0.076   \n",
              "1139            6.8             0.620         0.08             1.9      0.068   \n",
              "1140            6.2             0.600         0.08             2.0      0.090   \n",
              "1141            5.9             0.550         0.10             2.2      0.062   \n",
              "1142            5.9             0.645         0.12             2.0      0.075   \n",
              "\n",
              "      free sulfur dioxide  total sulfur dioxide  density    pH  sulphates  \\\n",
              "0                    11.0                  34.0  0.99780  3.51       0.56   \n",
              "1                    25.0                  67.0  0.99680  3.20       0.68   \n",
              "2                    15.0                  54.0  0.99700  3.26       0.65   \n",
              "3                    17.0                  60.0  0.99800  3.16       0.58   \n",
              "4                    11.0                  34.0  0.99780  3.51       0.56   \n",
              "...                   ...                   ...      ...   ...        ...   \n",
              "1138                 29.0                  40.0  0.99574  3.42       0.75   \n",
              "1139                 28.0                  38.0  0.99651  3.42       0.82   \n",
              "1140                 32.0                  44.0  0.99490  3.45       0.58   \n",
              "1141                 39.0                  51.0  0.99512  3.52       0.76   \n",
              "1142                 32.0                  44.0  0.99547  3.57       0.71   \n",
              "\n",
              "      alcohol  quality    Id  \n",
              "0         9.4        5     0  \n",
              "1         9.8        5     1  \n",
              "2         9.8        5     2  \n",
              "3         9.8        6     3  \n",
              "4         9.4        5     4  \n",
              "...       ...      ...   ...  \n",
              "1138     11.0        6  1592  \n",
              "1139      9.5        6  1593  \n",
              "1140     10.5        5  1594  \n",
              "1141     11.2        6  1595  \n",
              "1142     10.2        5  1597  \n",
              "\n",
              "[1143 rows x 13 columns]"
            ],
            "text/html": [
              "\n",
              "  <div id=\"df-be13b8fd-9de9-47d1-860b-0b8a3a909d39\">\n",
              "    <div class=\"colab-df-container\">\n",
              "      <div>\n",
              "<style scoped>\n",
              "    .dataframe tbody tr th:only-of-type {\n",
              "        vertical-align: middle;\n",
              "    }\n",
              "\n",
              "    .dataframe tbody tr th {\n",
              "        vertical-align: top;\n",
              "    }\n",
              "\n",
              "    .dataframe thead th {\n",
              "        text-align: right;\n",
              "    }\n",
              "</style>\n",
              "<table border=\"1\" class=\"dataframe\">\n",
              "  <thead>\n",
              "    <tr style=\"text-align: right;\">\n",
              "      <th></th>\n",
              "      <th>fixed acidity</th>\n",
              "      <th>volatile acidity</th>\n",
              "      <th>citric acid</th>\n",
              "      <th>residual sugar</th>\n",
              "      <th>chlorides</th>\n",
              "      <th>free sulfur dioxide</th>\n",
              "      <th>total sulfur dioxide</th>\n",
              "      <th>density</th>\n",
              "      <th>pH</th>\n",
              "      <th>sulphates</th>\n",
              "      <th>alcohol</th>\n",
              "      <th>quality</th>\n",
              "      <th>Id</th>\n",
              "    </tr>\n",
              "  </thead>\n",
              "  <tbody>\n",
              "    <tr>\n",
              "      <th>0</th>\n",
              "      <td>7.4</td>\n",
              "      <td>0.700</td>\n",
              "      <td>0.00</td>\n",
              "      <td>1.9</td>\n",
              "      <td>0.076</td>\n",
              "      <td>11.0</td>\n",
              "      <td>34.0</td>\n",
              "      <td>0.99780</td>\n",
              "      <td>3.51</td>\n",
              "      <td>0.56</td>\n",
              "      <td>9.4</td>\n",
              "      <td>5</td>\n",
              "      <td>0</td>\n",
              "    </tr>\n",
              "    <tr>\n",
              "      <th>1</th>\n",
              "      <td>7.8</td>\n",
              "      <td>0.880</td>\n",
              "      <td>0.00</td>\n",
              "      <td>2.6</td>\n",
              "      <td>0.098</td>\n",
              "      <td>25.0</td>\n",
              "      <td>67.0</td>\n",
              "      <td>0.99680</td>\n",
              "      <td>3.20</td>\n",
              "      <td>0.68</td>\n",
              "      <td>9.8</td>\n",
              "      <td>5</td>\n",
              "      <td>1</td>\n",
              "    </tr>\n",
              "    <tr>\n",
              "      <th>2</th>\n",
              "      <td>7.8</td>\n",
              "      <td>0.760</td>\n",
              "      <td>0.04</td>\n",
              "      <td>2.3</td>\n",
              "      <td>0.092</td>\n",
              "      <td>15.0</td>\n",
              "      <td>54.0</td>\n",
              "      <td>0.99700</td>\n",
              "      <td>3.26</td>\n",
              "      <td>0.65</td>\n",
              "      <td>9.8</td>\n",
              "      <td>5</td>\n",
              "      <td>2</td>\n",
              "    </tr>\n",
              "    <tr>\n",
              "      <th>3</th>\n",
              "      <td>11.2</td>\n",
              "      <td>0.280</td>\n",
              "      <td>0.56</td>\n",
              "      <td>1.9</td>\n",
              "      <td>0.075</td>\n",
              "      <td>17.0</td>\n",
              "      <td>60.0</td>\n",
              "      <td>0.99800</td>\n",
              "      <td>3.16</td>\n",
              "      <td>0.58</td>\n",
              "      <td>9.8</td>\n",
              "      <td>6</td>\n",
              "      <td>3</td>\n",
              "    </tr>\n",
              "    <tr>\n",
              "      <th>4</th>\n",
              "      <td>7.4</td>\n",
              "      <td>0.700</td>\n",
              "      <td>0.00</td>\n",
              "      <td>1.9</td>\n",
              "      <td>0.076</td>\n",
              "      <td>11.0</td>\n",
              "      <td>34.0</td>\n",
              "      <td>0.99780</td>\n",
              "      <td>3.51</td>\n",
              "      <td>0.56</td>\n",
              "      <td>9.4</td>\n",
              "      <td>5</td>\n",
              "      <td>4</td>\n",
              "    </tr>\n",
              "    <tr>\n",
              "      <th>...</th>\n",
              "      <td>...</td>\n",
              "      <td>...</td>\n",
              "      <td>...</td>\n",
              "      <td>...</td>\n",
              "      <td>...</td>\n",
              "      <td>...</td>\n",
              "      <td>...</td>\n",
              "      <td>...</td>\n",
              "      <td>...</td>\n",
              "      <td>...</td>\n",
              "      <td>...</td>\n",
              "      <td>...</td>\n",
              "      <td>...</td>\n",
              "    </tr>\n",
              "    <tr>\n",
              "      <th>1138</th>\n",
              "      <td>6.3</td>\n",
              "      <td>0.510</td>\n",
              "      <td>0.13</td>\n",
              "      <td>2.3</td>\n",
              "      <td>0.076</td>\n",
              "      <td>29.0</td>\n",
              "      <td>40.0</td>\n",
              "      <td>0.99574</td>\n",
              "      <td>3.42</td>\n",
              "      <td>0.75</td>\n",
              "      <td>11.0</td>\n",
              "      <td>6</td>\n",
              "      <td>1592</td>\n",
              "    </tr>\n",
              "    <tr>\n",
              "      <th>1139</th>\n",
              "      <td>6.8</td>\n",
              "      <td>0.620</td>\n",
              "      <td>0.08</td>\n",
              "      <td>1.9</td>\n",
              "      <td>0.068</td>\n",
              "      <td>28.0</td>\n",
              "      <td>38.0</td>\n",
              "      <td>0.99651</td>\n",
              "      <td>3.42</td>\n",
              "      <td>0.82</td>\n",
              "      <td>9.5</td>\n",
              "      <td>6</td>\n",
              "      <td>1593</td>\n",
              "    </tr>\n",
              "    <tr>\n",
              "      <th>1140</th>\n",
              "      <td>6.2</td>\n",
              "      <td>0.600</td>\n",
              "      <td>0.08</td>\n",
              "      <td>2.0</td>\n",
              "      <td>0.090</td>\n",
              "      <td>32.0</td>\n",
              "      <td>44.0</td>\n",
              "      <td>0.99490</td>\n",
              "      <td>3.45</td>\n",
              "      <td>0.58</td>\n",
              "      <td>10.5</td>\n",
              "      <td>5</td>\n",
              "      <td>1594</td>\n",
              "    </tr>\n",
              "    <tr>\n",
              "      <th>1141</th>\n",
              "      <td>5.9</td>\n",
              "      <td>0.550</td>\n",
              "      <td>0.10</td>\n",
              "      <td>2.2</td>\n",
              "      <td>0.062</td>\n",
              "      <td>39.0</td>\n",
              "      <td>51.0</td>\n",
              "      <td>0.99512</td>\n",
              "      <td>3.52</td>\n",
              "      <td>0.76</td>\n",
              "      <td>11.2</td>\n",
              "      <td>6</td>\n",
              "      <td>1595</td>\n",
              "    </tr>\n",
              "    <tr>\n",
              "      <th>1142</th>\n",
              "      <td>5.9</td>\n",
              "      <td>0.645</td>\n",
              "      <td>0.12</td>\n",
              "      <td>2.0</td>\n",
              "      <td>0.075</td>\n",
              "      <td>32.0</td>\n",
              "      <td>44.0</td>\n",
              "      <td>0.99547</td>\n",
              "      <td>3.57</td>\n",
              "      <td>0.71</td>\n",
              "      <td>10.2</td>\n",
              "      <td>5</td>\n",
              "      <td>1597</td>\n",
              "    </tr>\n",
              "  </tbody>\n",
              "</table>\n",
              "<p>1143 rows × 13 columns</p>\n",
              "</div>\n",
              "      <button class=\"colab-df-convert\" onclick=\"convertToInteractive('df-be13b8fd-9de9-47d1-860b-0b8a3a909d39')\"\n",
              "              title=\"Convert this dataframe to an interactive table.\"\n",
              "              style=\"display:none;\">\n",
              "        \n",
              "  <svg xmlns=\"http://www.w3.org/2000/svg\" height=\"24px\"viewBox=\"0 0 24 24\"\n",
              "       width=\"24px\">\n",
              "    <path d=\"M0 0h24v24H0V0z\" fill=\"none\"/>\n",
              "    <path d=\"M18.56 5.44l.94 2.06.94-2.06 2.06-.94-2.06-.94-.94-2.06-.94 2.06-2.06.94zm-11 1L8.5 8.5l.94-2.06 2.06-.94-2.06-.94L8.5 2.5l-.94 2.06-2.06.94zm10 10l.94 2.06.94-2.06 2.06-.94-2.06-.94-.94-2.06-.94 2.06-2.06.94z\"/><path d=\"M17.41 7.96l-1.37-1.37c-.4-.4-.92-.59-1.43-.59-.52 0-1.04.2-1.43.59L10.3 9.45l-7.72 7.72c-.78.78-.78 2.05 0 2.83L4 21.41c.39.39.9.59 1.41.59.51 0 1.02-.2 1.41-.59l7.78-7.78 2.81-2.81c.8-.78.8-2.07 0-2.86zM5.41 20L4 18.59l7.72-7.72 1.47 1.35L5.41 20z\"/>\n",
              "  </svg>\n",
              "      </button>\n",
              "      \n",
              "  <style>\n",
              "    .colab-df-container {\n",
              "      display:flex;\n",
              "      flex-wrap:wrap;\n",
              "      gap: 12px;\n",
              "    }\n",
              "\n",
              "    .colab-df-convert {\n",
              "      background-color: #E8F0FE;\n",
              "      border: none;\n",
              "      border-radius: 50%;\n",
              "      cursor: pointer;\n",
              "      display: none;\n",
              "      fill: #1967D2;\n",
              "      height: 32px;\n",
              "      padding: 0 0 0 0;\n",
              "      width: 32px;\n",
              "    }\n",
              "\n",
              "    .colab-df-convert:hover {\n",
              "      background-color: #E2EBFA;\n",
              "      box-shadow: 0px 1px 2px rgba(60, 64, 67, 0.3), 0px 1px 3px 1px rgba(60, 64, 67, 0.15);\n",
              "      fill: #174EA6;\n",
              "    }\n",
              "\n",
              "    [theme=dark] .colab-df-convert {\n",
              "      background-color: #3B4455;\n",
              "      fill: #D2E3FC;\n",
              "    }\n",
              "\n",
              "    [theme=dark] .colab-df-convert:hover {\n",
              "      background-color: #434B5C;\n",
              "      box-shadow: 0px 1px 3px 1px rgba(0, 0, 0, 0.15);\n",
              "      filter: drop-shadow(0px 1px 2px rgba(0, 0, 0, 0.3));\n",
              "      fill: #FFFFFF;\n",
              "    }\n",
              "  </style>\n",
              "\n",
              "      <script>\n",
              "        const buttonEl =\n",
              "          document.querySelector('#df-be13b8fd-9de9-47d1-860b-0b8a3a909d39 button.colab-df-convert');\n",
              "        buttonEl.style.display =\n",
              "          google.colab.kernel.accessAllowed ? 'block' : 'none';\n",
              "\n",
              "        async function convertToInteractive(key) {\n",
              "          const element = document.querySelector('#df-be13b8fd-9de9-47d1-860b-0b8a3a909d39');\n",
              "          const dataTable =\n",
              "            await google.colab.kernel.invokeFunction('convertToInteractive',\n",
              "                                                     [key], {});\n",
              "          if (!dataTable) return;\n",
              "\n",
              "          const docLinkHtml = 'Like what you see? Visit the ' +\n",
              "            '<a target=\"_blank\" href=https://colab.research.google.com/notebooks/data_table.ipynb>data table notebook</a>'\n",
              "            + ' to learn more about interactive tables.';\n",
              "          element.innerHTML = '';\n",
              "          dataTable['output_type'] = 'display_data';\n",
              "          await google.colab.output.renderOutput(dataTable, element);\n",
              "          const docLink = document.createElement('div');\n",
              "          docLink.innerHTML = docLinkHtml;\n",
              "          element.appendChild(docLink);\n",
              "        }\n",
              "      </script>\n",
              "    </div>\n",
              "  </div>\n",
              "  "
            ]
          },
          "metadata": {},
          "execution_count": 5
        }
      ],
      "source": [
        "df"
      ]
    },
    {
      "cell_type": "code",
      "execution_count": 6,
      "id": "8216ff87",
      "metadata": {
        "id": "8216ff87",
        "outputId": "0060009e-d6f0-460c-ac16-8fa7f98707d6",
        "colab": {
          "base_uri": "https://localhost:8080/"
        }
      },
      "outputs": [
        {
          "output_type": "execute_result",
          "data": {
            "text/plain": [
              "array([5, 6, 7, 4, 8, 3])"
            ]
          },
          "metadata": {},
          "execution_count": 6
        }
      ],
      "source": [
        "df[\"quality\"].unique()"
      ]
    },
    {
      "cell_type": "code",
      "execution_count": 7,
      "id": "0c47dba7",
      "metadata": {
        "id": "0c47dba7"
      },
      "outputs": [],
      "source": [
        "#variable cible \"Quality\" \n",
        "#supprimer la variable cible\n",
        "X=df.drop(columns=[\"quality\"])"
      ]
    },
    {
      "cell_type": "code",
      "execution_count": 8,
      "id": "d68c7730",
      "metadata": {
        "id": "d68c7730",
        "outputId": "34a3a3a3-de4e-4577-cfda-f2f274b5969a",
        "colab": {
          "base_uri": "https://localhost:8080/"
        }
      },
      "outputs": [
        {
          "output_type": "execute_result",
          "data": {
            "text/plain": [
              "(1143, 12)"
            ]
          },
          "metadata": {},
          "execution_count": 8
        }
      ],
      "source": [
        "# les dimensions du dataframe\n",
        "X.shape"
      ]
    },
    {
      "cell_type": "code",
      "execution_count": 9,
      "id": "531dea5d",
      "metadata": {
        "id": "531dea5d",
        "outputId": "3171cb68-15e3-4fb1-b624-982478b3d3b4",
        "colab": {
          "base_uri": "https://localhost:8080/"
        }
      },
      "outputs": [
        {
          "output_type": "execute_result",
          "data": {
            "text/plain": [
              "array([[ 8.04862036e+02, -1.82419563e+01,  1.09658876e+00],\n",
              "       [ 8.04084548e+02,  1.70223563e+01,  7.55093908e+00],\n",
              "       [ 8.03006422e+02,  2.15892794e+00,  6.26448324e-01],\n",
              "       ...,\n",
              "       [-7.89056686e+02,  7.22409646e+00,  1.34854620e+01],\n",
              "       [-7.90018649e+02,  1.55896886e+01,  1.87959743e+01],\n",
              "       [-7.92056733e+02,  7.24886655e+00,  1.34756007e+01]])"
            ]
          },
          "metadata": {},
          "execution_count": 9
        }
      ],
      "source": [
        "from sklearn.decomposition import PCA\n",
        "pca=PCA(n_components=3)\n",
        "pca.fit_transform(X)"
      ]
    },
    {
      "cell_type": "code",
      "execution_count": 10,
      "id": "77b66806",
      "metadata": {
        "id": "77b66806"
      },
      "outputs": [],
      "source": [
        "pca?"
      ]
    },
    {
      "cell_type": "markdown",
      "id": "dceb3533",
      "metadata": {
        "id": "dceb3533"
      },
      "source": [
        "## Etapes de  l'ACP:"
      ]
    },
    {
      "cell_type": "markdown",
      "id": "4f6fc0d2",
      "metadata": {
        "id": "4f6fc0d2"
      },
      "source": [
        "# standardisation"
      ]
    },
    {
      "cell_type": "code",
      "execution_count": 11,
      "id": "bb4d3ac2",
      "metadata": {
        "id": "bb4d3ac2",
        "outputId": "d5199306-31f4-4ceb-f8c1-576a7699aa49",
        "colab": {
          "base_uri": "https://localhost:8080/",
          "height": 1000
        }
      },
      "outputs": [
        {
          "output_type": "execute_result",
          "data": {
            "text/plain": [
              "array([[<Axes: xlabel='fixed acidity', ylabel='fixed acidity'>,\n",
              "        <Axes: xlabel='volatile acidity', ylabel='fixed acidity'>,\n",
              "        <Axes: xlabel='citric acid', ylabel='fixed acidity'>,\n",
              "        <Axes: xlabel='residual sugar', ylabel='fixed acidity'>,\n",
              "        <Axes: xlabel='chlorides', ylabel='fixed acidity'>,\n",
              "        <Axes: xlabel='free sulfur dioxide', ylabel='fixed acidity'>,\n",
              "        <Axes: xlabel='total sulfur dioxide', ylabel='fixed acidity'>,\n",
              "        <Axes: xlabel='density', ylabel='fixed acidity'>,\n",
              "        <Axes: xlabel='pH', ylabel='fixed acidity'>,\n",
              "        <Axes: xlabel='sulphates', ylabel='fixed acidity'>,\n",
              "        <Axes: xlabel='alcohol', ylabel='fixed acidity'>,\n",
              "        <Axes: xlabel='Id', ylabel='fixed acidity'>],\n",
              "       [<Axes: xlabel='fixed acidity', ylabel='volatile acidity'>,\n",
              "        <Axes: xlabel='volatile acidity', ylabel='volatile acidity'>,\n",
              "        <Axes: xlabel='citric acid', ylabel='volatile acidity'>,\n",
              "        <Axes: xlabel='residual sugar', ylabel='volatile acidity'>,\n",
              "        <Axes: xlabel='chlorides', ylabel='volatile acidity'>,\n",
              "        <Axes: xlabel='free sulfur dioxide', ylabel='volatile acidity'>,\n",
              "        <Axes: xlabel='total sulfur dioxide', ylabel='volatile acidity'>,\n",
              "        <Axes: xlabel='density', ylabel='volatile acidity'>,\n",
              "        <Axes: xlabel='pH', ylabel='volatile acidity'>,\n",
              "        <Axes: xlabel='sulphates', ylabel='volatile acidity'>,\n",
              "        <Axes: xlabel='alcohol', ylabel='volatile acidity'>,\n",
              "        <Axes: xlabel='Id', ylabel='volatile acidity'>],\n",
              "       [<Axes: xlabel='fixed acidity', ylabel='citric acid'>,\n",
              "        <Axes: xlabel='volatile acidity', ylabel='citric acid'>,\n",
              "        <Axes: xlabel='citric acid', ylabel='citric acid'>,\n",
              "        <Axes: xlabel='residual sugar', ylabel='citric acid'>,\n",
              "        <Axes: xlabel='chlorides', ylabel='citric acid'>,\n",
              "        <Axes: xlabel='free sulfur dioxide', ylabel='citric acid'>,\n",
              "        <Axes: xlabel='total sulfur dioxide', ylabel='citric acid'>,\n",
              "        <Axes: xlabel='density', ylabel='citric acid'>,\n",
              "        <Axes: xlabel='pH', ylabel='citric acid'>,\n",
              "        <Axes: xlabel='sulphates', ylabel='citric acid'>,\n",
              "        <Axes: xlabel='alcohol', ylabel='citric acid'>,\n",
              "        <Axes: xlabel='Id', ylabel='citric acid'>],\n",
              "       [<Axes: xlabel='fixed acidity', ylabel='residual sugar'>,\n",
              "        <Axes: xlabel='volatile acidity', ylabel='residual sugar'>,\n",
              "        <Axes: xlabel='citric acid', ylabel='residual sugar'>,\n",
              "        <Axes: xlabel='residual sugar', ylabel='residual sugar'>,\n",
              "        <Axes: xlabel='chlorides', ylabel='residual sugar'>,\n",
              "        <Axes: xlabel='free sulfur dioxide', ylabel='residual sugar'>,\n",
              "        <Axes: xlabel='total sulfur dioxide', ylabel='residual sugar'>,\n",
              "        <Axes: xlabel='density', ylabel='residual sugar'>,\n",
              "        <Axes: xlabel='pH', ylabel='residual sugar'>,\n",
              "        <Axes: xlabel='sulphates', ylabel='residual sugar'>,\n",
              "        <Axes: xlabel='alcohol', ylabel='residual sugar'>,\n",
              "        <Axes: xlabel='Id', ylabel='residual sugar'>],\n",
              "       [<Axes: xlabel='fixed acidity', ylabel='chlorides'>,\n",
              "        <Axes: xlabel='volatile acidity', ylabel='chlorides'>,\n",
              "        <Axes: xlabel='citric acid', ylabel='chlorides'>,\n",
              "        <Axes: xlabel='residual sugar', ylabel='chlorides'>,\n",
              "        <Axes: xlabel='chlorides', ylabel='chlorides'>,\n",
              "        <Axes: xlabel='free sulfur dioxide', ylabel='chlorides'>,\n",
              "        <Axes: xlabel='total sulfur dioxide', ylabel='chlorides'>,\n",
              "        <Axes: xlabel='density', ylabel='chlorides'>,\n",
              "        <Axes: xlabel='pH', ylabel='chlorides'>,\n",
              "        <Axes: xlabel='sulphates', ylabel='chlorides'>,\n",
              "        <Axes: xlabel='alcohol', ylabel='chlorides'>,\n",
              "        <Axes: xlabel='Id', ylabel='chlorides'>],\n",
              "       [<Axes: xlabel='fixed acidity', ylabel='free sulfur dioxide'>,\n",
              "        <Axes: xlabel='volatile acidity', ylabel='free sulfur dioxide'>,\n",
              "        <Axes: xlabel='citric acid', ylabel='free sulfur dioxide'>,\n",
              "        <Axes: xlabel='residual sugar', ylabel='free sulfur dioxide'>,\n",
              "        <Axes: xlabel='chlorides', ylabel='free sulfur dioxide'>,\n",
              "        <Axes: xlabel='free sulfur dioxide', ylabel='free sulfur dioxide'>,\n",
              "        <Axes: xlabel='total sulfur dioxide', ylabel='free sulfur dioxide'>,\n",
              "        <Axes: xlabel='density', ylabel='free sulfur dioxide'>,\n",
              "        <Axes: xlabel='pH', ylabel='free sulfur dioxide'>,\n",
              "        <Axes: xlabel='sulphates', ylabel='free sulfur dioxide'>,\n",
              "        <Axes: xlabel='alcohol', ylabel='free sulfur dioxide'>,\n",
              "        <Axes: xlabel='Id', ylabel='free sulfur dioxide'>],\n",
              "       [<Axes: xlabel='fixed acidity', ylabel='total sulfur dioxide'>,\n",
              "        <Axes: xlabel='volatile acidity', ylabel='total sulfur dioxide'>,\n",
              "        <Axes: xlabel='citric acid', ylabel='total sulfur dioxide'>,\n",
              "        <Axes: xlabel='residual sugar', ylabel='total sulfur dioxide'>,\n",
              "        <Axes: xlabel='chlorides', ylabel='total sulfur dioxide'>,\n",
              "        <Axes: xlabel='free sulfur dioxide', ylabel='total sulfur dioxide'>,\n",
              "        <Axes: xlabel='total sulfur dioxide', ylabel='total sulfur dioxide'>,\n",
              "        <Axes: xlabel='density', ylabel='total sulfur dioxide'>,\n",
              "        <Axes: xlabel='pH', ylabel='total sulfur dioxide'>,\n",
              "        <Axes: xlabel='sulphates', ylabel='total sulfur dioxide'>,\n",
              "        <Axes: xlabel='alcohol', ylabel='total sulfur dioxide'>,\n",
              "        <Axes: xlabel='Id', ylabel='total sulfur dioxide'>],\n",
              "       [<Axes: xlabel='fixed acidity', ylabel='density'>,\n",
              "        <Axes: xlabel='volatile acidity', ylabel='density'>,\n",
              "        <Axes: xlabel='citric acid', ylabel='density'>,\n",
              "        <Axes: xlabel='residual sugar', ylabel='density'>,\n",
              "        <Axes: xlabel='chlorides', ylabel='density'>,\n",
              "        <Axes: xlabel='free sulfur dioxide', ylabel='density'>,\n",
              "        <Axes: xlabel='total sulfur dioxide', ylabel='density'>,\n",
              "        <Axes: xlabel='density', ylabel='density'>,\n",
              "        <Axes: xlabel='pH', ylabel='density'>,\n",
              "        <Axes: xlabel='sulphates', ylabel='density'>,\n",
              "        <Axes: xlabel='alcohol', ylabel='density'>,\n",
              "        <Axes: xlabel='Id', ylabel='density'>],\n",
              "       [<Axes: xlabel='fixed acidity', ylabel='pH'>,\n",
              "        <Axes: xlabel='volatile acidity', ylabel='pH'>,\n",
              "        <Axes: xlabel='citric acid', ylabel='pH'>,\n",
              "        <Axes: xlabel='residual sugar', ylabel='pH'>,\n",
              "        <Axes: xlabel='chlorides', ylabel='pH'>,\n",
              "        <Axes: xlabel='free sulfur dioxide', ylabel='pH'>,\n",
              "        <Axes: xlabel='total sulfur dioxide', ylabel='pH'>,\n",
              "        <Axes: xlabel='density', ylabel='pH'>,\n",
              "        <Axes: xlabel='pH', ylabel='pH'>,\n",
              "        <Axes: xlabel='sulphates', ylabel='pH'>,\n",
              "        <Axes: xlabel='alcohol', ylabel='pH'>,\n",
              "        <Axes: xlabel='Id', ylabel='pH'>],\n",
              "       [<Axes: xlabel='fixed acidity', ylabel='sulphates'>,\n",
              "        <Axes: xlabel='volatile acidity', ylabel='sulphates'>,\n",
              "        <Axes: xlabel='citric acid', ylabel='sulphates'>,\n",
              "        <Axes: xlabel='residual sugar', ylabel='sulphates'>,\n",
              "        <Axes: xlabel='chlorides', ylabel='sulphates'>,\n",
              "        <Axes: xlabel='free sulfur dioxide', ylabel='sulphates'>,\n",
              "        <Axes: xlabel='total sulfur dioxide', ylabel='sulphates'>,\n",
              "        <Axes: xlabel='density', ylabel='sulphates'>,\n",
              "        <Axes: xlabel='pH', ylabel='sulphates'>,\n",
              "        <Axes: xlabel='sulphates', ylabel='sulphates'>,\n",
              "        <Axes: xlabel='alcohol', ylabel='sulphates'>,\n",
              "        <Axes: xlabel='Id', ylabel='sulphates'>],\n",
              "       [<Axes: xlabel='fixed acidity', ylabel='alcohol'>,\n",
              "        <Axes: xlabel='volatile acidity', ylabel='alcohol'>,\n",
              "        <Axes: xlabel='citric acid', ylabel='alcohol'>,\n",
              "        <Axes: xlabel='residual sugar', ylabel='alcohol'>,\n",
              "        <Axes: xlabel='chlorides', ylabel='alcohol'>,\n",
              "        <Axes: xlabel='free sulfur dioxide', ylabel='alcohol'>,\n",
              "        <Axes: xlabel='total sulfur dioxide', ylabel='alcohol'>,\n",
              "        <Axes: xlabel='density', ylabel='alcohol'>,\n",
              "        <Axes: xlabel='pH', ylabel='alcohol'>,\n",
              "        <Axes: xlabel='sulphates', ylabel='alcohol'>,\n",
              "        <Axes: xlabel='alcohol', ylabel='alcohol'>,\n",
              "        <Axes: xlabel='Id', ylabel='alcohol'>],\n",
              "       [<Axes: xlabel='fixed acidity', ylabel='Id'>,\n",
              "        <Axes: xlabel='volatile acidity', ylabel='Id'>,\n",
              "        <Axes: xlabel='citric acid', ylabel='Id'>,\n",
              "        <Axes: xlabel='residual sugar', ylabel='Id'>,\n",
              "        <Axes: xlabel='chlorides', ylabel='Id'>,\n",
              "        <Axes: xlabel='free sulfur dioxide', ylabel='Id'>,\n",
              "        <Axes: xlabel='total sulfur dioxide', ylabel='Id'>,\n",
              "        <Axes: xlabel='density', ylabel='Id'>,\n",
              "        <Axes: xlabel='pH', ylabel='Id'>,\n",
              "        <Axes: xlabel='sulphates', ylabel='Id'>,\n",
              "        <Axes: xlabel='alcohol', ylabel='Id'>,\n",
              "        <Axes: xlabel='Id', ylabel='Id'>]], dtype=object)"
            ]
          },
          "metadata": {},
          "execution_count": 11
        },
        {
          "output_type": "display_data",
          "data": {
            "text/plain": [
              "<Figure size 504x504 with 144 Axes>"
            ],
            "image/png": "[encoded data removed]"
          },
          "metadata": {
            "needs_background": "light"
          }
        }
      ],
      "source": [
        "pd.plotting.scatter_matrix(X, figsize=(7,7))"
      ]
    },
    {
      "cell_type": "code",
      "execution_count": 12,
      "id": "486c7731",
      "metadata": {
        "id": "486c7731",
        "outputId": "b5d62654-e920-46c3-bf4f-122ee2b49980",
        "colab": {
          "base_uri": "https://localhost:8080/",
          "height": 607
        }
      },
      "outputs": [
        {
          "output_type": "display_data",
          "data": {
            "text/plain": [
              "<Figure size 720x720 with 12 Axes>"
            ],
            "image/png": "[encoded data removed]"
          },
          "metadata": {
            "needs_background": "light"
          }
        }
      ],
      "source": [
        "X.hist(figsize=(10,10));"
      ]
    },
    {
      "cell_type": "code",
      "execution_count": 13,
      "id": "b08a9a1b",
      "metadata": {
        "id": "b08a9a1b",
        "outputId": "fdbafa97-1d8b-484b-e660-bbefe6c2dd5a",
        "colab": {
          "base_uri": "https://localhost:8080/"
        }
      },
      "outputs": [
        {
          "output_type": "execute_result",
          "data": {
            "text/plain": [
              "(1143, 12)"
            ]
          },
          "metadata": {},
          "execution_count": 13
        }
      ],
      "source": [
        "X.shape"
      ]
    },
    {
      "cell_type": "code",
      "execution_count": 14,
      "id": "69e1c782",
      "metadata": {
        "id": "69e1c782",
        "outputId": "7e08db48-9861-47f4-f21a-b915b4f90a67",
        "colab": {
          "base_uri": "https://localhost:8080/",
          "height": 399
        }
      },
      "outputs": [
        {
          "output_type": "execute_result",
          "data": {
            "text/plain": [
              "       fixed acidity  volatile acidity  citric acid  residual sugar  \\\n",
              "count    1143.000000       1143.000000  1143.000000     1143.000000   \n",
              "mean        8.311111          0.531339     0.268364        2.532152   \n",
              "std         1.747595          0.179633     0.196686        1.355917   \n",
              "min         4.600000          0.120000     0.000000        0.900000   \n",
              "25%         7.100000          0.392500     0.090000        1.900000   \n",
              "50%         7.900000          0.520000     0.250000        2.200000   \n",
              "75%         9.100000          0.640000     0.420000        2.600000   \n",
              "max        15.900000          1.580000     1.000000       15.500000   \n",
              "\n",
              "         chlorides  free sulfur dioxide  total sulfur dioxide      density  \\\n",
              "count  1143.000000          1143.000000           1143.000000  1143.000000   \n",
              "mean      0.086933            15.615486             45.914698     0.996730   \n",
              "std       0.047267            10.250486             32.782130     0.001925   \n",
              "min       0.012000             1.000000              6.000000     0.990070   \n",
              "25%       0.070000             7.000000             21.000000     0.995570   \n",
              "50%       0.079000            13.000000             37.000000     0.996680   \n",
              "75%       0.090000            21.000000             61.000000     0.997845   \n",
              "max       0.611000            68.000000            289.000000     1.003690   \n",
              "\n",
              "                pH    sulphates      alcohol           Id  \n",
              "count  1143.000000  1143.000000  1143.000000  1143.000000  \n",
              "mean      3.311015     0.657708    10.442111   804.969379  \n",
              "std       0.156664     0.170399     1.082196   463.997116  \n",
              "min       2.740000     0.330000     8.400000     0.000000  \n",
              "25%       3.205000     0.550000     9.500000   411.000000  \n",
              "50%       3.310000     0.620000    10.200000   794.000000  \n",
              "75%       3.400000     0.730000    11.100000  1209.500000  \n",
              "max       4.010000     2.000000    14.900000  1597.000000  "
            ],
            "text/html": [
              "\n",
              "  <div id=\"df-80f6f2d7-2316-4e29-92a5-f8b771023b1c\">\n",
              "    <div class=\"colab-df-container\">\n",
              "      <div>\n",
              "<style scoped>\n",
              "    .dataframe tbody tr th:only-of-type {\n",
              "        vertical-align: middle;\n",
              "    }\n",
              "\n",
              "    .dataframe tbody tr th {\n",
              "        vertical-align: top;\n",
              "    }\n",
              "\n",
              "    .dataframe thead th {\n",
              "        text-align: right;\n",
              "    }\n",
              "</style>\n",
              "<table border=\"1\" class=\"dataframe\">\n",
              "  <thead>\n",
              "    <tr style=\"text-align: right;\">\n",
              "      <th></th>\n",
              "      <th>fixed acidity</th>\n",
              "      <th>volatile acidity</th>\n",
              "      <th>citric acid</th>\n",
              "      <th>residual sugar</th>\n",
              "      <th>chlorides</th>\n",
              "      <th>free sulfur dioxide</th>\n",
              "      <th>total sulfur dioxide</th>\n",
              "      <th>density</th>\n",
              "      <th>pH</th>\n",
              "      <th>sulphates</th>\n",
              "      <th>alcohol</th>\n",
              "      <th>Id</th>\n",
              "    </tr>\n",
              "  </thead>\n",
              "  <tbody>\n",
              "    <tr>\n",
              "      <th>count</th>\n",
              "      <td>1143.000000</td>\n",
              "      <td>1143.000000</td>\n",
              "      <td>1143.000000</td>\n",
              "      <td>1143.000000</td>\n",
              "      <td>1143.000000</td>\n",
              "      <td>1143.000000</td>\n",
              "      <td>1143.000000</td>\n",
              "      <td>1143.000000</td>\n",
              "      <td>1143.000000</td>\n",
              "      <td>1143.000000</td>\n",
              "      <td>1143.000000</td>\n",
              "      <td>1143.000000</td>\n",
              "    </tr>\n",
              "    <tr>\n",
              "      <th>mean</th>\n",
              "      <td>8.311111</td>\n",
              "      <td>0.531339</td>\n",
              "      <td>0.268364</td>\n",
              "      <td>2.532152</td>\n",
              "      <td>0.086933</td>\n",
              "      <td>15.615486</td>\n",
              "      <td>45.914698</td>\n",
              "      <td>0.996730</td>\n",
              "      <td>3.311015</td>\n",
              "      <td>0.657708</td>\n",
              "      <td>10.442111</td>\n",
              "      <td>804.969379</td>\n",
              "    </tr>\n",
              "    <tr>\n",
              "      <th>std</th>\n",
              "      <td>1.747595</td>\n",
              "      <td>0.179633</td>\n",
              "      <td>0.196686</td>\n",
              "      <td>1.355917</td>\n",
              "      <td>0.047267</td>\n",
              "      <td>10.250486</td>\n",
              "      <td>32.782130</td>\n",
              "      <td>0.001925</td>\n",
              "      <td>0.156664</td>\n",
              "      <td>0.170399</td>\n",
              "      <td>1.082196</td>\n",
              "      <td>463.997116</td>\n",
              "    </tr>\n",
              "    <tr>\n",
              "      <th>min</th>\n",
              "      <td>4.600000</td>\n",
              "      <td>0.120000</td>\n",
              "      <td>0.000000</td>\n",
              "      <td>0.900000</td>\n",
              "      <td>0.012000</td>\n",
              "      <td>1.000000</td>\n",
              "      <td>6.000000</td>\n",
              "      <td>0.990070</td>\n",
              "      <td>2.740000</td>\n",
              "      <td>0.330000</td>\n",
              "      <td>8.400000</td>\n",
              "      <td>0.000000</td>\n",
              "    </tr>\n",
              "    <tr>\n",
              "      <th>25%</th>\n",
              "      <td>7.100000</td>\n",
              "      <td>0.392500</td>\n",
              "      <td>0.090000</td>\n",
              "      <td>1.900000</td>\n",
              "      <td>0.070000</td>\n",
              "      <td>7.000000</td>\n",
              "      <td>21.000000</td>\n",
              "      <td>0.995570</td>\n",
              "      <td>3.205000</td>\n",
              "      <td>0.550000</td>\n",
              "      <td>9.500000</td>\n",
              "      <td>411.000000</td>\n",
              "    </tr>\n",
              "    <tr>\n",
              "      <th>50%</th>\n",
              "      <td>7.900000</td>\n",
              "      <td>0.520000</td>\n",
              "      <td>0.250000</td>\n",
              "      <td>2.200000</td>\n",
              "      <td>0.079000</td>\n",
              "      <td>13.000000</td>\n",
              "      <td>37.000000</td>\n",
              "      <td>0.996680</td>\n",
              "      <td>3.310000</td>\n",
              "      <td>0.620000</td>\n",
              "      <td>10.200000</td>\n",
              "      <td>794.000000</td>\n",
              "    </tr>\n",
              "    <tr>\n",
              "      <th>75%</th>\n",
              "      <td>9.100000</td>\n",
              "      <td>0.640000</td>\n",
              "      <td>0.420000</td>\n",
              "      <td>2.600000</td>\n",
              "      <td>0.090000</td>\n",
              "      <td>21.000000</td>\n",
              "      <td>61.000000</td>\n",
              "      <td>0.997845</td>\n",
              "      <td>3.400000</td>\n",
              "      <td>0.730000</td>\n",
              "      <td>11.100000</td>\n",
              "      <td>1209.500000</td>\n",
              "    </tr>\n",
              "    <tr>\n",
              "      <th>max</th>\n",
              "      <td>15.900000</td>\n",
              "      <td>1.580000</td>\n",
              "      <td>1.000000</td>\n",
              "      <td>15.500000</td>\n",
              "      <td>0.611000</td>\n",
              "      <td>68.000000</td>\n",
              "      <td>289.000000</td>\n",
              "      <td>1.003690</td>\n",
              "      <td>4.010000</td>\n",
              "      <td>2.000000</td>\n",
              "      <td>14.900000</td>\n",
              "      <td>1597.000000</td>\n",
              "    </tr>\n",
              "  </tbody>\n",
              "</table>\n",
              "</div>\n",
              "      <button class=\"colab-df-convert\" onclick=\"convertToInteractive('df-80f6f2d7-2316-4e29-92a5-f8b771023b1c')\"\n",
              "              title=\"Convert this dataframe to an interactive table.\"\n",
              "              style=\"display:none;\">\n",
              "        \n",
              "  <svg xmlns=\"http://www.w3.org/2000/svg\" height=\"24px\"viewBox=\"0 0 24 24\"\n",
              "       width=\"24px\">\n",
              "    <path d=\"M0 0h24v24H0V0z\" fill=\"none\"/>\n",
              "    <path d=\"M18.56 5.44l.94 2.06.94-2.06 2.06-.94-2.06-.94-.94-2.06-.94 2.06-2.06.94zm-11 1L8.5 8.5l.94-2.06 2.06-.94-2.06-.94L8.5 2.5l-.94 2.06-2.06.94zm10 10l.94 2.06.94-2.06 2.06-.94-2.06-.94-.94-2.06-.94 2.06-2.06.94z\"/><path d=\"M17.41 7.96l-1.37-1.37c-.4-.4-.92-.59-1.43-.59-.52 0-1.04.2-1.43.59L10.3 9.45l-7.72 7.72c-.78.78-.78 2.05 0 2.83L4 21.41c.39.39.9.59 1.41.59.51 0 1.02-.2 1.41-.59l7.78-7.78 2.81-2.81c.8-.78.8-2.07 0-2.86zM5.41 20L4 18.59l7.72-7.72 1.47 1.35L5.41 20z\"/>\n",
              "  </svg>\n",
              "      </button>\n",
              "      \n",
              "  <style>\n",
              "    .colab-df-container {\n",
              "      display:flex;\n",
              "      flex-wrap:wrap;\n",
              "      gap: 12px;\n",
              "    }\n",
              "\n",
              "    .colab-df-convert {\n",
              "      background-color: #E8F0FE;\n",
              "      border: none;\n",
              "      border-radius: 50%;\n",
              "      cursor: pointer;\n",
              "      display: none;\n",
              "      fill: #1967D2;\n",
              "      height: 32px;\n",
              "      padding: 0 0 0 0;\n",
              "      width: 32px;\n",
              "    }\n",
              "\n",
              "    .colab-df-convert:hover {\n",
              "      background-color: #E2EBFA;\n",
              "      box-shadow: 0px 1px 2px rgba(60, 64, 67, 0.3), 0px 1px 3px 1px rgba(60, 64, 67, 0.15);\n",
              "      fill: #174EA6;\n",
              "    }\n",
              "\n",
              "    [theme=dark] .colab-df-convert {\n",
              "      background-color: #3B4455;\n",
              "      fill: #D2E3FC;\n",
              "    }\n",
              "\n",
              "    [theme=dark] .colab-df-convert:hover {\n",
              "      background-color: #434B5C;\n",
              "      box-shadow: 0px 1px 3px 1px rgba(0, 0, 0, 0.15);\n",
              "      filter: drop-shadow(0px 1px 2px rgba(0, 0, 0, 0.3));\n",
              "      fill: #FFFFFF;\n",
              "    }\n",
              "  </style>\n",
              "\n",
              "      <script>\n",
              "        const buttonEl =\n",
              "          document.querySelector('#df-80f6f2d7-2316-4e29-92a5-f8b771023b1c button.colab-df-convert');\n",
              "        buttonEl.style.display =\n",
              "          google.colab.kernel.accessAllowed ? 'block' : 'none';\n",
              "\n",
              "        async function convertToInteractive(key) {\n",
              "          const element = document.querySelector('#df-80f6f2d7-2316-4e29-92a5-f8b771023b1c');\n",
              "          const dataTable =\n",
              "            await google.colab.kernel.invokeFunction('convertToInteractive',\n",
              "                                                     [key], {});\n",
              "          if (!dataTable) return;\n",
              "\n",
              "          const docLinkHtml = 'Like what you see? Visit the ' +\n",
              "            '<a target=\"_blank\" href=https://colab.research.google.com/notebooks/data_table.ipynb>data table notebook</a>'\n",
              "            + ' to learn more about interactive tables.';\n",
              "          element.innerHTML = '';\n",
              "          dataTable['output_type'] = 'display_data';\n",
              "          await google.colab.output.renderOutput(dataTable, element);\n",
              "          const docLink = document.createElement('div');\n",
              "          docLink.innerHTML = docLinkHtml;\n",
              "          element.appendChild(docLink);\n",
              "        }\n",
              "      </script>\n",
              "    </div>\n",
              "  </div>\n",
              "  "
            ]
          },
          "metadata": {},
          "execution_count": 14
        }
      ],
      "source": [
        "X.describe()"
      ]
    },
    {
      "cell_type": "code",
      "execution_count": 15,
      "id": "9fa2cfc3",
      "metadata": {
        "id": "9fa2cfc3"
      },
      "outputs": [],
      "source": [
        "#remise à l'échelle\n",
        "#Rescaling\n",
        "from sklearn.preprocessing import StandardScaler\n",
        "ss= StandardScaler()"
      ]
    },
    {
      "cell_type": "code",
      "execution_count": 16,
      "id": "6060bb6f",
      "metadata": {
        "id": "6060bb6f"
      },
      "outputs": [],
      "source": [
        "StandardScaler"
      ]
    },
    {
      "cell_type": "code",
      "execution_count": 17,
      "id": "cf7d6eb0",
      "metadata": {
        "id": "cf7d6eb0"
      },
      "outputs": [],
      "source": [
        "Xss=ss.fit_transform(X)"
      ]
    },
    {
      "cell_type": "code",
      "execution_count": 18,
      "id": "f5f9b2c9",
      "metadata": {
        "id": "f5f9b2c9",
        "outputId": "40b51425-d731-410a-dcf2-ce137f808ae3",
        "colab": {
          "base_uri": "https://localhost:8080/",
          "height": 607
        }
      },
      "outputs": [
        {
          "output_type": "display_data",
          "data": {
            "text/plain": [
              "<Figure size 720x720 with 12 Axes>"
            ],
            "image/png": "[encoded data removed]"
          },
          "metadata": {
            "needs_background": "light"
          }
        }
      ],
      "source": [
        "pd.DataFrame(Xss).hist(figsize=(10,10));"
      ]
    },
    {
      "cell_type": "markdown",
      "id": "bf67e19d",
      "metadata": {
        "id": "bf67e19d"
      },
      "source": [
        "# Construction de la matrice de covariance"
      ]
    },
    {
      "cell_type": "markdown",
      "id": "cebfbf7d",
      "metadata": {
        "id": "cebfbf7d"
      },
      "source": [
        "- Variance: $V(X)=\\sigma^2=E(X^2)-E(X)^2$\n",
        "    \n",
        "- Covariance: $cov(X_1,X_2)=E(X_1 * X_2) - E(X_1) * E(X_2)$"
      ]
    },
    {
      "cell_type": "code",
      "execution_count": 19,
      "id": "20546ce5",
      "metadata": {
        "id": "20546ce5"
      },
      "outputs": [],
      "source": [
        "matrice_covariance=np.cov(Xss.T)"
      ]
    },
    {
      "cell_type": "code",
      "execution_count": 20,
      "id": "4562c818",
      "metadata": {
        "id": "4562c818",
        "outputId": "624410f8-e0b0-462d-bfa2-3165e750fe8d",
        "colab": {
          "base_uri": "https://localhost:8080/",
          "height": 663
        }
      },
      "outputs": [
        {
          "output_type": "execute_result",
          "data": {
            "text/plain": [
              "                      fixed acidity  volatile acidity  citric acid  \\\n",
              "fixed acidity              3.054088         -0.078710     0.231382   \n",
              "volatile acidity          -0.078710          0.032268    -0.019227   \n",
              "citric acid                0.231382         -0.019227     0.038685   \n",
              "residual sugar             0.407169         -0.001401     0.046888   \n",
              "chlorides                  0.008912          0.000478     0.002281   \n",
              "free sulfur dioxide       -2.952729         -0.003614    -0.116107   \n",
              "total sulfur dioxide      -6.337887          0.457838     0.237737   \n",
              "density                    0.002293          0.000006     0.000142   \n",
              "pH                        -0.187587          0.006233    -0.016835   \n",
              "sulphates                  0.051991         -0.008451     0.011101   \n",
              "alcohol                   -0.141947         -0.039640     0.022616   \n",
              "Id                      -223.661744         -0.657757   -12.686355   \n",
              "\n",
              "                      residual sugar  chlorides  free sulfur dioxide  \\\n",
              "fixed acidity               0.407169   0.008912            -2.952729   \n",
              "volatile acidity           -0.001401   0.000478            -0.003614   \n",
              "citric acid                 0.046888   0.002281            -0.116107   \n",
              "residual sugar              1.838512   0.004542             2.298013   \n",
              "chlorides                   0.004542   0.002234             0.007404   \n",
              "free sulfur dioxide         2.298013   0.007404           105.072466   \n",
              "total sulfur dioxide        8.480591   0.074630           222.148870   \n",
              "density                     0.000992   0.000019            -0.001069   \n",
              "pH                         -0.024845  -0.002057             0.116914   \n",
              "sulphates                   0.004037   0.003019             0.060164   \n",
              "alcohol                     0.085725  -0.011761            -0.522424   \n",
              "Id                        -29.157202  -1.932181           453.111245   \n",
              "\n",
              "                      total sulfur dioxide   density        pH  sulphates  \\\n",
              "fixed acidity                    -6.337887  0.002293 -0.187587   0.051991   \n",
              "volatile acidity                  0.457838  0.000006  0.006233  -0.008451   \n",
              "citric acid                       0.237737  0.000142 -0.016835   0.011101   \n",
              "residual sugar                    8.480591  0.000992 -0.024845   0.004037   \n",
              "chlorides                         0.074630  0.000019 -0.002057   0.003019   \n",
              "free sulfur dioxide             222.148870 -0.001069  0.116914   0.060164   \n",
              "total sulfur dioxide           1074.668067  0.003166 -0.303657   0.150229   \n",
              "density                           0.003166  0.000004 -0.000106   0.000047   \n",
              "pH                               -0.303657 -0.000106  0.024544  -0.004952   \n",
              "sulphates                         0.150229  0.000047 -0.004952   0.029036   \n",
              "alcohol                          -6.675462 -0.001031  0.038201   0.017412   \n",
              "Id                            -1633.480285 -0.325068  9.661029  -8.219046   \n",
              "\n",
              "                         alcohol             Id  \n",
              "fixed acidity          -0.141947    -223.661744  \n",
              "volatile acidity       -0.039640      -0.657757  \n",
              "citric acid             0.022616     -12.686355  \n",
              "residual sugar          0.085725     -29.157202  \n",
              "chlorides              -0.011761      -1.932181  \n",
              "free sulfur dioxide    -0.522424     453.111245  \n",
              "total sulfur dioxide   -6.675462   -1633.480285  \n",
              "density                -0.001031      -0.325068  \n",
              "pH                      0.038201       9.661029  \n",
              "sulphates               0.017412      -8.219046  \n",
              "alcohol                 1.171147     119.551728  \n",
              "Id                    119.551728  215293.323930  "
            ],
            "text/html": [
              "\n",
              "  <div id=\"df-96ae9efd-03ea-4b37-a626-fcb2df26ebc7\">\n",
              "    <div class=\"colab-df-container\">\n",
              "      <div>\n",
              "<style scoped>\n",
              "    .dataframe tbody tr th:only-of-type {\n",
              "        vertical-align: middle;\n",
              "    }\n",
              "\n",
              "    .dataframe tbody tr th {\n",
              "        vertical-align: top;\n",
              "    }\n",
              "\n",
              "    .dataframe thead th {\n",
              "        text-align: right;\n",
              "    }\n",
              "</style>\n",
              "<table border=\"1\" class=\"dataframe\">\n",
              "  <thead>\n",
              "    <tr style=\"text-align: right;\">\n",
              "      <th></th>\n",
              "      <th>fixed acidity</th>\n",
              "      <th>volatile acidity</th>\n",
              "      <th>citric acid</th>\n",
              "      <th>residual sugar</th>\n",
              "      <th>chlorides</th>\n",
              "      <th>free sulfur dioxide</th>\n",
              "      <th>total sulfur dioxide</th>\n",
              "      <th>density</th>\n",
              "      <th>pH</th>\n",
              "      <th>sulphates</th>\n",
              "      <th>alcohol</th>\n",
              "      <th>Id</th>\n",
              "    </tr>\n",
              "  </thead>\n",
              "  <tbody>\n",
              "    <tr>\n",
              "      <th>fixed acidity</th>\n",
              "      <td>3.054088</td>\n",
              "      <td>-0.078710</td>\n",
              "      <td>0.231382</td>\n",
              "      <td>0.407169</td>\n",
              "      <td>0.008912</td>\n",
              "      <td>-2.952729</td>\n",
              "      <td>-6.337887</td>\n",
              "      <td>0.002293</td>\n",
              "      <td>-0.187587</td>\n",
              "      <td>0.051991</td>\n",
              "      <td>-0.141947</td>\n",
              "      <td>-223.661744</td>\n",
              "    </tr>\n",
              "    <tr>\n",
              "      <th>volatile acidity</th>\n",
              "      <td>-0.078710</td>\n",
              "      <td>0.032268</td>\n",
              "      <td>-0.019227</td>\n",
              "      <td>-0.001401</td>\n",
              "      <td>0.000478</td>\n",
              "      <td>-0.003614</td>\n",
              "      <td>0.457838</td>\n",
              "      <td>0.000006</td>\n",
              "      <td>0.006233</td>\n",
              "      <td>-0.008451</td>\n",
              "      <td>-0.039640</td>\n",
              "      <td>-0.657757</td>\n",
              "    </tr>\n",
              "    <tr>\n",
              "      <th>citric acid</th>\n",
              "      <td>0.231382</td>\n",
              "      <td>-0.019227</td>\n",
              "      <td>0.038685</td>\n",
              "      <td>0.046888</td>\n",
              "      <td>0.002281</td>\n",
              "      <td>-0.116107</td>\n",
              "      <td>0.237737</td>\n",
              "      <td>0.000142</td>\n",
              "      <td>-0.016835</td>\n",
              "      <td>0.011101</td>\n",
              "      <td>0.022616</td>\n",
              "      <td>-12.686355</td>\n",
              "    </tr>\n",
              "    <tr>\n",
              "      <th>residual sugar</th>\n",
              "      <td>0.407169</td>\n",
              "      <td>-0.001401</td>\n",
              "      <td>0.046888</td>\n",
              "      <td>1.838512</td>\n",
              "      <td>0.004542</td>\n",
              "      <td>2.298013</td>\n",
              "      <td>8.480591</td>\n",
              "      <td>0.000992</td>\n",
              "      <td>-0.024845</td>\n",
              "      <td>0.004037</td>\n",
              "      <td>0.085725</td>\n",
              "      <td>-29.157202</td>\n",
              "    </tr>\n",
              "    <tr>\n",
              "      <th>chlorides</th>\n",
              "      <td>0.008912</td>\n",
              "      <td>0.000478</td>\n",
              "      <td>0.002281</td>\n",
              "      <td>0.004542</td>\n",
              "      <td>0.002234</td>\n",
              "      <td>0.007404</td>\n",
              "      <td>0.074630</td>\n",
              "      <td>0.000019</td>\n",
              "      <td>-0.002057</td>\n",
              "      <td>0.003019</td>\n",
              "      <td>-0.011761</td>\n",
              "      <td>-1.932181</td>\n",
              "    </tr>\n",
              "    <tr>\n",
              "      <th>free sulfur dioxide</th>\n",
              "      <td>-2.952729</td>\n",
              "      <td>-0.003614</td>\n",
              "      <td>-0.116107</td>\n",
              "      <td>2.298013</td>\n",
              "      <td>0.007404</td>\n",
              "      <td>105.072466</td>\n",
              "      <td>222.148870</td>\n",
              "      <td>-0.001069</td>\n",
              "      <td>0.116914</td>\n",
              "      <td>0.060164</td>\n",
              "      <td>-0.522424</td>\n",
              "      <td>453.111245</td>\n",
              "    </tr>\n",
              "    <tr>\n",
              "      <th>total sulfur dioxide</th>\n",
              "      <td>-6.337887</td>\n",
              "      <td>0.457838</td>\n",
              "      <td>0.237737</td>\n",
              "      <td>8.480591</td>\n",
              "      <td>0.074630</td>\n",
              "      <td>222.148870</td>\n",
              "      <td>1074.668067</td>\n",
              "      <td>0.003166</td>\n",
              "      <td>-0.303657</td>\n",
              "      <td>0.150229</td>\n",
              "      <td>-6.675462</td>\n",
              "      <td>-1633.480285</td>\n",
              "    </tr>\n",
              "    <tr>\n",
              "      <th>density</th>\n",
              "      <td>0.002293</td>\n",
              "      <td>0.000006</td>\n",
              "      <td>0.000142</td>\n",
              "      <td>0.000992</td>\n",
              "      <td>0.000019</td>\n",
              "      <td>-0.001069</td>\n",
              "      <td>0.003166</td>\n",
              "      <td>0.000004</td>\n",
              "      <td>-0.000106</td>\n",
              "      <td>0.000047</td>\n",
              "      <td>-0.001031</td>\n",
              "      <td>-0.325068</td>\n",
              "    </tr>\n",
              "    <tr>\n",
              "      <th>pH</th>\n",
              "      <td>-0.187587</td>\n",
              "      <td>0.006233</td>\n",
              "      <td>-0.016835</td>\n",
              "      <td>-0.024845</td>\n",
              "      <td>-0.002057</td>\n",
              "      <td>0.116914</td>\n",
              "      <td>-0.303657</td>\n",
              "      <td>-0.000106</td>\n",
              "      <td>0.024544</td>\n",
              "      <td>-0.004952</td>\n",
              "      <td>0.038201</td>\n",
              "      <td>9.661029</td>\n",
              "    </tr>\n",
              "    <tr>\n",
              "      <th>sulphates</th>\n",
              "      <td>0.051991</td>\n",
              "      <td>-0.008451</td>\n",
              "      <td>0.011101</td>\n",
              "      <td>0.004037</td>\n",
              "      <td>0.003019</td>\n",
              "      <td>0.060164</td>\n",
              "      <td>0.150229</td>\n",
              "      <td>0.000047</td>\n",
              "      <td>-0.004952</td>\n",
              "      <td>0.029036</td>\n",
              "      <td>0.017412</td>\n",
              "      <td>-8.219046</td>\n",
              "    </tr>\n",
              "    <tr>\n",
              "      <th>alcohol</th>\n",
              "      <td>-0.141947</td>\n",
              "      <td>-0.039640</td>\n",
              "      <td>0.022616</td>\n",
              "      <td>0.085725</td>\n",
              "      <td>-0.011761</td>\n",
              "      <td>-0.522424</td>\n",
              "      <td>-6.675462</td>\n",
              "      <td>-0.001031</td>\n",
              "      <td>0.038201</td>\n",
              "      <td>0.017412</td>\n",
              "      <td>1.171147</td>\n",
              "      <td>119.551728</td>\n",
              "    </tr>\n",
              "    <tr>\n",
              "      <th>Id</th>\n",
              "      <td>-223.661744</td>\n",
              "      <td>-0.657757</td>\n",
              "      <td>-12.686355</td>\n",
              "      <td>-29.157202</td>\n",
              "      <td>-1.932181</td>\n",
              "      <td>453.111245</td>\n",
              "      <td>-1633.480285</td>\n",
              "      <td>-0.325068</td>\n",
              "      <td>9.661029</td>\n",
              "      <td>-8.219046</td>\n",
              "      <td>119.551728</td>\n",
              "      <td>215293.323930</td>\n",
              "    </tr>\n",
              "  </tbody>\n",
              "</table>\n",
              "</div>\n",
              "      <button class=\"colab-df-convert\" onclick=\"convertToInteractive('df-96ae9efd-03ea-4b37-a626-fcb2df26ebc7')\"\n",
              "              title=\"Convert this dataframe to an interactive table.\"\n",
              "              style=\"display:none;\">\n",
              "        \n",
              "  <svg xmlns=\"http://www.w3.org/2000/svg\" height=\"24px\"viewBox=\"0 0 24 24\"\n",
              "       width=\"24px\">\n",
              "    <path d=\"M0 0h24v24H0V0z\" fill=\"none\"/>\n",
              "    <path d=\"M18.56 5.44l.94 2.06.94-2.06 2.06-.94-2.06-.94-.94-2.06-.94 2.06-2.06.94zm-11 1L8.5 8.5l.94-2.06 2.06-.94-2.06-.94L8.5 2.5l-.94 2.06-2.06.94zm10 10l.94 2.06.94-2.06 2.06-.94-2.06-.94-.94-2.06-.94 2.06-2.06.94z\"/><path d=\"M17.41 7.96l-1.37-1.37c-.4-.4-.92-.59-1.43-.59-.52 0-1.04.2-1.43.59L10.3 9.45l-7.72 7.72c-.78.78-.78 2.05 0 2.83L4 21.41c.39.39.9.59 1.41.59.51 0 1.02-.2 1.41-.59l7.78-7.78 2.81-2.81c.8-.78.8-2.07 0-2.86zM5.41 20L4 18.59l7.72-7.72 1.47 1.35L5.41 20z\"/>\n",
              "  </svg>\n",
              "      </button>\n",
              "      \n",
              "  <style>\n",
              "    .colab-df-container {\n",
              "      display:flex;\n",
              "      flex-wrap:wrap;\n",
              "      gap: 12px;\n",
              "    }\n",
              "\n",
              "    .colab-df-convert {\n",
              "      background-color: #E8F0FE;\n",
              "      border: none;\n",
              "      border-radius: 50%;\n",
              "      cursor: pointer;\n",
              "      display: none;\n",
              "      fill: #1967D2;\n",
              "      height: 32px;\n",
              "      padding: 0 0 0 0;\n",
              "      width: 32px;\n",
              "    }\n",
              "\n",
              "    .colab-df-convert:hover {\n",
              "      background-color: #E2EBFA;\n",
              "      box-shadow: 0px 1px 2px rgba(60, 64, 67, 0.3), 0px 1px 3px 1px rgba(60, 64, 67, 0.15);\n",
              "      fill: #174EA6;\n",
              "    }\n",
              "\n",
              "    [theme=dark] .colab-df-convert {\n",
              "      background-color: #3B4455;\n",
              "      fill: #D2E3FC;\n",
              "    }\n",
              "\n",
              "    [theme=dark] .colab-df-convert:hover {\n",
              "      background-color: #434B5C;\n",
              "      box-shadow: 0px 1px 3px 1px rgba(0, 0, 0, 0.15);\n",
              "      filter: drop-shadow(0px 1px 2px rgba(0, 0, 0, 0.3));\n",
              "      fill: #FFFFFF;\n",
              "    }\n",
              "  </style>\n",
              "\n",
              "      <script>\n",
              "        const buttonEl =\n",
              "          document.querySelector('#df-96ae9efd-03ea-4b37-a626-fcb2df26ebc7 button.colab-df-convert');\n",
              "        buttonEl.style.display =\n",
              "          google.colab.kernel.accessAllowed ? 'block' : 'none';\n",
              "\n",
              "        async function convertToInteractive(key) {\n",
              "          const element = document.querySelector('#df-96ae9efd-03ea-4b37-a626-fcb2df26ebc7');\n",
              "          const dataTable =\n",
              "            await google.colab.kernel.invokeFunction('convertToInteractive',\n",
              "                                                     [key], {});\n",
              "          if (!dataTable) return;\n",
              "\n",
              "          const docLinkHtml = 'Like what you see? Visit the ' +\n",
              "            '<a target=\"_blank\" href=https://colab.research.google.com/notebooks/data_table.ipynb>data table notebook</a>'\n",
              "            + ' to learn more about interactive tables.';\n",
              "          element.innerHTML = '';\n",
              "          dataTable['output_type'] = 'display_data';\n",
              "          await google.colab.output.renderOutput(dataTable, element);\n",
              "          const docLink = document.createElement('div');\n",
              "          docLink.innerHTML = docLinkHtml;\n",
              "          element.appendChild(docLink);\n",
              "        }\n",
              "      </script>\n",
              "    </div>\n",
              "  </div>\n",
              "  "
            ]
          },
          "metadata": {},
          "execution_count": 20
        }
      ],
      "source": [
        "X.cov()"
      ]
    },
    {
      "cell_type": "markdown",
      "id": "a7695267",
      "metadata": {
        "id": "a7695267"
      },
      "source": [
        "# chercher les valeurs propres et vecteurs propres"
      ]
    },
    {
      "cell_type": "code",
      "execution_count": 21,
      "id": "1a4f323e",
      "metadata": {
        "id": "1a4f323e",
        "outputId": "651c2f3b-8b51-4214-ac61-745e10a52b60",
        "colab": {
          "base_uri": "https://localhost:8080/"
        }
      },
      "outputs": [
        {
          "output_type": "execute_result",
          "data": {
            "text/plain": [
              "array([3.26618659, 1.90631852, 1.63167241, 1.21260082, 0.05811327,\n",
              "       0.96641679, 0.89467513, 0.17243056, 0.32448462, 0.6231006 ,\n",
              "       0.5365329 , 0.41797568])"
            ]
          },
          "metadata": {},
          "execution_count": 21
        }
      ],
      "source": [
        "from numpy.linalg import eig\n",
        "(val_propres, vect_propres)=eig(matrice_covariance)\n",
        "val_propres"
      ]
    },
    {
      "cell_type": "code",
      "execution_count": 22,
      "id": "bf824e02",
      "metadata": {
        "id": "bf824e02",
        "outputId": "fadc5152-df84-4cb4-bbb1-6863533cd74c",
        "colab": {
          "base_uri": "https://localhost:8080/"
        }
      },
      "outputs": [
        {
          "output_type": "execute_result",
          "data": {
            "text/plain": [
              "(12, 12)"
            ]
          },
          "metadata": {},
          "execution_count": 22
        }
      ],
      "source": [
        "# les dimensions du dataframe\n",
        "vect_propres.shape"
      ]
    },
    {
      "cell_type": "code",
      "source": [
        "# afficher les vecteurs propres \n",
        "vect_propres"
      ],
      "metadata": {
        "id": "mrI7hZ9nZrQd",
        "outputId": "97d0ca33-3471-42c2-c0a5-f92a23399215",
        "colab": {
          "base_uri": "https://localhost:8080/"
        }
      },
      "id": "mrI7hZ9nZrQd",
      "execution_count": 28,
      "outputs": [
        {
          "output_type": "execute_result",
          "data": {
            "text/plain": [
              "array([[ 0.47659328, -0.11489344, -0.09958673, -0.23721642, -0.63350507,\n",
              "         0.06711328, -0.09838668,  0.28155475,  0.15274637,  0.18187792,\n",
              "        -0.3148794 , -0.20766139],\n",
              "       [-0.20429501,  0.34210164, -0.38896697,  0.07425181, -0.00884503,\n",
              "        -0.30637885, -0.10825985, -0.34134058, -0.14597871,  0.52684554,\n",
              "        -0.39457373, -0.08761918],\n",
              "       [ 0.43797788, -0.20055126,  0.24978163, -0.06324708,  0.05719266,\n",
              "         0.07051805, -0.04717323, -0.61720743, -0.39764198,  0.06689378,\n",
              "         0.14727363, -0.35477592],\n",
              "       [ 0.16898889,  0.21729693,  0.15576133, -0.40879035, -0.18072072,\n",
              "        -0.69915846,  0.10786537, -0.11078653,  0.04040857, -0.09802129,\n",
              "         0.26558718,  0.32509224],\n",
              "       [ 0.21980841,  0.13325149,  0.00598584,  0.65040884, -0.04756574,\n",
              "        -0.33130071, -0.16493131,  0.23962707,  0.11812109,  0.14035234,\n",
              "         0.42760397, -0.31259905],\n",
              "       [-0.05027106,  0.45596138,  0.49413673, -0.04991502,  0.04502041,\n",
              "         0.13920727, -0.06830372, -0.23810241,  0.60273337, -0.034235  ,\n",
              "        -0.17099648, -0.25777201],\n",
              "       [ 0.0255914 ,  0.53666253,  0.38306558, -0.0452697 , -0.0558157 ,\n",
              "         0.23057566,  0.02473556,  0.36641858, -0.57101756,  0.19435658,\n",
              "         0.0161421 ,  0.08543285],\n",
              "       [ 0.4096531 ,  0.23153634, -0.26822638, -0.16624857,  0.56902738,\n",
              "        -0.15422201,  0.07590003,  0.24554934, -0.05105598, -0.33457929,\n",
              "        -0.27044202, -0.27869427],\n",
              "       [-0.41703256,  0.02585317,  0.00219263, -0.00431763, -0.34501799,\n",
              "        -0.17264856,  0.43562386,  0.01852111, -0.20487133, -0.35879303,\n",
              "        -0.03716072, -0.56066949],\n",
              "       [ 0.22714599, -0.10084693,  0.2812062 ,  0.52960393, -0.07278283,\n",
              "        -0.16454779,  0.33215523, -0.09458543, -0.06379264, -0.16331913,\n",
              "        -0.53177936,  0.33689554],\n",
              "       [-0.14010307, -0.42055662,  0.38704959, -0.17696595,  0.32646885,\n",
              "        -0.27473006,  0.21115335,  0.29128587,  0.06495082,  0.50519544,\n",
              "        -0.11721784, -0.19418074],\n",
              "       [-0.21514345, -0.16537339,  0.24567058, -0.00884781, -0.02342139,\n",
              "        -0.26340838, -0.76277011,  0.09048218, -0.19859134, -0.3066833 ,\n",
              "        -0.26370786, -0.05440426]])"
            ]
          },
          "metadata": {},
          "execution_count": 28
        }
      ]
    },
    {
      "cell_type": "code",
      "execution_count": 23,
      "id": "859974de",
      "metadata": {
        "id": "859974de",
        "outputId": "306ece0b-2997-4802-cbf6-87221960fec6",
        "colab": {
          "base_uri": "https://localhost:8080/"
        }
      },
      "outputs": [
        {
          "output_type": "execute_result",
          "data": {
            "text/plain": [
              "12.010507880910692"
            ]
          },
          "metadata": {},
          "execution_count": 23
        }
      ],
      "source": [
        "somme= val_propres.sum()\n",
        "somme"
      ]
    },
    {
      "cell_type": "code",
      "execution_count": 24,
      "id": "e182db55",
      "metadata": {
        "id": "e182db55"
      },
      "outputs": [],
      "source": [
        "vp_triees=(sorted(val_propres, reverse= True)/somme)\n",
        "somme_cumulative=np.cumsum(vp_triees)"
      ]
    },
    {
      "cell_type": "code",
      "execution_count": 25,
      "id": "e33f3146",
      "metadata": {
        "id": "e33f3146",
        "outputId": "671c2746-414e-4912-87ef-da6bc6561c96",
        "colab": {
          "base_uri": "https://localhost:8080/",
          "height": 265
        }
      },
      "outputs": [
        {
          "output_type": "display_data",
          "data": {
            "text/plain": [
              "<Figure size 432x288 with 1 Axes>"
            ],
            "image/png": "[encoded data removed]"
          },
          "metadata": {
            "needs_background": "light"
          }
        }
      ],
      "source": [
        "plt.bar(range(1,13),vp_triees)\n",
        "plt.step(range(1,13),somme_cumulative)\n",
        "plt.xticks(range(1,13))\n",
        "plt.yticks(np.array(range(0,11))/10)\n",
        "plt.grid()"
      ]
    },
    {
      "cell_type": "code",
      "execution_count": 29,
      "id": "8eaffcd2",
      "metadata": {
        "id": "8eaffcd2",
        "outputId": "ae84aa93-7109-4dc2-dd0e-c2fc882eb3d3",
        "colab": {
          "base_uri": "https://localhost:8080/"
        }
      },
      "outputs": [
        {
          "output_type": "execute_result",
          "data": {
            "text/plain": [
              "array([0.27194409, 0.15872089, 0.13585374, 0.10096166, 0.08046427,\n",
              "       0.07449103, 0.05187962, 0.04467196, 0.03480083, 0.02701673,\n",
              "       0.01435664, 0.00483854])"
            ]
          },
          "metadata": {},
          "execution_count": 29
        }
      ],
      "source": [
        "# valeur propre\n",
        "vp_triees"
      ]
    },
    {
      "cell_type": "code",
      "source": [
        "# vecteur propre\n",
        "vect_propres"
      ],
      "metadata": {
        "id": "FkwqCwd4jWGm",
        "outputId": "84da1162-c495-41bb-d19b-8fed3d002a0a",
        "colab": {
          "base_uri": "https://localhost:8080/"
        }
      },
      "id": "FkwqCwd4jWGm",
      "execution_count": 30,
      "outputs": [
        {
          "output_type": "execute_result",
          "data": {
            "text/plain": [
              "array([[ 0.47659328, -0.11489344, -0.09958673, -0.23721642, -0.63350507,\n",
              "         0.06711328, -0.09838668,  0.28155475,  0.15274637,  0.18187792,\n",
              "        -0.3148794 , -0.20766139],\n",
              "       [-0.20429501,  0.34210164, -0.38896697,  0.07425181, -0.00884503,\n",
              "        -0.30637885, -0.10825985, -0.34134058, -0.14597871,  0.52684554,\n",
              "        -0.39457373, -0.08761918],\n",
              "       [ 0.43797788, -0.20055126,  0.24978163, -0.06324708,  0.05719266,\n",
              "         0.07051805, -0.04717323, -0.61720743, -0.39764198,  0.06689378,\n",
              "         0.14727363, -0.35477592],\n",
              "       [ 0.16898889,  0.21729693,  0.15576133, -0.40879035, -0.18072072,\n",
              "        -0.69915846,  0.10786537, -0.11078653,  0.04040857, -0.09802129,\n",
              "         0.26558718,  0.32509224],\n",
              "       [ 0.21980841,  0.13325149,  0.00598584,  0.65040884, -0.04756574,\n",
              "        -0.33130071, -0.16493131,  0.23962707,  0.11812109,  0.14035234,\n",
              "         0.42760397, -0.31259905],\n",
              "       [-0.05027106,  0.45596138,  0.49413673, -0.04991502,  0.04502041,\n",
              "         0.13920727, -0.06830372, -0.23810241,  0.60273337, -0.034235  ,\n",
              "        -0.17099648, -0.25777201],\n",
              "       [ 0.0255914 ,  0.53666253,  0.38306558, -0.0452697 , -0.0558157 ,\n",
              "         0.23057566,  0.02473556,  0.36641858, -0.57101756,  0.19435658,\n",
              "         0.0161421 ,  0.08543285],\n",
              "       [ 0.4096531 ,  0.23153634, -0.26822638, -0.16624857,  0.56902738,\n",
              "        -0.15422201,  0.07590003,  0.24554934, -0.05105598, -0.33457929,\n",
              "        -0.27044202, -0.27869427],\n",
              "       [-0.41703256,  0.02585317,  0.00219263, -0.00431763, -0.34501799,\n",
              "        -0.17264856,  0.43562386,  0.01852111, -0.20487133, -0.35879303,\n",
              "        -0.03716072, -0.56066949],\n",
              "       [ 0.22714599, -0.10084693,  0.2812062 ,  0.52960393, -0.07278283,\n",
              "        -0.16454779,  0.33215523, -0.09458543, -0.06379264, -0.16331913,\n",
              "        -0.53177936,  0.33689554],\n",
              "       [-0.14010307, -0.42055662,  0.38704959, -0.17696595,  0.32646885,\n",
              "        -0.27473006,  0.21115335,  0.29128587,  0.06495082,  0.50519544,\n",
              "        -0.11721784, -0.19418074],\n",
              "       [-0.21514345, -0.16537339,  0.24567058, -0.00884781, -0.02342139,\n",
              "        -0.26340838, -0.76277011,  0.09048218, -0.19859134, -0.3066833 ,\n",
              "        -0.26370786, -0.05440426]])"
            ]
          },
          "metadata": {},
          "execution_count": 30
        }
      ]
    },
    {
      "cell_type": "code",
      "source": [
        "idx = np.argsort(val_propres)[::-1]\n",
        "vect_propres_trie = vect_propres[:,idx]"
      ],
      "metadata": {
        "id": "r5nqNFP7k8Za"
      },
      "id": "r5nqNFP7k8Za",
      "execution_count": 43,
      "outputs": []
    },
    {
      "cell_type": "code",
      "source": [
        "# matrice de projection\n",
        "matrice_projection  = vect_propres_trie[:,:5]"
      ],
      "metadata": {
        "id": "QnR82y7imNA6"
      },
      "id": "QnR82y7imNA6",
      "execution_count": 47,
      "outputs": []
    },
    {
      "cell_type": "code",
      "source": [
        "# pca\n",
        "df_pca = X.dot(matrice_projection)\n",
        "df_pca"
      ],
      "metadata": {
        "id": "V4-UrqRQsGVl",
        "outputId": "7b4bf938-8b10-415a-e28d-62dec4ccbb9b",
        "colab": {
          "base_uri": "https://localhost:8080/",
          "height": 423
        }
      },
      "id": "V4-UrqRQsGVl",
      "execution_count": 55,
      "outputs": [
        {
          "output_type": "execute_result",
          "data": {
            "text/plain": [
              "               0           1           2          3           4\n",
              "0       1.793895   19.386417   21.282718  -6.066870    4.864957\n",
              "1       2.096551   43.296457   41.274936  -8.627523   13.558482\n",
              "2       2.009695   31.484417   31.600931  -7.457600    9.151386\n",
              "3       3.748665   34.707329   35.028686  -8.597309   11.275687\n",
              "4       0.933321   18.724924   22.265400  -6.102261    3.811324\n",
              "...          ...         ...         ...        ...         ...\n",
              "1138 -341.971027 -233.033362  424.534418 -21.429371 -411.333077\n",
              "1139 -341.836141 -234.201841  422.791303 -20.944336 -411.517743\n",
              "1140 -342.566744 -229.632589  427.715211 -21.614120 -410.192383\n",
              "1141 -343.137294 -223.107196  434.508249 -22.351930 -408.235320\n",
              "1142 -343.328374 -229.972576  428.395049 -21.457118 -410.968517\n",
              "\n",
              "[1143 rows x 5 columns]"
            ],
            "text/html": [
              "\n",
              "  <div id=\"df-58f85ec3-873a-4d40-ac2b-5b1557a83e54\">\n",
              "    <div class=\"colab-df-container\">\n",
              "      <div>\n",
              "<style scoped>\n",
              "    .dataframe tbody tr th:only-of-type {\n",
              "        vertical-align: middle;\n",
              "    }\n",
              "\n",
              "    .dataframe tbody tr th {\n",
              "        vertical-align: top;\n",
              "    }\n",
              "\n",
              "    .dataframe thead th {\n",
              "        text-align: right;\n",
              "    }\n",
              "</style>\n",
              "<table border=\"1\" class=\"dataframe\">\n",
              "  <thead>\n",
              "    <tr style=\"text-align: right;\">\n",
              "      <th></th>\n",
              "      <th>0</th>\n",
              "      <th>1</th>\n",
              "      <th>2</th>\n",
              "      <th>3</th>\n",
              "      <th>4</th>\n",
              "    </tr>\n",
              "  </thead>\n",
              "  <tbody>\n",
              "    <tr>\n",
              "      <th>0</th>\n",
              "      <td>1.793895</td>\n",
              "      <td>19.386417</td>\n",
              "      <td>21.282718</td>\n",
              "      <td>-6.066870</td>\n",
              "      <td>4.864957</td>\n",
              "    </tr>\n",
              "    <tr>\n",
              "      <th>1</th>\n",
              "      <td>2.096551</td>\n",
              "      <td>43.296457</td>\n",
              "      <td>41.274936</td>\n",
              "      <td>-8.627523</td>\n",
              "      <td>13.558482</td>\n",
              "    </tr>\n",
              "    <tr>\n",
              "      <th>2</th>\n",
              "      <td>2.009695</td>\n",
              "      <td>31.484417</td>\n",
              "      <td>31.600931</td>\n",
              "      <td>-7.457600</td>\n",
              "      <td>9.151386</td>\n",
              "    </tr>\n",
              "    <tr>\n",
              "      <th>3</th>\n",
              "      <td>3.748665</td>\n",
              "      <td>34.707329</td>\n",
              "      <td>35.028686</td>\n",
              "      <td>-8.597309</td>\n",
              "      <td>11.275687</td>\n",
              "    </tr>\n",
              "    <tr>\n",
              "      <th>4</th>\n",
              "      <td>0.933321</td>\n",
              "      <td>18.724924</td>\n",
              "      <td>22.265400</td>\n",
              "      <td>-6.102261</td>\n",
              "      <td>3.811324</td>\n",
              "    </tr>\n",
              "    <tr>\n",
              "      <th>...</th>\n",
              "      <td>...</td>\n",
              "      <td>...</td>\n",
              "      <td>...</td>\n",
              "      <td>...</td>\n",
              "      <td>...</td>\n",
              "    </tr>\n",
              "    <tr>\n",
              "      <th>1138</th>\n",
              "      <td>-341.971027</td>\n",
              "      <td>-233.033362</td>\n",
              "      <td>424.534418</td>\n",
              "      <td>-21.429371</td>\n",
              "      <td>-411.333077</td>\n",
              "    </tr>\n",
              "    <tr>\n",
              "      <th>1139</th>\n",
              "      <td>-341.836141</td>\n",
              "      <td>-234.201841</td>\n",
              "      <td>422.791303</td>\n",
              "      <td>-20.944336</td>\n",
              "      <td>-411.517743</td>\n",
              "    </tr>\n",
              "    <tr>\n",
              "      <th>1140</th>\n",
              "      <td>-342.566744</td>\n",
              "      <td>-229.632589</td>\n",
              "      <td>427.715211</td>\n",
              "      <td>-21.614120</td>\n",
              "      <td>-410.192383</td>\n",
              "    </tr>\n",
              "    <tr>\n",
              "      <th>1141</th>\n",
              "      <td>-343.137294</td>\n",
              "      <td>-223.107196</td>\n",
              "      <td>434.508249</td>\n",
              "      <td>-22.351930</td>\n",
              "      <td>-408.235320</td>\n",
              "    </tr>\n",
              "    <tr>\n",
              "      <th>1142</th>\n",
              "      <td>-343.328374</td>\n",
              "      <td>-229.972576</td>\n",
              "      <td>428.395049</td>\n",
              "      <td>-21.457118</td>\n",
              "      <td>-410.968517</td>\n",
              "    </tr>\n",
              "  </tbody>\n",
              "</table>\n",
              "<p>1143 rows × 5 columns</p>\n",
              "</div>\n",
              "      <button class=\"colab-df-convert\" onclick=\"convertToInteractive('df-58f85ec3-873a-4d40-ac2b-5b1557a83e54')\"\n",
              "              title=\"Convert this dataframe to an interactive table.\"\n",
              "              style=\"display:none;\">\n",
              "        \n",
              "  <svg xmlns=\"http://www.w3.org/2000/svg\" height=\"24px\"viewBox=\"0 0 24 24\"\n",
              "       width=\"24px\">\n",
              "    <path d=\"M0 0h24v24H0V0z\" fill=\"none\"/>\n",
              "    <path d=\"M18.56 5.44l.94 2.06.94-2.06 2.06-.94-2.06-.94-.94-2.06-.94 2.06-2.06.94zm-11 1L8.5 8.5l.94-2.06 2.06-.94-2.06-.94L8.5 2.5l-.94 2.06-2.06.94zm10 10l.94 2.06.94-2.06 2.06-.94-2.06-.94-.94-2.06-.94 2.06-2.06.94z\"/><path d=\"M17.41 7.96l-1.37-1.37c-.4-.4-.92-.59-1.43-.59-.52 0-1.04.2-1.43.59L10.3 9.45l-7.72 7.72c-.78.78-.78 2.05 0 2.83L4 21.41c.39.39.9.59 1.41.59.51 0 1.02-.2 1.41-.59l7.78-7.78 2.81-2.81c.8-.78.8-2.07 0-2.86zM5.41 20L4 18.59l7.72-7.72 1.47 1.35L5.41 20z\"/>\n",
              "  </svg>\n",
              "      </button>\n",
              "      \n",
              "  <style>\n",
              "    .colab-df-container {\n",
              "      display:flex;\n",
              "      flex-wrap:wrap;\n",
              "      gap: 12px;\n",
              "    }\n",
              "\n",
              "    .colab-df-convert {\n",
              "      background-color: #E8F0FE;\n",
              "      border: none;\n",
              "      border-radius: 50%;\n",
              "      cursor: pointer;\n",
              "      display: none;\n",
              "      fill: #1967D2;\n",
              "      height: 32px;\n",
              "      padding: 0 0 0 0;\n",
              "      width: 32px;\n",
              "    }\n",
              "\n",
              "    .colab-df-convert:hover {\n",
              "      background-color: #E2EBFA;\n",
              "      box-shadow: 0px 1px 2px rgba(60, 64, 67, 0.3), 0px 1px 3px 1px rgba(60, 64, 67, 0.15);\n",
              "      fill: #174EA6;\n",
              "    }\n",
              "\n",
              "    [theme=dark] .colab-df-convert {\n",
              "      background-color: #3B4455;\n",
              "      fill: #D2E3FC;\n",
              "    }\n",
              "\n",
              "    [theme=dark] .colab-df-convert:hover {\n",
              "      background-color: #434B5C;\n",
              "      box-shadow: 0px 1px 3px 1px rgba(0, 0, 0, 0.15);\n",
              "      filter: drop-shadow(0px 1px 2px rgba(0, 0, 0, 0.3));\n",
              "      fill: #FFFFFF;\n",
              "    }\n",
              "  </style>\n",
              "\n",
              "      <script>\n",
              "        const buttonEl =\n",
              "          document.querySelector('#df-58f85ec3-873a-4d40-ac2b-5b1557a83e54 button.colab-df-convert');\n",
              "        buttonEl.style.display =\n",
              "          google.colab.kernel.accessAllowed ? 'block' : 'none';\n",
              "\n",
              "        async function convertToInteractive(key) {\n",
              "          const element = document.querySelector('#df-58f85ec3-873a-4d40-ac2b-5b1557a83e54');\n",
              "          const dataTable =\n",
              "            await google.colab.kernel.invokeFunction('convertToInteractive',\n",
              "                                                     [key], {});\n",
              "          if (!dataTable) return;\n",
              "\n",
              "          const docLinkHtml = 'Like what you see? Visit the ' +\n",
              "            '<a target=\"_blank\" href=https://colab.research.google.com/notebooks/data_table.ipynb>data table notebook</a>'\n",
              "            + ' to learn more about interactive tables.';\n",
              "          element.innerHTML = '';\n",
              "          dataTable['output_type'] = 'display_data';\n",
              "          await google.colab.output.renderOutput(dataTable, element);\n",
              "          const docLink = document.createElement('div');\n",
              "          docLink.innerHTML = docLinkHtml;\n",
              "          element.appendChild(docLink);\n",
              "        }\n",
              "      </script>\n",
              "    </div>\n",
              "  </div>\n",
              "  "
            ]
          },
          "metadata": {},
          "execution_count": 55
        }
      ]
    },
    {
      "cell_type": "markdown",
      "source": [
        "# Appliquer CHA"
      ],
      "metadata": {
        "id": "CfQIUxgstlEG"
      },
      "id": "CfQIUxgstlEG"
    },
    {
      "cell_type": "code",
      "source": [
        "from sklearn.cluster import AgglomerativeClustering\n",
        "import numpy as np\n",
        "import matplotlib.pyplot as plt\n",
        "from scipy.cluster.hierarchy import dendrogram , linkage\n",
        "#Linkage Matrix\n",
        "Z = linkage(df_pca, method = 'ward')\n",
        "#plotting dendrogram\n",
        "dendro = dendrogram(Z)\n",
        "plt.title('Dendrogram')\n",
        "plt.ylabel('Euclidean distance')\n",
        "plt.show()"
      ],
      "metadata": {
        "id": "brSRfduStrtC",
        "outputId": "5ba0a25e-3315-4c1d-f221-28cc461310d6",
        "colab": {
          "base_uri": "https://localhost:8080/",
          "height": 284
        }
      },
      "id": "brSRfduStrtC",
      "execution_count": 51,
      "outputs": [
        {
          "output_type": "display_data",
          "data": {
            "text/plain": [
              "<Figure size 432x288 with 1 Axes>"
            ],
            "image/png": "[encoded data removed]"
          },
          "metadata": {
            "needs_background": "light"
          }
        }
      ]
    },
    {
      "cell_type": "code",
      "source": [
        "# methode Eblow\n",
        "from sklearn.cluster import KMeans\n",
        "wcc=[]\n",
        "for i in range (2,10):\n",
        "    modele=KMeans(n_clusters=i)\n",
        "    modele.fit(df_pca)\n",
        "    wcc.append(modele.inertia_)\n",
        "plt.plot(range(2,10), wcc)\n",
        "plt.title('Elbow method')\n",
        "plt.xlabel('numero cluster')\n",
        "plt.ylabel('Inertia')\n",
        "plt.show"
      ],
      "metadata": {
        "id": "chn7zqoBwA3r",
        "outputId": "dfc38d18-0e57-4d59-d04a-616ef08757d9",
        "colab": {
          "base_uri": "https://localhost:8080/",
          "height": 623
        }
      },
      "id": "chn7zqoBwA3r",
      "execution_count": 52,
      "outputs": [
        {
          "output_type": "stream",
          "name": "stderr",
          "text": [
            "/usr/local/lib/python3.9/dist-packages/sklearn/cluster/_kmeans.py:870: FutureWarning: The default value of `n_init` will change from 10 to 'auto' in 1.4. Set the value of `n_init` explicitly to suppress the warning\n",
            "  warnings.warn(\n",
            "/usr/local/lib/python3.9/dist-packages/sklearn/cluster/_kmeans.py:870: FutureWarning: The default value of `n_init` will change from 10 to 'auto' in 1.4. Set the value of `n_init` explicitly to suppress the warning\n",
            "  warnings.warn(\n",
            "/usr/local/lib/python3.9/dist-packages/sklearn/cluster/_kmeans.py:870: FutureWarning: The default value of `n_init` will change from 10 to 'auto' in 1.4. Set the value of `n_init` explicitly to suppress the warning\n",
            "  warnings.warn(\n",
            "/usr/local/lib/python3.9/dist-packages/sklearn/cluster/_kmeans.py:870: FutureWarning: The default value of `n_init` will change from 10 to 'auto' in 1.4. Set the value of `n_init` explicitly to suppress the warning\n",
            "  warnings.warn(\n",
            "/usr/local/lib/python3.9/dist-packages/sklearn/cluster/_kmeans.py:870: FutureWarning: The default value of `n_init` will change from 10 to 'auto' in 1.4. Set the value of `n_init` explicitly to suppress the warning\n",
            "  warnings.warn(\n",
            "/usr/local/lib/python3.9/dist-packages/sklearn/cluster/_kmeans.py:870: FutureWarning: The default value of `n_init` will change from 10 to 'auto' in 1.4. Set the value of `n_init` explicitly to suppress the warning\n",
            "  warnings.warn(\n",
            "/usr/local/lib/python3.9/dist-packages/sklearn/cluster/_kmeans.py:870: FutureWarning: The default value of `n_init` will change from 10 to 'auto' in 1.4. Set the value of `n_init` explicitly to suppress the warning\n",
            "  warnings.warn(\n",
            "/usr/local/lib/python3.9/dist-packages/sklearn/cluster/_kmeans.py:870: FutureWarning: The default value of `n_init` will change from 10 to 'auto' in 1.4. Set the value of `n_init` explicitly to suppress the warning\n",
            "  warnings.warn(\n"
          ]
        },
        {
          "output_type": "execute_result",
          "data": {
            "text/plain": [
              "<function matplotlib.pyplot.show(close=None, block=None)>"
            ]
          },
          "metadata": {},
          "execution_count": 52
        },
        {
          "output_type": "display_data",
          "data": {
            "text/plain": [
              "<Figure size 432x288 with 1 Axes>"
            ],
            "image/png": "[encoded data removed]"
          },
          "metadata": {
            "needs_background": "light"
          }
        }
      ]
    },
    {
      "cell_type": "code",
      "source": [
        "kmeans = KMeans(n_clusters=5, init ='k-means++', max_iter=300, n_init=10,random_state=0 )\n",
        "k_fit = kmeans.fit(df_pca)"
      ],
      "metadata": {
        "id": "xwPWlJsXxOaK"
      },
      "id": "xwPWlJsXxOaK",
      "execution_count": 59,
      "outputs": []
    }
  ],
  "metadata": {
    "kernelspec": {
      "display_name": "Python 3 (ipykernel)",
      "language": "python",
      "name": "python3"
    },
    "language_info": {
      "codemirror_mode": {
        "name": "ipython",
        "version": 3
      },
      "file_extension": ".py",
      "mimetype": "text/x-python",
      "name": "python",
      "nbconvert_exporter": "python",
      "pygments_lexer": "ipython3",
      "version": "3.9.13"
    },
    "colab": {
      "provenance": []
    }
  },
  "nbformat": 4,
  "nbformat_minor": 5
}